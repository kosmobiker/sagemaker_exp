{
 "cells": [
  {
   "cell_type": "code",
   "execution_count": 2,
   "id": "f4233f22-a094-479e-b9be-bf3c20694d46",
   "metadata": {
    "tags": []
   },
   "outputs": [
    {
     "name": "stdout",
     "output_type": "stream",
     "text": [
      "sagemaker bucket: sagemaker-eu-west-1-595779774521\n",
      "sagemaker session region: eu-west-1\n"
     ]
    }
   ],
   "source": [
    "import os\n",
    "import pandas as pd\n",
    "from sagemaker.huggingface.model import HuggingFaceModel\n",
    "from sagemaker.s3 import s3_path_join\n",
    "from sagemaker.serializers import JSONSerializer\n",
    "from sagemaker.deserializers import JSONDeserializer\n",
    "\n",
    "import boto3\n",
    "import sagemaker\n",
    "import threading\n",
    "import time\n",
    "import json\n",
    "import matplotlib.pyplot as plt\n",
    "\n",
    "pd.set_option('display.max_columns', None)\n",
    "pd.set_option('display.max_colwidth', None)\n",
    "pd.set_option('display.float_format','{:.3f}'.format)\n",
    "\n",
    "\n",
    "\n",
    "# Hub Model configuration. https://huggingface.co/models\n",
    "hub = {\n",
    "    'HF_MODEL_ID':'unitary/unbiased-toxic-roberta',\n",
    "    'HF_TASK':'text-classification'\n",
    "}\n",
    "\n",
    "#### IF LOCAL\n",
    "# ROLE = os.getenv('SAGEMAKER_ROLE')\n",
    "# sagemaker_session_bucket = 'sagemaker-godeltech'\n",
    "# sess = sagemaker.Session(default_bucket=sagemaker_session_bucket)\n",
    "\n",
    "\n",
    "#### IF SAGEMAKER STUDIO\n",
    "ROLE = sagemaker.get_execution_role()\n",
    "sess = sagemaker.Session()\n",
    "\n",
    "\n",
    "print(f\"sagemaker bucket: {sess.default_bucket()}\")\n",
    "print(f\"sagemaker session region: {sess.boto_region_name}\")"
   ]
  },
  {
   "cell_type": "code",
   "execution_count": 3,
   "id": "c1ebfe83-5910-4bf4-9b20-2c66b41af1fd",
   "metadata": {
    "tags": []
   },
   "outputs": [],
   "source": [
    "repository=\"unitary/unbiased-toxic-roberta\"\n",
    "model_id = \"unbiased-toxic-roberta\""
   ]
  },
  {
   "cell_type": "markdown",
   "id": "2e09946b-101a-4b12-a180-b3bb78ce3eaf",
   "metadata": {},
   "source": [
    "SageMaker doesn't support git lfs by default. You need to install it ....\n",
    "```\n",
    "sudo curl -s https://packagecloud.io/install/repositories/github/git-lfs/script.rpm.sh | sudo bash\n",
    "yum install git-lfs -y\n",
    "git lfs install\n",
    "```\n",
    "...and download model (it is almost 1 Gb).\n",
    "\n",
    "```\n",
    "git clone https://huggingface.co/unitary/unbiased-toxic-roberta\n",
    "```\n",
    "\n",
    "Then copy the `inderence.py` to folder with model and pack into the ***tar.gz*** archive (SageMaker prefers tar.gz 😀)"
   ]
  },
  {
   "cell_type": "code",
   "execution_count": 50,
   "id": "bf585594-ff14-4e13-8ebb-fc125833071f",
   "metadata": {},
   "outputs": [
    {
     "name": "stdout",
     "output_type": "stream",
     "text": [
      "README.md\n",
      "code/\n",
      "code/.ipynb_checkpoints/\n",
      "code/.ipynb_checkpoints/inference-checkpoint.py\n",
      "code/inference.py\n",
      "config.json\n",
      "flax_model.msgpack\n",
      "merges.txt\n",
      "pytorch_model.bin\n",
      "special_tokens_map.json\n",
      "tokenizer_config.json\n",
      "vocab.json\n"
     ]
    }
   ],
   "source": [
    "%%bash\n",
    "\n",
    "\n",
    "cd $model_id\n",
    "mkdir code\n",
    "cp -r ../godel_demo/aux/inference.py ./code/inference.py\n",
    "tar zcvf model.tar.gz *"
   ]
  },
  {
   "cell_type": "code",
   "execution_count": 8,
   "id": "cc2eb46e-6567-4c92-8e4f-8f7bbe5e75d6",
   "metadata": {
    "tags": []
   },
   "outputs": [
    {
     "name": "stdout",
     "output_type": "stream",
     "text": [
      "/root/sagemaker_exp/godel_demo\n"
     ]
    }
   ],
   "source": [
    "!pwd"
   ]
  },
  {
   "cell_type": "code",
   "execution_count": 4,
   "id": "9cd899c8-13e1-482f-ba1d-60f30ace2e3b",
   "metadata": {
    "tags": []
   },
   "outputs": [],
   "source": [
    "# cust_model_url = sess.upload_data(\n",
    "#     path=f\"{model_id}/model.tar.gz\",\n",
    "#     key_prefix=\"custom_model\",\n",
    "# )\n",
    "# print('Uploaded!')\n",
    "cust_model_url = f's3://{sess.default_bucket()}/custom_model/model.tar.gz'"
   ]
  },
  {
   "cell_type": "code",
   "execution_count": 5,
   "id": "4fed1b63-fea7-437a-8b0a-121590603417",
   "metadata": {
    "tags": []
   },
   "outputs": [
    {
     "name": "stdout",
     "output_type": "stream",
     "text": [
      "-----!CPU times: user 361 ms, sys: 33.1 ms, total: 394 ms\n",
      "Wall time: 2min 32s\n"
     ]
    }
   ],
   "source": [
    "%%time\n",
    "\n",
    "# create Hugging Face Model Class\n",
    "huggingface_model = HuggingFaceModel(\n",
    "   model_data=cust_model_url,    # path to your model and script\n",
    "   role=ROLE,                    # iam role with permissions to create an Endpoint\n",
    "   transformers_version=\"4.12\",  # transformers version used\n",
    "   pytorch_version=\"1.9\",        # pytorch version used\n",
    "   py_version='py38',            # python version used\n",
    ")\n",
    "\n",
    "# deploy the endpoint endpoint\n",
    "predictor = huggingface_model.deploy(\n",
    "    initial_instance_count=1,\n",
    "    instance_type=\"ml.m5.large\",\n",
    "    endpoint_name=f\"toxicbert-custom-endpoint\",\n",
    "    serializer=JSONSerializer(),\n",
    "    deserializer=JSONDeserializer()\n",
    "    )"
   ]
  },
  {
   "cell_type": "markdown",
   "id": "623b129e-c6dd-4110-a582-b328e2cf6052",
   "metadata": {},
   "source": [
    "<p><span style=\"background-color: #cc99ff;\"><strong>Let's try our model on kayne west scandal tweet</strong></span> <a href=\"https://pitchfork.com/news/kanye-west-locked-out-of-twitter-following-anti-semitic-tweet/\">Link</a></p>\n",
    "\n",
    "<div>\n",
    "<img src=\"https://images.ctfassets.net/tyagww523muq/hpJbwB0JgrBUNP7noWfuR/8630a435de4aa0f9a1478200366edd7a/Untitled_design__21_.png?w=1045&h=588&q=50&fit=fill&f=faces\" width=\"650\"/>\n",
    "</div>"
   ]
  },
  {
   "cell_type": "code",
   "execution_count": 6,
   "id": "b6ddb1a7-b5ad-4bb2-8171-dbc4f4485c14",
   "metadata": {
    "tags": []
   },
   "outputs": [],
   "source": [
    "kayne_west_tweet = \"\"\"I’m a bit sleepy tonight but when I wake up I’m going death con 3 On JEWISH PEOPLE.\n",
    "The funny thing is I actually can’t be Anti Semitic because black people are actually Jew \n",
    "also You guys have toyed with me and tried to black ball anyone whoever opposes your agenda.\"\"\""
   ]
  },
  {
   "cell_type": "code",
   "execution_count": 7,
   "id": "d3fda0b8-de02-4a92-8516-1b501c1a4758",
   "metadata": {
    "tags": []
   },
   "outputs": [
    {
     "data": {
      "text/plain": [
       "['[{\"toxicity\": \"0.587\", \"severe_toxicity\": \"0.001\", \"obscene\": \"0.008\", \"identity_attack\": \"0.521\", \"insult\": \"0.086\", \"threat\": \"0.014\", \"sexual_explicit\": \"0.0\", \"male\": \"0.007\", \"female\": \"0.001\", \"homosexual_gay_or_lesbian\": \"0.001\", \"christian\": \"0.003\", \"jewish\": \"0.998\", \"muslim\": \"0.003\", \"black\": \"0.972\", \"white\": \"0.006\", \"psychiatric_or_mental_illness\": \"0.001\"}]',\n",
       " 'application/json']"
      ]
     },
     "execution_count": 7,
     "metadata": {},
     "output_type": "execute_result"
    }
   ],
   "source": [
    "test = predictor.predict({'inputs' : [kayne_west_tweet]})\n",
    "test"
   ]
  },
  {
   "cell_type": "code",
   "execution_count": 8,
   "id": "82edf3e0-90b7-4749-a078-cf3614de7ad0",
   "metadata": {
    "tags": []
   },
   "outputs": [],
   "source": [
    "runtime= boto3.client('runtime.sagemaker')\n",
    "response = runtime.invoke_endpoint(EndpointName = 'toxicbert-custom-endpoint',\n",
    "                                       ContentType = 'application/json',\n",
    "                                       Body = json.dumps({'inputs' : kayne_west_tweet})\n",
    "                                  )"
   ]
  },
  {
   "cell_type": "code",
   "execution_count": 9,
   "id": "0ea3f222-df6d-44a4-b98d-30ef64308718",
   "metadata": {
    "tags": []
   },
   "outputs": [
    {
     "data": {
      "text/plain": [
       "['[{\"toxicity\": \"0.587\", \"severe_toxicity\": \"0.001\", \"obscene\": \"0.008\", \"identity_attack\": \"0.521\", \"insult\": \"0.086\", \"threat\": \"0.014\", \"sexual_explicit\": \"0.0\", \"male\": \"0.007\", \"female\": \"0.001\", \"homosexual_gay_or_lesbian\": \"0.001\", \"christian\": \"0.003\", \"jewish\": \"0.998\", \"muslim\": \"0.003\", \"black\": \"0.972\", \"white\": \"0.006\", \"psychiatric_or_mental_illness\": \"0.001\"}]',\n",
       " 'application/json']"
      ]
     },
     "execution_count": 9,
     "metadata": {},
     "output_type": "execute_result"
    }
   ],
   "source": [
    "json.loads(response['Body'].read().decode('utf-8'))"
   ]
  },
  {
   "cell_type": "code",
   "execution_count": 10,
   "id": "aca5ab1c-04d5-44dd-83c5-f50b01219b07",
   "metadata": {
    "tags": []
   },
   "outputs": [],
   "source": [
    "test_inputs = [kayne_west_tweet,\n",
    "    \"I like you. I love you\", \"There is nothing toxic in this comment\",\n",
    "    \"last time I saw Joshua he looked like a dickhead\",\n",
    "    \"I think modern politics are hypocritics\",\n",
    "    \"Somebody tell this noob to plant the bomb on the B, not the A.\",\n",
    "    \"I thing all Kryptonians are gangsters and going to rob me\",\n",
    "    \"lalallalalalalalala this is a non-sense text\", \"98766654321\", \"      \",\n",
    "    \"We're watching you. Scum. Stop right there, criminal bastard!\", \n",
    "    \"I used to be an adventurer like you, until I took an arrow to the knee.\",\n",
    "   ]"
   ]
  },
  {
   "cell_type": "code",
   "execution_count": 11,
   "id": "f57cb93a-db32-4722-b32d-b177012de8e9",
   "metadata": {
    "tags": []
   },
   "outputs": [],
   "source": [
    "input_text = pd.DataFrame(test_inputs, columns=['input_text'])    "
   ]
  },
  {
   "cell_type": "code",
   "execution_count": 12,
   "id": "8168f532-64d3-4501-a6e6-40bf43f67386",
   "metadata": {
    "tags": []
   },
   "outputs": [],
   "source": [
    "outputs = json.loads(predictor.predict({'inputs' : test_inputs})[0])"
   ]
  },
  {
   "cell_type": "code",
   "execution_count": 13,
   "id": "2734c27c-2074-4b10-acde-87c3ea8bfc30",
   "metadata": {
    "tags": []
   },
   "outputs": [
    {
     "data": {
      "text/html": [
       "<div>\n",
       "<style scoped>\n",
       "    .dataframe tbody tr th:only-of-type {\n",
       "        vertical-align: middle;\n",
       "    }\n",
       "\n",
       "    .dataframe tbody tr th {\n",
       "        vertical-align: top;\n",
       "    }\n",
       "\n",
       "    .dataframe thead th {\n",
       "        text-align: right;\n",
       "    }\n",
       "</style>\n",
       "<table border=\"1\" class=\"dataframe\">\n",
       "  <thead>\n",
       "    <tr style=\"text-align: right;\">\n",
       "      <th></th>\n",
       "      <th>input_text</th>\n",
       "      <th>toxicity</th>\n",
       "      <th>severe_toxicity</th>\n",
       "      <th>obscene</th>\n",
       "      <th>identity_attack</th>\n",
       "      <th>insult</th>\n",
       "      <th>threat</th>\n",
       "      <th>sexual_explicit</th>\n",
       "      <th>male</th>\n",
       "      <th>female</th>\n",
       "      <th>homosexual_gay_or_lesbian</th>\n",
       "      <th>christian</th>\n",
       "      <th>jewish</th>\n",
       "      <th>muslim</th>\n",
       "      <th>black</th>\n",
       "      <th>white</th>\n",
       "      <th>psychiatric_or_mental_illness</th>\n",
       "    </tr>\n",
       "  </thead>\n",
       "  <tbody>\n",
       "    <tr>\n",
       "      <th>0</th>\n",
       "      <td>I’m a bit sleepy tonight but when I wake up I’m going death con 3 On JEWISH PEOPLE.\\nThe funny thing is I actually can’t be Anti Semitic because black people are actually Jew \\nalso You guys have toyed with me and tried to black ball anyone whoever opposes your agenda.</td>\n",
       "      <td>0.587</td>\n",
       "      <td>0.001</td>\n",
       "      <td>0.008</td>\n",
       "      <td>0.521</td>\n",
       "      <td>0.086</td>\n",
       "      <td>0.014</td>\n",
       "      <td>0.0</td>\n",
       "      <td>0.007</td>\n",
       "      <td>0.001</td>\n",
       "      <td>0.001</td>\n",
       "      <td>0.003</td>\n",
       "      <td>0.998</td>\n",
       "      <td>0.003</td>\n",
       "      <td>0.972</td>\n",
       "      <td>0.006</td>\n",
       "      <td>0.001</td>\n",
       "    </tr>\n",
       "    <tr>\n",
       "      <th>1</th>\n",
       "      <td>I like you. I love you</td>\n",
       "      <td>0.001</td>\n",
       "      <td>0.0</td>\n",
       "      <td>0.0</td>\n",
       "      <td>0.0</td>\n",
       "      <td>0.0</td>\n",
       "      <td>0.0</td>\n",
       "      <td>0.0</td>\n",
       "      <td>0.0</td>\n",
       "      <td>0.0</td>\n",
       "      <td>0.0</td>\n",
       "      <td>0.0</td>\n",
       "      <td>0.0</td>\n",
       "      <td>0.0</td>\n",
       "      <td>0.0</td>\n",
       "      <td>0.0</td>\n",
       "      <td>0.0</td>\n",
       "    </tr>\n",
       "    <tr>\n",
       "      <th>2</th>\n",
       "      <td>There is nothing toxic in this comment</td>\n",
       "      <td>0.001</td>\n",
       "      <td>0.0</td>\n",
       "      <td>0.0</td>\n",
       "      <td>0.0</td>\n",
       "      <td>0.001</td>\n",
       "      <td>0.0</td>\n",
       "      <td>0.0</td>\n",
       "      <td>0.0</td>\n",
       "      <td>0.0</td>\n",
       "      <td>0.0</td>\n",
       "      <td>0.0</td>\n",
       "      <td>0.0</td>\n",
       "      <td>0.0</td>\n",
       "      <td>0.0</td>\n",
       "      <td>0.0</td>\n",
       "      <td>0.0</td>\n",
       "    </tr>\n",
       "    <tr>\n",
       "      <th>3</th>\n",
       "      <td>last time I saw Joshua he looked like a dickhead</td>\n",
       "      <td>0.99</td>\n",
       "      <td>0.0</td>\n",
       "      <td>0.014</td>\n",
       "      <td>0.001</td>\n",
       "      <td>0.986</td>\n",
       "      <td>0.001</td>\n",
       "      <td>0.002</td>\n",
       "      <td>0.005</td>\n",
       "      <td>0.001</td>\n",
       "      <td>0.0</td>\n",
       "      <td>0.001</td>\n",
       "      <td>0.0</td>\n",
       "      <td>0.0</td>\n",
       "      <td>0.0</td>\n",
       "      <td>0.001</td>\n",
       "      <td>0.003</td>\n",
       "    </tr>\n",
       "    <tr>\n",
       "      <th>4</th>\n",
       "      <td>I think modern politics are hypocritics</td>\n",
       "      <td>0.983</td>\n",
       "      <td>0.0</td>\n",
       "      <td>0.0</td>\n",
       "      <td>0.002</td>\n",
       "      <td>0.971</td>\n",
       "      <td>0.0</td>\n",
       "      <td>0.0</td>\n",
       "      <td>0.002</td>\n",
       "      <td>0.001</td>\n",
       "      <td>0.0</td>\n",
       "      <td>0.001</td>\n",
       "      <td>0.0</td>\n",
       "      <td>0.0</td>\n",
       "      <td>0.0</td>\n",
       "      <td>0.0</td>\n",
       "      <td>0.001</td>\n",
       "    </tr>\n",
       "    <tr>\n",
       "      <th>5</th>\n",
       "      <td>Somebody tell this noob to plant the bomb on the B, not the A.</td>\n",
       "      <td>0.248</td>\n",
       "      <td>0.0</td>\n",
       "      <td>0.003</td>\n",
       "      <td>0.001</td>\n",
       "      <td>0.089</td>\n",
       "      <td>0.024</td>\n",
       "      <td>0.001</td>\n",
       "      <td>0.001</td>\n",
       "      <td>0.0</td>\n",
       "      <td>0.0</td>\n",
       "      <td>0.0</td>\n",
       "      <td>0.0</td>\n",
       "      <td>0.0</td>\n",
       "      <td>0.0</td>\n",
       "      <td>0.0</td>\n",
       "      <td>0.001</td>\n",
       "    </tr>\n",
       "    <tr>\n",
       "      <th>6</th>\n",
       "      <td>I thing all Kryptonians are gangsters and going to rob me</td>\n",
       "      <td>0.657</td>\n",
       "      <td>0.0</td>\n",
       "      <td>0.0</td>\n",
       "      <td>0.016</td>\n",
       "      <td>0.423</td>\n",
       "      <td>0.01</td>\n",
       "      <td>0.0</td>\n",
       "      <td>0.001</td>\n",
       "      <td>0.0</td>\n",
       "      <td>0.0</td>\n",
       "      <td>0.0</td>\n",
       "      <td>0.0</td>\n",
       "      <td>0.001</td>\n",
       "      <td>0.0</td>\n",
       "      <td>0.0</td>\n",
       "      <td>0.001</td>\n",
       "    </tr>\n",
       "    <tr>\n",
       "      <th>7</th>\n",
       "      <td>lalallalalalalalala this is a non-sense text</td>\n",
       "      <td>0.001</td>\n",
       "      <td>0.0</td>\n",
       "      <td>0.0</td>\n",
       "      <td>0.0</td>\n",
       "      <td>0.0</td>\n",
       "      <td>0.0</td>\n",
       "      <td>0.0</td>\n",
       "      <td>0.0</td>\n",
       "      <td>0.0</td>\n",
       "      <td>0.0</td>\n",
       "      <td>0.0</td>\n",
       "      <td>0.0</td>\n",
       "      <td>0.0</td>\n",
       "      <td>0.0</td>\n",
       "      <td>0.0</td>\n",
       "      <td>0.0</td>\n",
       "    </tr>\n",
       "    <tr>\n",
       "      <th>8</th>\n",
       "      <td>98766654321</td>\n",
       "      <td>0.0</td>\n",
       "      <td>0.0</td>\n",
       "      <td>0.0</td>\n",
       "      <td>0.0</td>\n",
       "      <td>0.0</td>\n",
       "      <td>0.0</td>\n",
       "      <td>0.0</td>\n",
       "      <td>0.0</td>\n",
       "      <td>0.0</td>\n",
       "      <td>0.0</td>\n",
       "      <td>0.0</td>\n",
       "      <td>0.0</td>\n",
       "      <td>0.0</td>\n",
       "      <td>0.0</td>\n",
       "      <td>0.0</td>\n",
       "      <td>0.0</td>\n",
       "    </tr>\n",
       "    <tr>\n",
       "      <th>9</th>\n",
       "      <td></td>\n",
       "      <td>0.001</td>\n",
       "      <td>0.0</td>\n",
       "      <td>0.0</td>\n",
       "      <td>0.0</td>\n",
       "      <td>0.0</td>\n",
       "      <td>0.0</td>\n",
       "      <td>0.0</td>\n",
       "      <td>0.0</td>\n",
       "      <td>0.0</td>\n",
       "      <td>0.0</td>\n",
       "      <td>0.0</td>\n",
       "      <td>0.0</td>\n",
       "      <td>0.0</td>\n",
       "      <td>0.0</td>\n",
       "      <td>0.0</td>\n",
       "      <td>0.0</td>\n",
       "    </tr>\n",
       "    <tr>\n",
       "      <th>10</th>\n",
       "      <td>We're watching you. Scum. Stop right there, criminal bastard!</td>\n",
       "      <td>0.998</td>\n",
       "      <td>0.0</td>\n",
       "      <td>0.003</td>\n",
       "      <td>0.003</td>\n",
       "      <td>0.997</td>\n",
       "      <td>0.002</td>\n",
       "      <td>0.002</td>\n",
       "      <td>0.01</td>\n",
       "      <td>0.004</td>\n",
       "      <td>0.007</td>\n",
       "      <td>0.003</td>\n",
       "      <td>0.001</td>\n",
       "      <td>0.001</td>\n",
       "      <td>0.001</td>\n",
       "      <td>0.001</td>\n",
       "      <td>0.004</td>\n",
       "    </tr>\n",
       "    <tr>\n",
       "      <th>11</th>\n",
       "      <td>I used to be an adventurer like you, until I took an arrow to the knee.</td>\n",
       "      <td>0.005</td>\n",
       "      <td>0.0</td>\n",
       "      <td>0.0</td>\n",
       "      <td>0.0</td>\n",
       "      <td>0.002</td>\n",
       "      <td>0.0</td>\n",
       "      <td>0.0</td>\n",
       "      <td>0.0</td>\n",
       "      <td>0.0</td>\n",
       "      <td>0.0</td>\n",
       "      <td>0.0</td>\n",
       "      <td>0.0</td>\n",
       "      <td>0.0</td>\n",
       "      <td>0.0</td>\n",
       "      <td>0.0</td>\n",
       "      <td>0.0</td>\n",
       "    </tr>\n",
       "  </tbody>\n",
       "</table>\n",
       "</div>"
      ],
      "text/plain": [
       "                                                                                                                                                                                                                                                                       input_text  \\\n",
       "0   I’m a bit sleepy tonight but when I wake up I’m going death con 3 On JEWISH PEOPLE.\\nThe funny thing is I actually can’t be Anti Semitic because black people are actually Jew \\nalso You guys have toyed with me and tried to black ball anyone whoever opposes your agenda.   \n",
       "1                                                                                                                                                                                                                                                          I like you. I love you   \n",
       "2                                                                                                                                                                                                                                          There is nothing toxic in this comment   \n",
       "3                                                                                                                                                                                                                                last time I saw Joshua he looked like a dickhead   \n",
       "4                                                                                                                                                                                                                                         I think modern politics are hypocritics   \n",
       "5                                                                                                                                                                                                                  Somebody tell this noob to plant the bomb on the B, not the A.   \n",
       "6                                                                                                                                                                                                                       I thing all Kryptonians are gangsters and going to rob me   \n",
       "7                                                                                                                                                                                                                                    lalallalalalalalala this is a non-sense text   \n",
       "8                                                                                                                                                                                                                                                                     98766654321   \n",
       "9                                                                                                                                                                                                                                                                                   \n",
       "10                                                                                                                                                                                                                  We're watching you. Scum. Stop right there, criminal bastard!   \n",
       "11                                                                                                                                                                                                        I used to be an adventurer like you, until I took an arrow to the knee.   \n",
       "\n",
       "   toxicity severe_toxicity obscene identity_attack insult threat  \\\n",
       "0     0.587           0.001   0.008           0.521  0.086  0.014   \n",
       "1     0.001             0.0     0.0             0.0    0.0    0.0   \n",
       "2     0.001             0.0     0.0             0.0  0.001    0.0   \n",
       "3      0.99             0.0   0.014           0.001  0.986  0.001   \n",
       "4     0.983             0.0     0.0           0.002  0.971    0.0   \n",
       "5     0.248             0.0   0.003           0.001  0.089  0.024   \n",
       "6     0.657             0.0     0.0           0.016  0.423   0.01   \n",
       "7     0.001             0.0     0.0             0.0    0.0    0.0   \n",
       "8       0.0             0.0     0.0             0.0    0.0    0.0   \n",
       "9     0.001             0.0     0.0             0.0    0.0    0.0   \n",
       "10    0.998             0.0   0.003           0.003  0.997  0.002   \n",
       "11    0.005             0.0     0.0             0.0  0.002    0.0   \n",
       "\n",
       "   sexual_explicit   male female homosexual_gay_or_lesbian christian jewish  \\\n",
       "0              0.0  0.007  0.001                     0.001     0.003  0.998   \n",
       "1              0.0    0.0    0.0                       0.0       0.0    0.0   \n",
       "2              0.0    0.0    0.0                       0.0       0.0    0.0   \n",
       "3            0.002  0.005  0.001                       0.0     0.001    0.0   \n",
       "4              0.0  0.002  0.001                       0.0     0.001    0.0   \n",
       "5            0.001  0.001    0.0                       0.0       0.0    0.0   \n",
       "6              0.0  0.001    0.0                       0.0       0.0    0.0   \n",
       "7              0.0    0.0    0.0                       0.0       0.0    0.0   \n",
       "8              0.0    0.0    0.0                       0.0       0.0    0.0   \n",
       "9              0.0    0.0    0.0                       0.0       0.0    0.0   \n",
       "10           0.002   0.01  0.004                     0.007     0.003  0.001   \n",
       "11             0.0    0.0    0.0                       0.0       0.0    0.0   \n",
       "\n",
       "   muslim  black  white psychiatric_or_mental_illness  \n",
       "0   0.003  0.972  0.006                         0.001  \n",
       "1     0.0    0.0    0.0                           0.0  \n",
       "2     0.0    0.0    0.0                           0.0  \n",
       "3     0.0    0.0  0.001                         0.003  \n",
       "4     0.0    0.0    0.0                         0.001  \n",
       "5     0.0    0.0    0.0                         0.001  \n",
       "6   0.001    0.0    0.0                         0.001  \n",
       "7     0.0    0.0    0.0                           0.0  \n",
       "8     0.0    0.0    0.0                           0.0  \n",
       "9     0.0    0.0    0.0                           0.0  \n",
       "10  0.001  0.001  0.001                         0.004  \n",
       "11    0.0    0.0    0.0                           0.0  "
      ]
     },
     "execution_count": 13,
     "metadata": {},
     "output_type": "execute_result"
    }
   ],
   "source": [
    "merged = pd.concat([input_text, pd.json_normalize(outputs)], axis=1)\n",
    "merged"
   ]
  },
  {
   "cell_type": "code",
   "execution_count": 14,
   "id": "fba213e2-df1b-47b4-8090-6d83abdea7c0",
   "metadata": {
    "tags": []
   },
   "outputs": [],
   "source": [
    "predictor.delete_model()\n",
    "predictor.delete_endpoint()"
   ]
  },
  {
   "cell_type": "code",
   "execution_count": null,
   "id": "5919e22d-5a8c-42b1-9b17-a4e41af33b04",
   "metadata": {},
   "outputs": [],
   "source": []
  }
 ],
 "metadata": {
  "instance_type": "ml.t3.medium",
  "kernelspec": {
   "display_name": "Python 3 (Data Science)",
   "language": "python",
   "name": "python3__SAGEMAKER_INTERNAL__arn:aws:sagemaker:eu-west-1:470317259841:image/datascience-1.0"
  },
  "language_info": {
   "codemirror_mode": {
    "name": "ipython",
    "version": 3
   },
   "file_extension": ".py",
   "mimetype": "text/x-python",
   "name": "python",
   "nbconvert_exporter": "python",
   "pygments_lexer": "ipython3",
   "version": "3.7.10"
  }
 },
 "nbformat": 4,
 "nbformat_minor": 5
}
