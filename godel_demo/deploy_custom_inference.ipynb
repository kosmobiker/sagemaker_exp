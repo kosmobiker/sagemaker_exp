{
 "cells": [
  {
   "cell_type": "code",
   "execution_count": 21,
   "id": "f4233f22-a094-479e-b9be-bf3c20694d46",
   "metadata": {},
   "outputs": [
    {
     "name": "stdout",
     "output_type": "stream",
     "text": [
      "sagemaker bucket: sagemaker-godeltech\n",
      "sagemaker session region: eu-west-1\n"
     ]
    }
   ],
   "source": [
    "import os\n",
    "from sagemaker.huggingface.model import HuggingFaceModel\n",
    "from sagemaker.s3 import s3_path_join\n",
    "from sagemaker.serializers import JSONSerializer\n",
    "from sagemaker.deserializers import JSONDeserializer\n",
    "\n",
    "\n",
    "import sagemaker\n",
    "import threading\n",
    "import time\n",
    "import matplotlib.pyplot as plt\n",
    "\n",
    "#SageMaker Role\n",
    "ROLE = os.getenv('SAGEMAKER_ROLE')\n",
    "# Hub Model configuration. https://huggingface.co/models\n",
    "hub = {\n",
    "    'HF_MODEL_ID':'unitary/unbiased-toxic-roberta',\n",
    "    'HF_TASK':'text-classification'\n",
    "}\n",
    "sagemaker_session_bucket = 'sagemaker-godeltech'\n",
    "sess = sagemaker.Session(default_bucket=sagemaker_session_bucket)\n",
    "\n",
    "print(f\"sagemaker bucket: {sess.default_bucket()}\")\n",
    "print(f\"sagemaker session region: {sess.boto_region_name}\")"
   ]
  },
  {
   "cell_type": "code",
   "execution_count": 50,
   "id": "c1ebfe83-5910-4bf4-9b20-2c66b41af1fd",
   "metadata": {},
   "outputs": [],
   "source": [
    "repository=\"unitary/unbiased-toxic-roberta\"\n",
    "model_id = \"unbiased-toxic-roberta\""
   ]
  },
  {
   "cell_type": "code",
   "execution_count": 3,
   "id": "1f8c33af-ca9c-415b-9014-006a3f4d95c2",
   "metadata": {},
   "outputs": [
    {
     "name": "stdout",
     "output_type": "stream",
     "text": [
      "Cloning into 'unbiased-toxic-roberta'...\n",
      "remote: Enumerating objects: 37, done.\u001b[K\n",
      "remote: Counting objects: 100% (37/37), done.\u001b[K\n",
      "remote: Compressing objects: 100% (36/36), done.\u001b[K\n",
      "remote: Total 37 (delta 16), reused 0 (delta 0), pack-reused 0\u001b[K\n",
      "Unpacking objects: 100% (37/37), 542.02 KiB | 827.00 KiB/s, done.\n",
      "Filtering content: 100% (2/2), 951.16 MiB | 17.98 MiB/s, done.\n"
     ]
    }
   ],
   "source": [
    "%cd ../tmp && git clone https://huggingface.co/$repository"
   ]
  },
  {
   "cell_type": "code",
   "execution_count": 42,
   "id": "bf585594-ff14-4e13-8ebb-fc125833071f",
   "metadata": {},
   "outputs": [
    {
     "name": "stdout",
     "output_type": "stream",
     "text": [
      "code/\n",
      "code/.ipynb_checkpoints/\n",
      "code/.ipynb_checkpoints/inference-checkpoint.py\n",
      "code/inference.py\n",
      "config.json\n",
      "flax_model.msgpack\n",
      "merges.txt\n",
      "pytorch_model.bin\n",
      "README.md\n",
      "special_tokens_map.json\n",
      "tokenizer_config.json\n",
      "vocab.json\n"
     ]
    }
   ],
   "source": [
    "%cd $model_id\n",
    "%cp -r ../godel_demo/aux/inference.py ./code/inference.py\n",
    "!tar zcvf model.tar.gz *"
   ]
  },
  {
   "cell_type": "code",
   "execution_count": 43,
   "id": "9cd899c8-13e1-482f-ba1d-60f30ace2e3b",
   "metadata": {},
   "outputs": [
    {
     "data": {
      "text/plain": [
       "'s3://sagemaker-godeltech/transformers/cust_model/model.tar.gz'"
      ]
     },
     "execution_count": 43,
     "metadata": {},
     "output_type": "execute_result"
    }
   ],
   "source": [
    "cust_model_url = sess.upload_data(\n",
    "    path=\"./model.tar.gz\",\n",
    "    key_prefix=\"transformers/cust_model\",\n",
    ")\n",
    "cust_model_url"
   ]
  },
  {
   "cell_type": "code",
   "execution_count": 44,
   "id": "4fed1b63-fea7-437a-8b0a-121590603417",
   "metadata": {},
   "outputs": [
    {
     "name": "stdout",
     "output_type": "stream",
     "text": [
      "----------!"
     ]
    }
   ],
   "source": [
    "# create Hugging Face Model Class\n",
    "huggingface_model = HuggingFaceModel(\n",
    "   model_data=cust_model_url,    # path to your model and script\n",
    "   role=ROLE,                    # iam role with permissions to create an Endpoint\n",
    "   transformers_version=\"4.12\",  # transformers version used\n",
    "   pytorch_version=\"1.9\",        # pytorch version used\n",
    "   py_version='py38',            # python version used\n",
    ")\n",
    "\n",
    "# deploy the endpoint endpoint\n",
    "predictor = huggingface_model.deploy(\n",
    "    initial_instance_count=1,\n",
    "    instance_type=\"ml.g4dn.xlarge\",\n",
    "    endpoint_name=f\"toxicbert-custom-endpoint\"\n",
    "    )"
   ]
  },
  {
   "cell_type": "code",
   "execution_count": 48,
   "id": "d3fda0b8-de02-4a92-8516-1b501c1a4758",
   "metadata": {},
   "outputs": [
    {
     "data": {
      "text/plain": [
       "{'toxicity': '0.5768711',\n",
       " 'severe_toxicity': '0.0011559735',\n",
       " 'obscene': '0.007310892',\n",
       " 'identity_attack': '0.50905406',\n",
       " 'insult': '0.08191899',\n",
       " 'threat': '0.013708219',\n",
       " 'sexual_explicit': '0.00036571428',\n",
       " 'male': '0.0065239645',\n",
       " 'female': '0.00083787285',\n",
       " 'homosexual_gay_or_lesbian': '0.0011106308',\n",
       " 'christian': '0.0031713771',\n",
       " 'jewish': '0.99794334',\n",
       " 'muslim': '0.0031509597',\n",
       " 'black': '0.9684012',\n",
       " 'white': '0.005044794',\n",
       " 'psychiatric_or_mental_illness': '0.001307617'}"
      ]
     },
     "execution_count": 48,
     "metadata": {},
     "output_type": "execute_result"
    }
   ],
   "source": [
    "kayne_west_tweet = \"\"\"\n",
    "I’m a bit sleepy tonight but when I wake up I’m going death con 3 On JEWISH PEOPLE.\n",
    "The funny thing is I actually can’t be Anti Semitic because black people are actually Jew \n",
    "also You guys have toyed with me and tried to black ball anyone whoever opposes your agenda.\n",
    "\"\"\"\n",
    "\n",
    "predictor.predict({\n",
    "\t'inputs': kayne_west_tweet\n",
    "})"
   ]
  },
  {
   "cell_type": "code",
   "execution_count": 49,
   "id": "fba213e2-df1b-47b4-8090-6d83abdea7c0",
   "metadata": {},
   "outputs": [],
   "source": [
    "predictor.delete_model()\n",
    "predictor.delete_endpoint()"
   ]
  },
  {
   "cell_type": "code",
   "execution_count": null,
   "id": "61ed565c-b445-4e1e-8316-40df907c78a7",
   "metadata": {},
   "outputs": [],
   "source": []
  }
 ],
 "metadata": {
  "kernelspec": {
   "display_name": "Godel",
   "language": "python",
   "name": "godel"
  },
  "language_info": {
   "codemirror_mode": {
    "name": "ipython",
    "version": 3
   },
   "file_extension": ".py",
   "mimetype": "text/x-python",
   "name": "python",
   "nbconvert_exporter": "python",
   "pygments_lexer": "ipython3",
   "version": "3.9.13"
  }
 },
 "nbformat": 4,
 "nbformat_minor": 5
}
