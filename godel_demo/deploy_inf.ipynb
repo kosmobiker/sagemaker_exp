{
 "cells": [
  {
   "cell_type": "code",
   "execution_count": 109,
   "id": "f81ba92d-2dda-4d9e-9839-faa7b1c9a547",
   "metadata": {},
   "outputs": [],
   "source": [
    "%%capture\n",
    "import IPython\n",
    "import sys\n",
    "\n",
    "# !{sys.executable} -m pip install ipywidgets\n",
    "# IPython.Application.instance().kernel.do_shutdown(True)  # has to restart kernel so changes are used"
   ]
  },
  {
   "cell_type": "code",
   "execution_count": 110,
   "id": "11b3684e-2571-420b-9ffb-6c63c627e392",
   "metadata": {},
   "outputs": [],
   "source": [
    "%%capture\n",
    "\n",
    "# !pip install -U transformers\n",
    "# !pip install -U sagemaker\n",
    "# !pip install torch==1.11.0\n",
    "# !pip install torchtext==0.12.0"
   ]
  },
  {
   "cell_type": "code",
   "execution_count": 111,
   "id": "6675e82c-a170-4c1e-a969-d7a92d7db9ae",
   "metadata": {},
   "outputs": [],
   "source": [
    "import transformers\n",
    "import sagemaker\n",
    "import torch\n",
    "import json\n",
    "import os\n",
    "import boto3\n",
    "from transformers import AutoTokenizer, AutoModelForSequenceClassification\n",
    "from pathlib import Path\n",
    "\n",
    "from sagemaker.pytorch.model import PyTorchModel\n",
    "from sagemaker.predictor import Predictor\n",
    "from datetime import datetime\n",
    "from sagemaker.serializers import JSONSerializer\n",
    "from sagemaker.deserializers import JSONDeserializer\n",
    "from sagemaker.utils import name_from_base\n",
    "from sagemaker.huggingface import HuggingFaceModel\n",
    "from sagemaker.predictor import Predictor\n",
    "\n",
    "from datetime import datetime\n",
    "import threading\n",
    "import time\n",
    "import matplotlib.pyplot as plt\n",
    "import pandas as pd\n",
    "import tarfile"
   ]
  },
  {
   "cell_type": "code",
   "execution_count": 112,
   "id": "f7378f80-1708-4e9c-a267-03ccd2f4910d",
   "metadata": {},
   "outputs": [
    {
     "name": "stdout",
     "output_type": "stream",
     "text": [
      "sagemaker bucket: sagemaker-godeltech\n",
      "sagemaker session region: eu-west-1\n"
     ]
    }
   ],
   "source": [
    "sess = sagemaker.Session()\n",
    "sagemaker_session_bucket = 'sagemaker-godeltech'\n",
    "if sagemaker_session_bucket is None and sess is not None:\n",
    "    sagemaker_session_bucket = sess.default_bucket()\n",
    "\n",
    "#put SageMaker role here if you're running this notebook locally\n",
    "role = os.getenv('SAGEMAKER_ROLE')\n",
    "\n",
    "\n",
    "sess = sagemaker.Session(default_bucket=sagemaker_session_bucket)\n",
    "\n",
    "print(f\"sagemaker bucket: {sess.default_bucket()}\")\n",
    "print(f\"sagemaker session region: {sess.boto_region_name}\")"
   ]
  },
  {
   "cell_type": "code",
   "execution_count": 113,
   "id": "21a9ce0d-922a-4cad-b270-9821e9a0f8d4",
   "metadata": {},
   "outputs": [],
   "source": [
    "MODEL_NAME = 'unitary/unbiased-toxic-roberta'\n",
    "\n",
    "tokenizer = transformers.AutoTokenizer.from_pretrained(MODEL_NAME)\n",
    "model = transformers.AutoModelForSequenceClassification.from_pretrained(MODEL_NAME, return_dict=False)"
   ]
  },
  {
   "cell_type": "code",
   "execution_count": 114,
   "id": "ff746e80-f8fa-49af-9086-cccc80d1f8d9",
   "metadata": {},
   "outputs": [],
   "source": [
    "# Create directory for model artifacts\n",
    "Path(\"normal_model/\").mkdir(exist_ok=True)\n",
    "Path(\"traced_model/\").mkdir(exist_ok=True)\n",
    "\n",
    "# Prepare sample input for jit model tracing\n",
    "seq = \"\"\"\n",
    "Odin’s attitude was similar to that of the hero of German philosopher Friedrich Nietzsche’s Thus Spoke Zarathustra: “You say it is the good cause\n",
    "that hallows even war? I say unto you: it is the good war that hallows any cause.” Odin boasts in the Eddic poem The Song of Gray-Beard, \n",
    "“I incited the princes never to make peace.\n",
    "\"\"\"\n",
    "max_length = 512\n",
    "\n",
    "tokenized_sequence_pair = tokenizer.encode_plus(\n",
    "    seq, max_length=max_length, padding=\"max_length\", truncation=True, return_tensors=\"pt\"\n",
    ")\n",
    "\n",
    "example = tokenized_sequence_pair[\"input_ids\"], tokenized_sequence_pair[\"attention_mask\"]\n",
    "\n",
    "traced_model = torch.jit.trace(model.eval(), example)\n",
    "\n",
    "model.save_pretrained('normal_model/')\n",
    "traced_model.save(\"traced_model/model.pth\") # The `.pth` extension is required."
   ]
  },
  {
   "cell_type": "code",
   "execution_count": 115,
   "id": "dcfae3c2-bb47-4816-b2dd-3e0cf00df707",
   "metadata": {},
   "outputs": [
    {
     "name": "stdout",
     "output_type": "stream",
     "text": [
      "./\n",
      "./config.json\n",
      "./pytorch_model.bin\n",
      "./\n",
      "./model.pth\n"
     ]
    }
   ],
   "source": [
    "!tar -czvf normal_model.tar.gz -C normal_model . && mv normal_model.tar.gz normal_model/\n",
    "!tar -czvf traced_model.tar.gz -C traced_model . && mv traced_model.tar.gz traced_model/"
   ]
  },
  {
   "cell_type": "code",
   "execution_count": 116,
   "id": "16e5eb2d-9f7a-4984-9ed7-0504be9ab116",
   "metadata": {},
   "outputs": [
    {
     "name": "stdout",
     "output_type": "stream",
     "text": [
      "Files were uploaded\n"
     ]
    }
   ],
   "source": [
    "normal_model_url = sess.upload_data(\n",
    "    path=\"normal_model/normal_model.tar.gz\",\n",
    "    key_prefix=\"neuron-experiments/normal-model\",\n",
    ")\n",
    "\n",
    "traced_model_url = sess.upload_data(\n",
    "    path=\"traced_model/traced_model.tar.gz\",\n",
    "    key_prefix=\"neuron-experiments/traced-model\",\n",
    ")\n",
    "print('Files were uploaded')"
   ]
  },
  {
   "cell_type": "code",
   "execution_count": 117,
   "id": "c829e90e-422f-46c6-84f6-ace36e262489",
   "metadata": {},
   "outputs": [],
   "source": [
    "flavour = \"normal\"\n",
    "hardware = \"g4dn\"\n",
    "date_string = datetime.now().strftime(\"%Y%m-%d%H-%M%S\")\n",
    "\n",
    "prefix = \"neuron-experiments/toxic-bert\"\n",
    "flavour = \"normal\"\n",
    "date_string = datetime.now().strftime(\"%Y%m-%d%H-%M%S\")\n",
    "\n",
    "normal_sm_model = HuggingFaceModel(\n",
    "    model_data=normal_model_url,\n",
    "    predictor_cls=Predictor,\n",
    "    transformers_version=\"4.12.3\",\n",
    "    pytorch_version='1.9.1',\n",
    "    role=role,\n",
    "    entry_point=\"inference_gpuinf1.py\",\n",
    "    source_dir=\"aux\",\n",
    "    py_version=\"py38\",\n",
    "    name=f\"{flavour}-toxicbert-{date_string}\",\n",
    "    env={\"SAGEMAKER_CONTAINER_LOG_LEVEL\": \"10\"},\n",
    ")"
   ]
  },
  {
   "cell_type": "code",
   "execution_count": 118,
   "id": "ec247894-df70-47eb-86e1-8fb337bd9680",
   "metadata": {},
   "outputs": [
    {
     "name": "stdout",
     "output_type": "stream",
     "text": [
      "----------!CPU times: user 35.3 s, sys: 5.34 s, total: 40.6 s\n",
      "Wall time: 11min 56s\n"
     ]
    }
   ],
   "source": [
    "%%time\n",
    "\n",
    "normal_predictor = normal_sm_model.deploy(\n",
    "    instance_type=\"ml.g4dn.xlarge\",\n",
    "    initial_instance_count=1,\n",
    "    endpoint_name=f\"toxicbert-{flavour}-{hardware}-{date_string}\",\n",
    "    serializer=JSONSerializer(),\n",
    "    deserializer=JSONDeserializer(),\n",
    ")"
   ]
  },
  {
   "cell_type": "code",
   "execution_count": 119,
   "id": "6a0494b9-48e0-4606-9141-9f3c5c22e75a",
   "metadata": {},
   "outputs": [],
   "source": [
    "kayne_west_tweet = \"\"\"\n",
    "I’m a bit sleepy tonight but when I wake up I’m going death con 3 On JEWISH PEOPLE.\n",
    "The funny thing is I actually can’t be Anti Semitic because black people are actually Jew \n",
    "also You guys have toyed with me and tried to black ball anyone whoever opposes your agenda.\n",
    "\"\"\""
   ]
  },
  {
   "cell_type": "code",
   "execution_count": 122,
   "id": "134055a8-992e-4777-9973-4d1057a5295a",
   "metadata": {},
   "outputs": [],
   "source": [
    "compilation_job_name = name_from_base(\"godel\")\n",
    "hardware = \"inf1\"\n",
    "output_model_path = f\"s3://{sagemaker_session_bucket}/{prefix}/neo-compilations/{hardware}-model\"\n",
    "\n",
    "compiled_inf1_model = HuggingFaceModel(\n",
    "    model_data=traced_model_url,\n",
    "    predictor_cls=Predictor,\n",
    "    transformers_version=\"4.12.3\",\n",
    "    pytorch_version='1.9.1',\n",
    "    role=role,\n",
    "    entry_point=\"inference_gpuinf1.py\",\n",
    "    source_dir=\"aux\",\n",
    "    py_version=\"py37\",\n",
    "    name=f\"toxicbert-inf1-{date_string}\",\n",
    "    env={\"SAGEMAKER_CONTAINER_LOG_LEVEL\": \"10\"},\n",
    ")"
   ]
  },
  {
   "cell_type": "code",
   "execution_count": 123,
   "id": "18a1e26f-50c8-43ff-a283-07495db322c2",
   "metadata": {},
   "outputs": [
    {
     "name": "stdout",
     "output_type": "stream",
     "text": [
      "??????????????????????????????............................................................................................................!CPU times: user 641 ms, sys: 165 ms, total: 806 ms\n",
      "Wall time: 11min 56s\n"
     ]
    }
   ],
   "source": [
    "%%time\n",
    "\n",
    "compiled_inf1_model = compiled_inf1_model.compile(\n",
    "    target_instance_family=f\"ml_{hardware}\",\n",
    "    input_shape={\"input_ids\": [1, 512], \"attention_mask\": [1, 512]},\n",
    "    job_name=compilation_job_name,\n",
    "    role=role,\n",
    "    framework=\"pytorch\",\n",
    "    framework_version=\"1.9.1\",\n",
    "    output_path=output_model_path,\n",
    "    compiler_options=json.dumps(\"--dtype int64\"),\n",
    "    compile_max_run=900,\n",
    ")"
   ]
  },
  {
   "cell_type": "code",
   "execution_count": 124,
   "id": "972846aa-72e1-421f-a5b2-f30244d976bd",
   "metadata": {},
   "outputs": [
    {
     "name": "stdout",
     "output_type": "stream",
     "text": [
      "-----------!CPU times: user 16.7 s, sys: 2.74 s, total: 19.5 s\n",
      "Wall time: 6min 35s\n"
     ]
    }
   ],
   "source": [
    "%%time\n",
    "\n",
    "compiled_inf1_predictor = compiled_inf1_model.deploy(\n",
    "    instance_type=\"ml.inf1.xlarge\",\n",
    "    initial_instance_count=1,\n",
    "    endpoint_name=f\"toxicbert-{hardware}-{date_string}\",\n",
    "    serializer=JSONSerializer(),\n",
    "    deserializer=JSONDeserializer()\n",
    ")"
   ]
  },
  {
   "cell_type": "code",
   "execution_count": 194,
   "id": "dfcbe593-1a30-4457-afff-96c1af56e0fd",
   "metadata": {},
   "outputs": [],
   "source": [
    "num_preds = 1000\n",
    "num_threads = 5"
   ]
  },
  {
   "cell_type": "code",
   "execution_count": 195,
   "id": "99c3e7f2-71e6-4174-ad68-0219e7459b1a",
   "metadata": {},
   "outputs": [
    {
     "name": "stdout",
     "output_type": "stream",
     "text": [
      "Thread 140546579347008 started\n",
      "Thread 140546570954304 started\n",
      "Thread 140546528990784 started\n",
      "Thread 140546596132416 started\n",
      "Thread 140546630743616 started\n"
     ]
    }
   ],
   "source": [
    "gpu_times = []\n",
    "gpu_threads = []\n",
    "\n",
    "\n",
    "def gpu_predict():\n",
    "    thread_id = threading.get_ident()\n",
    "    print(f\"Thread {thread_id} started\")\n",
    "\n",
    "    for i in range(num_preds):\n",
    "        tick = time.time()\n",
    "        response = normal_predictor.predict(seq)\n",
    "        tock = time.time()\n",
    "        gpu_times.append((thread_id, tock - tick))\n",
    "\n",
    "\n",
    "[gpu_threads.append(threading.Thread(target=gpu_predict, daemon=False)) for i in range(num_threads)]\n",
    "[gpu_t.start() for gpu_t in gpu_threads]\n",
    "\n",
    "# Wait for threads, get an estimate of total time\n",
    "start = time.time()\n",
    "[gpu_t.join() for gpu_t in gpu_threads]\n",
    "end = time.time() - start"
   ]
  },
  {
   "cell_type": "code",
   "execution_count": 196,
   "id": "1803d8c8-e6ff-4538-a740-3207755dd7b0",
   "metadata": {},
   "outputs": [],
   "source": [
    "GPU_TPS = (num_preds * num_threads) / end\n",
    "\n",
    "gpu_t = [duration for thread__id, duration in gpu_times]\n",
    "gpu_latency_percentiles = np.percentile(gpu_t, q=[50, 90, 95, 99])"
   ]
  },
  {
   "cell_type": "code",
   "execution_count": 197,
   "id": "d32135c7-594c-4ef7-8b8e-589993aa3f8c",
   "metadata": {},
   "outputs": [
    {
     "name": "stdout",
     "output_type": "stream",
     "text": [
      "Thread 140546570954304 startedThread 140546596132416 started\n",
      "Thread 140546630743616 started\n",
      "\n",
      "Thread 140546528990784 started\n",
      "Thread 140546604525120 started\n"
     ]
    }
   ],
   "source": [
    "inf_times = []\n",
    "inf_threads = []\n",
    "\n",
    "def inf_predict():\n",
    "    thread_id = threading.get_ident()\n",
    "    print(f\"Thread {thread_id} started\")\n",
    "\n",
    "    for i in range(num_preds):\n",
    "        tick = time.time()\n",
    "        response = compiled_inf1_predictor.predict(seq)\n",
    "        tock = time.time()\n",
    "        inf_times.append((thread_id, tock - tick))\n",
    "\n",
    "\n",
    "\n",
    "[inf_threads.append(threading.Thread(target=inf_predict, daemon=False)) for i in range(num_threads)]\n",
    "[inf_t.start() for inf_t in inf_threads]\n",
    "\n",
    "# Wait for threads, get an estimate of total time\n",
    "start = time.time()\n",
    "[inf_t.join() for inf_t in inf_threads]\n",
    "end = time.time() - start"
   ]
  },
  {
   "cell_type": "code",
   "execution_count": 198,
   "id": "682859ed-9719-4ae4-9d55-667e1f35dbfb",
   "metadata": {},
   "outputs": [],
   "source": [
    "INF_TPS = (num_preds * num_threads) / end\n",
    "\n",
    "inf_t = [duration for thread__id, duration in inf_times]\n",
    "inf_latency_percentiles = np.percentile(inf_t, q=[50, 90, 95, 99])"
   ]
  },
  {
   "cell_type": "code",
   "execution_count": 199,
   "id": "cb0e86c1-d8af-4366-8a0d-b81d5569fe8c",
   "metadata": {},
   "outputs": [
    {
     "data": {
      "image/png": "[encoded data removed]",
      "text/plain": [
       "<Figure size 864x432 with 1 Axes>"
      ]
     },
     "metadata": {
      "needs_background": "light"
     },
     "output_type": "display_data"
    }
   ],
   "source": [
    "bins = np.linspace(0, 0.5, 101)\n",
    "plt.figure(figsize=(12,6))\n",
    "plt.hist(gpu_t, bins, alpha=0.5, label='GPU', color='lime')\n",
    "plt.hist(inf_t, bins, alpha=0.5, label='Inf1', color='orange')\n",
    "plt.legend(loc='upper right')\n",
    "plt.title(\"HuggingFace model GPU/Inferentia benchmark\")\n",
    "plt.show()"
   ]
  },
  {
   "cell_type": "code",
   "execution_count": 200,
   "id": "0defc8ad-dc6c-4a7a-8646-0cd36cc78bde",
   "metadata": {},
   "outputs": [
    {
     "data": {
      "text/html": [
       "<div>\n",
       "<style scoped>\n",
       "    .dataframe tbody tr th:only-of-type {\n",
       "        vertical-align: middle;\n",
       "    }\n",
       "\n",
       "    .dataframe tbody tr th {\n",
       "        vertical-align: top;\n",
       "    }\n",
       "\n",
       "    .dataframe thead th {\n",
       "        text-align: right;\n",
       "    }\n",
       "</style>\n",
       "<table border=\"1\" class=\"dataframe\">\n",
       "  <thead>\n",
       "    <tr style=\"text-align: right;\">\n",
       "      <th></th>\n",
       "      <th>50</th>\n",
       "      <th>90</th>\n",
       "      <th>95</th>\n",
       "      <th>99</th>\n",
       "    </tr>\n",
       "  </thead>\n",
       "  <tbody>\n",
       "    <tr>\n",
       "      <th>GPU</th>\n",
       "      <td>0.177562</td>\n",
       "      <td>0.191632</td>\n",
       "      <td>0.200528</td>\n",
       "      <td>0.355553</td>\n",
       "    </tr>\n",
       "    <tr>\n",
       "      <th>Inf1</th>\n",
       "      <td>0.085264</td>\n",
       "      <td>0.098579</td>\n",
       "      <td>0.107379</td>\n",
       "      <td>0.285039</td>\n",
       "    </tr>\n",
       "  </tbody>\n",
       "</table>\n",
       "</div>"
      ],
      "text/plain": [
       "            50        90        95        99\n",
       "GPU   0.177562  0.191632  0.200528  0.355553\n",
       "Inf1  0.085264  0.098579  0.107379  0.285039"
      ]
     },
     "execution_count": 200,
     "metadata": {},
     "output_type": "execute_result"
    }
   ],
   "source": [
    "latency_df = pd.DataFrame([gpu_latency_percentiles, inf_latency_percentiles], index=['GPU', 'Inf1'], columns=[50, 90, 95, 99])\n",
    "latency_df"
   ]
  },
  {
   "cell_type": "code",
   "execution_count": 201,
   "id": "8b26b8b5-dad6-413e-b80c-eae5fc0e9970",
   "metadata": {},
   "outputs": [
    {
     "name": "stdout",
     "output_type": "stream",
     "text": [
      "GPU: Rough request throughput/second is 27.69804758053417\n",
      "Inferentia: Rough request throughput/second is 52.232144669515655\n"
     ]
    }
   ],
   "source": [
    "print(f\"GPU: Rough request throughput/second is {GPU_TPS}\")\n",
    "print(f\"Inferentia: Rough request throughput/second is {INF_TPS}\")"
   ]
  },
  {
   "cell_type": "code",
   "execution_count": 127,
   "id": "c85908b3-286e-48c4-adb8-73f3630846e8",
   "metadata": {},
   "outputs": [],
   "source": [
    "normal_predictor.delete_model()\n",
    "normal_predictor.delete_endpoint()\n",
    "compiled_inf1_predictor.delete_model()\n",
    "compiled_inf1_predictor.delete_endpoint()"
   ]
  },
  {
   "cell_type": "code",
   "execution_count": null,
   "id": "bf3b3ca7-9b59-4054-84a7-48eea92331b1",
   "metadata": {},
   "outputs": [],
   "source": []
  },
  {
   "cell_type": "code",
   "execution_count": null,
   "id": "4a2b3b57-696f-4bcf-beb4-38b438192b37",
   "metadata": {},
   "outputs": [],
   "source": []
  },
  {
   "cell_type": "code",
   "execution_count": null,
   "id": "2afbeb71-c868-48be-82a9-5d0f1a0777a9",
   "metadata": {},
   "outputs": [],
   "source": []
  },
  {
   "cell_type": "code",
   "execution_count": null,
   "id": "2f210c7d-2f96-4127-9312-ea82ccee4449",
   "metadata": {},
   "outputs": [],
   "source": []
  }
 ],
 "metadata": {
  "kernelspec": {
   "display_name": "Godel",
   "language": "python",
   "name": "godel"
  },
  "language_info": {
   "codemirror_mode": {
    "name": "ipython",
    "version": 3
   },
   "file_extension": ".py",
   "mimetype": "text/x-python",
   "name": "python",
   "nbconvert_exporter": "python",
   "pygments_lexer": "ipython3",
   "version": "3.9.13"
  }
 },
 "nbformat": 4,
 "nbformat_minor": 5
}
