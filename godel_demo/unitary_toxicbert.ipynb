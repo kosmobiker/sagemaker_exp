{
 "cells": [
  {
   "cell_type": "code",
   "execution_count": 5,
   "id": "9ac74142-8ac0-47b6-8af0-39c4178dcc2f",
   "metadata": {
    "tags": []
   },
   "outputs": [
    {
     "name": "stdout",
     "output_type": "stream",
     "text": [
      "----------!"
     ]
    }
   ],
   "source": [
    "from sagemaker.huggingface import HuggingFaceModel\n",
    "import sagemaker\n",
    "\n",
    "role = sagemaker.get_execution_role()\n",
    "# Hub Model configuration. https://huggingface.co/models\n",
    "hub = {\n",
    "\t'HF_MODEL_ID':'unitary/unbiased-toxic-roberta',\n",
    "\t'HF_TASK':'text-classification'\n",
    "}\n",
    "\n",
    "# create Hugging Face Model Class\n",
    "huggingface_model = HuggingFaceModel(\n",
    "\ttransformers_version='4.17.0',\n",
    "\tpytorch_version='1.10.2',\n",
    "\tpy_version='py38',\n",
    "\tenv=hub,\n",
    "\trole=role, \n",
    ")\n",
    "\n",
    "# deploy model to SageMaker Inference\n",
    "predictor = huggingface_model.deploy(\n",
    "\tinitial_instance_count=1, # number of instances\n",
    "\tinstance_type='ml.g4dn.xlarge' # ec2 instance type\n",
    ")"
   ]
  },
  {
   "cell_type": "code",
   "execution_count": 22,
   "id": "47fe9b45-1a92-4f27-a2d6-9eb3e7bcdb20",
   "metadata": {
    "tags": []
   },
   "outputs": [
    {
     "data": {
      "text/plain": [
       "[{'label': 'toxicity', 'score': 0.0005681657930836082},\n",
       " {'label': 'toxicity', 'score': 0.9979075193405151},\n",
       " {'label': 'toxicity', 'score': 0.9895260334014893},\n",
       " {'label': 'toxicity', 'score': 0.9833139181137085},\n",
       " {'label': 'toxicity', 'score': 0.24803200364112854},\n",
       " {'label': 'toxicity', 'score': 0.6566139459609985},\n",
       " {'label': 'toxicity', 'score': 0.004693489521741867},\n",
       " {'label': 'toxicity', 'score': 0.0003814258670900017},\n",
       " {'label': 'toxicity', 'score': 0.0006241046939976513},\n",
       " {'label': 'obscene', 'score': 0.49002525210380554},\n",
       " {'label': 'toxicity', 'score': 0.9966675639152527},\n",
       " {'label': 'toxicity', 'score': 0.9970038533210754},\n",
       " {'label': 'toxicity', 'score': 0.004774667322635651},\n",
       " {'label': 'obscene', 'score': 0.8549026250839233}]"
      ]
     },
     "execution_count": 22,
     "metadata": {},
     "output_type": "execute_result"
    }
   ],
   "source": [
    "test_inputs = [\n",
    "    \"I like you. I love you\", \"Go fuck yourself, motherfucker\",\n",
    "    \"last time I saw Joshua he looked like a dickhead\",\n",
    "    \"I thing modern politics are hypocritics\",\n",
    "    \"Somebody tell this noob to plant the bomb on the B, not the A.\",\n",
    "    \"I thing all Kryptonians are gangsters and going to rob me\",\n",
    "    \"lalallalalalalalala\", \"98766654321\", \"      \", \"!!!!!$^%#$%\",\n",
    "    \"We're watching you. Scum.\", \"Stop right there, criminal scum!\", \n",
    "    \"I used to be an adventurer like you, until I took an arrow to the knee.\",\n",
    "    \"\"\"When life gives you lemons, don't make lemonade. Make life take the lemons back! Get mad!\n",
    "    I don't want your damn lemons! What am I supposed to do with these?! Demand to see life's manager! \n",
    "    Make life rue the day it thought it could give Cave Johnson lemons! Do you know who I am?! \n",
    "    I'm the man who's gonna burn your house down! With the lemons! \n",
    "    I'm gonna get my engineers to invent a combustible lemon that burns your house down!\"\"\" \n",
    "\n",
    "]\n",
    "    \n",
    "\n",
    "predictor.predict({\n",
    "\t'inputs': test_inputs\n",
    "})"
   ]
  },
  {
   "cell_type": "code",
   "execution_count": 23,
   "id": "45f63519-80d8-4551-b120-fc22a52c8da3",
   "metadata": {
    "tags": []
   },
   "outputs": [],
   "source": [
    "predictor.delete_model()\n",
    "predictor.delete_endpoint()"
   ]
  },
  {
   "cell_type": "code",
   "execution_count": null,
   "id": "164b819c-9151-448a-bd2a-11c0dee3bdc3",
   "metadata": {},
   "outputs": [],
   "source": []
  }
 ],
 "metadata": {
  "instance_type": "ml.t3.medium",
  "kernelspec": {
   "display_name": "Python 3 (Data Science)",
   "language": "python",
   "name": "python3__SAGEMAKER_INTERNAL__arn:aws:sagemaker:eu-west-1:470317259841:image/datascience-1.0"
  },
  "language_info": {
   "codemirror_mode": {
    "name": "ipython",
    "version": 3
   },
   "file_extension": ".py",
   "mimetype": "text/x-python",
   "name": "python",
   "nbconvert_exporter": "python",
   "pygments_lexer": "ipython3",
   "version": "3.7.10"
  }
 },
 "nbformat": 4,
 "nbformat_minor": 5
}
