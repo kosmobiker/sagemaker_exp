{
 "cells": [
  {
   "cell_type": "code",
   "execution_count": 4,
   "id": "161b30bf-b6a4-4449-91ef-7eb6be4b23ea",
   "metadata": {},
   "outputs": [],
   "source": [
    "from transformers import AutoTokenizer, AutoModelForSequenceClassification, AutoConfig\n",
    "import os\n",
    "import json\n",
    "import torch\n",
    "import numpy as np\n",
    "from transformers import AutoTokenizer, AutoModelForSequenceClassification, AutoConfig\n",
    "\n",
    "device = torch.device('cuda' if torch.cuda.is_available() else 'cpu')\n",
    "sigmoid = torch.nn.Sigmoid()\n",
    "torch.set_printoptions(precision=4)"
   ]
  },
  {
   "cell_type": "code",
   "execution_count": 89,
   "id": "f93c180f-0714-4652-ad8e-beb4d0f6c623",
   "metadata": {},
   "outputs": [],
   "source": [
    "MODEL_NAME = \"unitary/unbiased-toxic-roberta\"\n",
    "\n",
    "tokenizer = AutoTokenizer.from_pretrained(MODEL_NAME)\n",
    "model = AutoModelForSequenceClassification.from_pretrained(MODEL_NAME)\n",
    "model_config = AutoConfig.from_pretrained(MODEL_NAME)\n",
    "labels = {k: v for k, v in sorted(model_config.label2id.items(), key=lambda item: item[1])}.keys()"
   ]
  },
  {
   "cell_type": "code",
   "execution_count": 93,
   "id": "3f8b3e1a-c2ea-4bcc-8b1a-6707f9fab17c",
   "metadata": {},
   "outputs": [],
   "source": [
    "input_data = {\n",
    " 'inputs' : [\n",
    "     \"this is a very toxic comemnt. I want to offense everybody. Don't thread on me\",\n",
    "     \"what is the differance between communist and pedophile\",\n",
    "     \"Ok, this fucking Snowy is fucked me up\",\n",
    "     \"I don't like SageMaker. It is not a great software tool. Only muslims could create such garbage\",\n",
    "     \"Te quierro puta\",\n",
    "     \"TOOL is the best rock band ever !!!111\"\n",
    "     ]   \n",
    "}"
   ]
  },
  {
   "cell_type": "code",
   "execution_count": 94,
   "id": "b46c3dc4-5280-44ad-b89c-9be1e4e773c6",
   "metadata": {},
   "outputs": [],
   "source": [
    "sentences = input_data.pop(\"inputs\", input_data)\n",
    "inputs = tokenizer(sentences, padding=True, max_length=512, truncation=True, return_tensors='pt').to(device)\n",
    "with torch.no_grad():\n",
    "    model.to(device)\n",
    "    outputs = model(**inputs).logits\n",
    "    probas = sigmoid(outputs).cpu().detach().numpy().round(3).astype('str')\n",
    "    res = [dict(zip(labels, probas[i])) for i in range(len(probas))]\n",
    "    "
   ]
  },
  {
   "cell_type": "code",
   "execution_count": 95,
   "id": "65d912ec-1168-400a-b1a6-21aad3a59306",
   "metadata": {},
   "outputs": [
    {
     "data": {
      "text/plain": [
       "'[{\"toxicity\": \"0.027\", \"severe_toxicity\": \"0.0\", \"obscene\": \"0.0\", \"identity_attack\": \"0.0\", \"insult\": \"0.016\", \"threat\": \"0.0\", \"sexual_explicit\": \"0.0\", \"male\": \"0.0\", \"female\": \"0.0\", \"homosexual_gay_or_lesbian\": \"0.0\", \"christian\": \"0.0\", \"jewish\": \"0.0\", \"muslim\": \"0.0\", \"black\": \"0.0\", \"white\": \"0.0\", \"psychiatric_or_mental_illness\": \"0.0\"}, {\"toxicity\": \"0.796\", \"severe_toxicity\": \"0.0\", \"obscene\": \"0.001\", \"identity_attack\": \"0.003\", \"insult\": \"0.679\", \"threat\": \"0.001\", \"sexual_explicit\": \"0.002\", \"male\": \"0.002\", \"female\": \"0.0\", \"homosexual_gay_or_lesbian\": \"0.0\", \"christian\": \"0.0\", \"jewish\": \"0.0\", \"muslim\": \"0.0\", \"black\": \"0.0\", \"white\": \"0.0\", \"psychiatric_or_mental_illness\": \"0.008\"}, {\"toxicity\": \"0.995\", \"severe_toxicity\": \"0.003\", \"obscene\": \"0.983\", \"identity_attack\": \"0.023\", \"insult\": \"0.947\", \"threat\": \"0.018\", \"sexual_explicit\": \"0.137\", \"male\": \"0.039\", \"female\": \"0.005\", \"homosexual_gay_or_lesbian\": \"0.002\", \"christian\": \"0.004\", \"jewish\": \"0.005\", \"muslim\": \"0.002\", \"black\": \"0.003\", \"white\": \"0.006\", \"psychiatric_or_mental_illness\": \"0.005\"}, {\"toxicity\": \"0.965\", \"severe_toxicity\": \"0.0\", \"obscene\": \"0.002\", \"identity_attack\": \"0.654\", \"insult\": \"0.904\", \"threat\": \"0.002\", \"sexual_explicit\": \"0.0\", \"male\": \"0.004\", \"female\": \"0.001\", \"homosexual_gay_or_lesbian\": \"0.002\", \"christian\": \"0.001\", \"jewish\": \"0.001\", \"muslim\": \"0.994\", \"black\": \"0.005\", \"white\": \"0.003\", \"psychiatric_or_mental_illness\": \"0.001\"}, {\"toxicity\": \"0.016\", \"severe_toxicity\": \"0.0\", \"obscene\": \"0.002\", \"identity_attack\": \"0.0\", \"insult\": \"0.008\", \"threat\": \"0.0\", \"sexual_explicit\": \"0.0\", \"male\": \"0.0\", \"female\": \"0.0\", \"homosexual_gay_or_lesbian\": \"0.0\", \"christian\": \"0.0\", \"jewish\": \"0.0\", \"muslim\": \"0.0\", \"black\": \"0.0\", \"white\": \"0.0\", \"psychiatric_or_mental_illness\": \"0.0\"}, {\"toxicity\": \"0.001\", \"severe_toxicity\": \"0.0\", \"obscene\": \"0.0\", \"identity_attack\": \"0.0\", \"insult\": \"0.0\", \"threat\": \"0.0\", \"sexual_explicit\": \"0.0\", \"male\": \"0.0\", \"female\": \"0.0\", \"homosexual_gay_or_lesbian\": \"0.0\", \"christian\": \"0.0\", \"jewish\": \"0.0\", \"muslim\": \"0.0\", \"black\": \"0.0\", \"white\": \"0.0\", \"psychiatric_or_mental_illness\": \"0.0\"}]'"
      ]
     },
     "execution_count": 95,
     "metadata": {},
     "output_type": "execute_result"
    }
   ],
   "source": [
    "json.dumps(res)"
   ]
  },
  {
   "cell_type": "code",
   "execution_count": null,
   "id": "20b8bd3a-abce-482e-af75-7af6d9fcc6b8",
   "metadata": {},
   "outputs": [],
   "source": []
  }
 ],
 "metadata": {
  "kernelspec": {
   "display_name": "godel:Python",
   "language": "python",
   "name": "conda-env-godel-py"
  },
  "language_info": {
   "codemirror_mode": {
    "name": "ipython",
    "version": 3
   },
   "file_extension": ".py",
   "mimetype": "text/x-python",
   "name": "python",
   "nbconvert_exporter": "python",
   "pygments_lexer": "ipython3",
   "version": "3.9.13"
  }
 },
 "nbformat": 4,
 "nbformat_minor": 5
}
