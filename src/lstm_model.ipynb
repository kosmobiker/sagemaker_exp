{
 "cells": [
  {
   "cell_type": "code",
   "execution_count": 1,
   "id": "fd23e2fa-2523-4a5d-aff5-4fe89c11a352",
   "metadata": {},
   "outputs": [],
   "source": [
    "import pandas as pd\n",
    "import boto3\n",
    "import numpy as np\n",
    "from collections import Counter\n",
    "import os\n",
    "import awswrangler as wr\n",
    "import random\n",
    "from datetime import datetime\n",
    "import re, string\n",
    "from typing import Dict\n",
    "\n",
    "import torch, torchtext\n",
    "import torchvision.models as models\n",
    "from torchtext.data.utils import get_tokenizer\n",
    "from torch.utils.data import TensorDataset, DataLoader\n",
    "from torchtext.vocab import GloVe\n",
    "from torch import nn, optim\n",
    "from torch.nn import Module, Embedding, LSTM, RNN, GRU, Linear, Sequential, Dropout\n",
    "from torch.nn.functional import sigmoid, relu, elu, tanh\n",
    "from torch.nn import CrossEntropyLoss\n",
    "from torch.optim import Adam\n",
    "from torch.nn.utils.rnn import PackedSequence\n",
    "\n",
    "from utils import save_to_s3, get_from_s3\n",
    "from quality_calculator import compute_bias_metrics_for_model, calculate_overall_auc, get_final_metric\n",
    "\n",
    "\n",
    "from tqdm import tqdm\n",
    "\n",
    "SEED = 1234\n",
    "N_SAMPLES = 100_000\n",
    "\n",
    "%matplotlib inline\n",
    "import matplotlib.pyplot as plt\n",
    "import seaborn as sns\n",
    "\n",
    "from sklearn.model_selection import train_test_split\n",
    "from sklearn.metrics import confusion_matrix, classification_report, accuracy_score, f1_score, roc_auc_score\n",
    "\n",
    "import time\n",
    "\n",
    "import warnings\n",
    "pd.set_option('display.max_columns', None)\n",
    "pd.set_option('display.max_colwidth', 500)\n",
    "pd.options.mode.chained_assignment = None\n",
    "warnings.simplefilter(action='ignore', category=FutureWarning)"
   ]
  },
  {
   "cell_type": "code",
   "execution_count": 2,
   "id": "f30d61b1-f4d3-4aa0-8c02-35cdf5187bac",
   "metadata": {},
   "outputs": [],
   "source": [
    "def seed_everything(seed=SEED):\n",
    "    random.seed(seed)\n",
    "    os.environ['PYTHONHASHSEED'] = str(seed)\n",
    "    np.random.seed(seed)\n",
    "    torch.manual_seed(seed)\n",
    "    torch.cuda.manual_seed(seed)\n",
    "    torch.backends.cudnn.deterministic = True\n",
    "seed_everything()"
   ]
  },
  {
   "cell_type": "code",
   "execution_count": 3,
   "id": "23364c0f-85aa-44e4-b6e2-9b6eba0c560a",
   "metadata": {},
   "outputs": [
    {
     "name": "stdout",
     "output_type": "stream",
     "text": [
      "Today I'm going to use cuda\n"
     ]
    }
   ],
   "source": [
    "device = torch.device(\"cuda:0\" if torch.cuda.is_available() else \"cpu\")\n",
    "print(f\"Today I'm going to use {device.type}\")"
   ]
  },
  {
   "cell_type": "code",
   "execution_count": 4,
   "id": "9e9f2a61-7c17-4cd1-9a21-6245d853f430",
   "metadata": {},
   "outputs": [],
   "source": [
    "TODAY = datetime.today().strftime(\"%Y%m%d\")\n",
    "BUCKET_NAME = 'sagemaker-godeltech'\n",
    "TRAIN_PATH = f\"s3://{BUCKET_NAME}/data/train/train.csv\"\n",
    "VAL_PATH = f\"s3://{BUCKET_NAME}/data/validate/validate.csv\"\n",
    "TEST_PATH = f\"s3://{BUCKET_NAME}/data/test/test.csv\"\n",
    "VOCAB_PATH = \"lstm/vocab\"\n",
    "MODEL_PATH = \"lstm/models\"\n",
    "PATH_LOGS = 'loggings'"
   ]
  },
  {
   "cell_type": "code",
   "execution_count": 5,
   "id": "17df83e7-bc39-4c5b-81f0-68bf155d097a",
   "metadata": {},
   "outputs": [],
   "source": [
    "train = wr.s3.read_csv([TRAIN_PATH])\n",
    "val = wr.s3.read_csv([VAL_PATH])\n",
    "test = wr.s3.read_csv([TEST_PATH])"
   ]
  },
  {
   "cell_type": "code",
   "execution_count": 6,
   "id": "66e3ed1e-38cc-4da9-bca6-494ae5ff21c4",
   "metadata": {},
   "outputs": [
    {
     "data": {
      "text/plain": [
       "((1443900, 2), (360975, 2), (194641, 12))"
      ]
     },
     "execution_count": 6,
     "metadata": {},
     "output_type": "execute_result"
    }
   ],
   "source": [
    "train_sample = train.sample(N_SAMPLES, random_state=SEED, ignore_index=True)\n",
    "val_sample = val.sample(N_SAMPLES, random_state=SEED, ignore_index=True)\n",
    "train.shape, val.shape, test.shape"
   ]
  },
  {
   "cell_type": "code",
   "execution_count": 7,
   "id": "123fca40-dce1-42f3-97e0-a4b5cdef7d34",
   "metadata": {},
   "outputs": [],
   "source": [
    "train_text = train_sample['comment_text']\n",
    "val_text = val_sample['comment_text']\n",
    "train_label = train_sample['toxicity']\n",
    "val_label = val_sample['toxicity']\n",
    "test_text = test['comment_text']"
   ]
  },
  {
   "cell_type": "code",
   "execution_count": 8,
   "id": "9c45d26f-d1c1-4b93-94d3-dc764661885a",
   "metadata": {},
   "outputs": [],
   "source": [
    "# train_text, val_text, test_text = train_sample['comment_text'], val_sample['comment_text'], test['comment_text']\n",
    "# train_label, val_label, test_label = train_sample['toxicity'], val_sample['toxicity'], test['toxicity']\n",
    "train_text, val_text, test_text = train['comment_text'], val['comment_text'], test['comment_text']\n",
    "train_label, val_label, test_label = train['toxicity'], val['toxicity'], test['toxicity']\n",
    "\n",
    "train_label = torch.tensor(train_label.values, dtype=torch.float32).to(device)\n",
    "val_label = torch.tensor(val_label.values, dtype=torch.float32).to(device) \n",
    "test_label = torch.tensor(test_label.values, dtype=torch.float32).to(device) "
   ]
  },
  {
   "cell_type": "code",
   "execution_count": 9,
   "id": "a16e6fed-323a-4563-a2ce-3ba57e1c7d72",
   "metadata": {},
   "outputs": [],
   "source": [
    "tokenizer = get_tokenizer(\"basic_english\")\n",
    "counter = Counter()\n",
    "for line in train_text:\n",
    "    counter.update(tokenizer(line))\n",
    "    \n",
    "# Create a vocabulary with words seen at least 3 (min_freq) times\n",
    "vocab = torchtext.vocab.vocab(counter, min_freq=3)"
   ]
  },
  {
   "cell_type": "code",
   "execution_count": 10,
   "id": "e7306873-fe3a-4899-bf58-8cdbfa9ccea2",
   "metadata": {},
   "outputs": [],
   "source": [
    "# Add the unknown token and use it by default for unknown words\n",
    "unk_token = '<unk>'\n",
    "# vocab.insert_token(unk_token, 0)\n",
    "vocab.set_default_index(0)\n",
    "\n",
    "# Add the pad token Explanation https://huggingface.co/docs/transformers/pad_truncation\n",
    "pad_token = '<pad>'\n",
    "vocab.insert_token(pad_token, 1)"
   ]
  },
  {
   "cell_type": "code",
   "execution_count": 11,
   "id": "c9e1103d-bc7b-4cc5-9b20-86e71e2f0081",
   "metadata": {},
   "outputs": [],
   "source": [
    "text_transform_pipeline = lambda x: [vocab[token] for token in tokenizer(x)]"
   ]
  },
  {
   "cell_type": "code",
   "execution_count": 12,
   "id": "08110550-34c9-470e-96f9-acfb79cdc7da",
   "metadata": {},
   "outputs": [],
   "source": [
    "#save vocab\n",
    "torch.save(vocab, f'../tmp/vocab_obj_{TODAY}.pth')\n",
    "save_to_s3(BUCKET_NAME, f'../tmp/vocab_obj_{TODAY}.pth', f\"{VOCAB_PATH}/vocab_obj_{TODAY}.pth\")"
   ]
  },
  {
   "cell_type": "code",
   "execution_count": 13,
   "id": "8593d17c-6ebe-4e54-a0f9-ab97ce4cde64",
   "metadata": {},
   "outputs": [
    {
     "name": "stdout",
     "output_type": "stream",
     "text": [
      "Before transform:\n",
      "Obviously is there on plain sky and the agenda behind pretty dark a big name for all science   \"   Geoengineering   \"  \n",
      "After transform:\n",
      "[2835, 97, 141, 243, 5085, 5987, 49, 59, 839, 169, 1090, 2143, 42, 268, 962, 29, 170, 579, 10742]\n"
     ]
    }
   ],
   "source": [
    "print(f\"Before transform:\\n{train_text.iloc[1666]}\")\n",
    "print(f\"After transform:\\n{text_transform_pipeline(train_text.iloc[1666])}\")"
   ]
  },
  {
   "cell_type": "code",
   "execution_count": 14,
   "id": "b6b31850-a51f-4b7a-99c2-2d9a3ee9710a",
   "metadata": {},
   "outputs": [],
   "source": [
    "def transformText(text_list, max_len):\n",
    "    # Transform the text\n",
    "    transformed_data = [text_transform_pipeline(text)[:max_len] for text in text_list]\n",
    "\n",
    "    # Pad zeros if the text is shoter than max_len\n",
    "    for data in transformed_data:\n",
    "        data[len(data) : max_len] = np.ones(max_len - len(data))\n",
    "\n",
    "    return torch.tensor(transformed_data, dtype=torch.int64)"
   ]
  },
  {
   "cell_type": "code",
   "execution_count": 15,
   "id": "7a784f62-21fe-4e2a-9b72-0ae2e517cb15",
   "metadata": {},
   "outputs": [],
   "source": [
    "#PARAMETERS\n",
    "N_EPOCHES = 10\n",
    "max_len = 100\n",
    "batch_size = 128\n",
    "\n",
    "# Size of the state vectors\n",
    "lstm_hiden_size = 128\n",
    "dense_hiden_size = 4 * lstm_hiden_size\n",
    "\n",
    "# General NN training parameters\n",
    "learning_rate = 0.0001"
   ]
  },
  {
   "cell_type": "code",
   "execution_count": 16,
   "id": "6688220c-5cf2-4a7f-b5f0-4270c4e15951",
   "metadata": {},
   "outputs": [
    {
     "name": "stderr",
     "output_type": "stream",
     "text": [
      "/tmp/ipykernel_187/3562846554.py:9: DeprecationWarning: an integer is required (got type numpy.float64).  Implicit conversion to integers using __int__ is deprecated, and may be removed in a future version of Python.\n",
      "  return torch.tensor(transformed_data, dtype=torch.int64)\n"
     ]
    }
   ],
   "source": [
    "# Create data loaders\n",
    "train_dataset = TensorDataset(\n",
    "    transformText(train_text, max_len), train_label\n",
    ")\n",
    "train_loader = DataLoader(train_dataset, batch_size=batch_size)\n",
    "\n",
    "val_dataset = TensorDataset(transformText(val_text, max_len), val_label)\n",
    "val_loader = DataLoader(val_dataset, batch_size=batch_size)\n",
    "\n",
    "test_dataset = TensorDataset(transformText(test_text, max_len), test_label)\n",
    "test_loader = DataLoader(test_dataset, batch_size=batch_size)"
   ]
  },
  {
   "cell_type": "code",
   "execution_count": 17,
   "id": "b282d16b-6544-49d1-ac3c-bb4c63116f62",
   "metadata": {},
   "outputs": [],
   "source": [
    "#Pretrained Word Embeddings ====> GloVe, FastText, CharNGram\n",
    "#Let us try GloVe\n",
    "\n",
    "glove = GloVe(name=\"6B\", dim=300)\n",
    "embedding_matrix = glove.get_vecs_by_tokens(vocab.get_itos())"
   ]
  },
  {
   "cell_type": "code",
   "execution_count": 18,
   "id": "4a52cb61-d1f1-40d5-9c00-ebf234219d98",
   "metadata": {},
   "outputs": [
    {
     "data": {
      "text/plain": [
       "torch.Size([102642, 300])"
      ]
     },
     "execution_count": 18,
     "metadata": {},
     "output_type": "execute_result"
    }
   ],
   "source": [
    "embedding_matrix.shape"
   ]
  },
  {
   "cell_type": "code",
   "execution_count": 19,
   "id": "f40b77b5-53f6-4a7b-9cef-1f39eb92c4bc",
   "metadata": {},
   "outputs": [
    {
     "data": {
      "text/plain": [
       "102642"
      ]
     },
     "execution_count": 19,
     "metadata": {},
     "output_type": "execute_result"
    }
   ],
   "source": [
    "# Embedding vector and vocabulary sizes\n",
    "embed_size = 300  # glove.6B.300d.txt\n",
    "vocab_size = len(vocab.get_itos())\n",
    "vocab_size"
   ]
  },
  {
   "cell_type": "code",
   "execution_count": 23,
   "id": "5abaf7bc-7ab0-4c62-bed6-179a3797f838",
   "metadata": {},
   "outputs": [],
   "source": [
    "class SpatialDropout(nn.Dropout2d):\n",
    "    def forward(self, x):\n",
    "        x = x.unsqueeze(2)    # (N, T, 1, K)\n",
    "        x = x.permute(0, 3, 2, 1)  # (N, K, 1, T)\n",
    "        x = super(SpatialDropout, self).forward(x)  # (N, K, 1, T), some features are masked\n",
    "        x = x.permute(0, 3, 2, 1)  # (N, T, 1, K)\n",
    "        x = x.squeeze(2)  # (N, T, K)\n",
    "        return x\n",
    "    \n",
    "class NeuralNet(nn.Module):\n",
    "    def __init__(self, embedding_matrix, lstm_hiden_size, dense_hiden_size):\n",
    "        super(NeuralNet, self).__init__()\n",
    "        max_features = embedding_matrix.shape[0]\n",
    "        embed_size = embedding_matrix.shape[1]\n",
    "        \n",
    "        self.embedding = nn.Embedding(max_features, embed_size)\n",
    "        self.embedding.weight = nn.Parameter(embedding_matrix.clone().detach())\n",
    "        self.embedding.weight.requires_grad = False\n",
    "        self.embedding_dropout = SpatialDropout(0.666)\n",
    "        \n",
    "        self.lstm1 = nn.LSTM(embed_size, lstm_hiden_size, bidirectional=True, batch_first=True)\n",
    "        self.lstm2 = nn.LSTM(lstm_hiden_size * 2, lstm_hiden_size, bidirectional=True, batch_first=True)\n",
    "    \n",
    "        self.linear1 = nn.Linear(dense_hiden_size, dense_hiden_size)\n",
    "        self.linear2 = nn.Linear(dense_hiden_size, dense_hiden_size)\n",
    "        \n",
    "        self.linear_out = nn.Linear(dense_hiden_size, 1)\n",
    "        \n",
    "    def forward(self, x):\n",
    "        h_embedding = self.embedding(x)\n",
    "        h_embedding = self.embedding_dropout(h_embedding)\n",
    "        h_lstm1, _ = self.lstm1(h_embedding)\n",
    "        h_lstm2, _ = self.lstm2(h_lstm1)\n",
    "        \n",
    "        # global average pooling\n",
    "        avg_pool = torch.mean(h_lstm2, 1)\n",
    "        max_pool, _ = torch.max(h_lstm2, 1)\n",
    "        \n",
    "        h_conc = torch.cat((max_pool, avg_pool), 1)\n",
    "        h_conc_linear1  = relu(self.linear1(h_conc))\n",
    "        h_conc_linear2  = relu(self.linear2(h_conc))\n",
    "        \n",
    "        hidden = h_conc + h_conc_linear1 + h_conc_linear2       \n",
    "        result = self.linear_out(hidden)\n",
    "\n",
    "        return result"
   ]
  },
  {
   "cell_type": "code",
   "execution_count": 24,
   "id": "6fd4e95e-c03d-469c-a2ff-57bbd3cdae0e",
   "metadata": {},
   "outputs": [],
   "source": [
    "model = NeuralNet(embedding_matrix, lstm_hiden_size, dense_hiden_size)\n",
    "# Setting our trainer\n",
    "trainer = torch.optim.Adam(model.parameters(), lr=learning_rate)\n",
    "\n",
    "# We will use Binary Cross-entropy loss\n",
    "cross_ent_loss = nn.BCEWithLogitsLoss(reduction='mean')"
   ]
  },
  {
   "cell_type": "code",
   "execution_count": 25,
   "id": "51f08a1f-1eec-43ab-b784-3b21d68b5c2c",
   "metadata": {},
   "outputs": [
    {
     "name": "stderr",
     "output_type": "stream",
     "text": [
      "100%|██████████| 11281/11281 [05:28<00:00, 34.36it/s]\n",
      "100%|██████████| 2821/2821 [00:30<00:00, 91.97it/s]\n"
     ]
    },
    {
     "name": "stdout",
     "output_type": "stream",
     "text": [
      "Epoch 0. Train_loss 0.0014711945048808861. Validation_loss 0.005555291993522737. Seconds 358.9768924713135\n"
     ]
    },
    {
     "name": "stderr",
     "output_type": "stream",
     "text": [
      "100%|██████████| 11281/11281 [05:42<00:00, 32.89it/s]\n",
      "100%|██████████| 2821/2821 [00:30<00:00, 91.77it/s]\n"
     ]
    },
    {
     "name": "stdout",
     "output_type": "stream",
     "text": [
      "Epoch 1. Train_loss 0.0012618256986566391. Validation_loss 0.005624600439093451. Seconds 373.6969954967499\n"
     ]
    },
    {
     "name": "stderr",
     "output_type": "stream",
     "text": [
      "100%|██████████| 11281/11281 [05:43<00:00, 32.87it/s]\n",
      "100%|██████████| 2821/2821 [00:30<00:00, 91.58it/s]\n"
     ]
    },
    {
     "name": "stdout",
     "output_type": "stream",
     "text": [
      "Epoch 2. Train_loss 0.0012088073922170398. Validation_loss 0.005631776118395739. Seconds 374.0410852432251\n"
     ]
    },
    {
     "name": "stderr",
     "output_type": "stream",
     "text": [
      "100%|██████████| 11281/11281 [05:42<00:00, 32.98it/s]\n",
      "100%|██████████| 2821/2821 [00:30<00:00, 91.90it/s]\n"
     ]
    },
    {
     "name": "stdout",
     "output_type": "stream",
     "text": [
      "Epoch 3. Train_loss 0.0011731785475955923. Validation_loss 0.005645312041042171. Seconds 372.76373529434204\n"
     ]
    },
    {
     "name": "stderr",
     "output_type": "stream",
     "text": [
      "100%|██████████| 11281/11281 [05:39<00:00, 33.23it/s]\n",
      "100%|██████████| 2821/2821 [00:30<00:00, 91.53it/s]\n"
     ]
    },
    {
     "name": "stdout",
     "output_type": "stream",
     "text": [
      "Epoch 4. Train_loss 0.0011521375259684183. Validation_loss 0.005635408363775563. Seconds 370.2719144821167\n"
     ]
    },
    {
     "name": "stderr",
     "output_type": "stream",
     "text": [
      "100%|██████████| 11281/11281 [05:42<00:00, 32.90it/s]\n",
      "100%|██████████| 2821/2821 [00:30<00:00, 91.16it/s]\n"
     ]
    },
    {
     "name": "stdout",
     "output_type": "stream",
     "text": [
      "Epoch 5. Train_loss 0.0011332220555412712. Validation_loss 0.0056446275662183675. Seconds 373.863068819046\n"
     ]
    },
    {
     "name": "stderr",
     "output_type": "stream",
     "text": [
      "100%|██████████| 11281/11281 [05:43<00:00, 32.85it/s]\n",
      "100%|██████████| 2821/2821 [00:30<00:00, 91.19it/s]\n"
     ]
    },
    {
     "name": "stdout",
     "output_type": "stream",
     "text": [
      "Epoch 6. Train_loss 0.0011200199849360232. Validation_loss 0.0056469872939189526. Seconds 374.3784689903259\n"
     ]
    },
    {
     "name": "stderr",
     "output_type": "stream",
     "text": [
      "100%|██████████| 11281/11281 [05:43<00:00, 32.85it/s]\n",
      "100%|██████████| 2821/2821 [00:30<00:00, 91.22it/s]\n"
     ]
    },
    {
     "name": "stdout",
     "output_type": "stream",
     "text": [
      "Epoch 7. Train_loss 0.0011070177596973426. Validation_loss 0.005632293776169949. Seconds 374.3082630634308\n"
     ]
    },
    {
     "name": "stderr",
     "output_type": "stream",
     "text": [
      "100%|██████████| 11281/11281 [05:43<00:00, 32.84it/s]\n",
      "100%|██████████| 2821/2821 [00:30<00:00, 91.28it/s]\n"
     ]
    },
    {
     "name": "stdout",
     "output_type": "stream",
     "text": [
      "Epoch 8. Train_loss 0.0010954994786113027. Validation_loss 0.0056492013772427765. Seconds 374.42654180526733\n"
     ]
    },
    {
     "name": "stderr",
     "output_type": "stream",
     "text": [
      "100%|██████████| 11281/11281 [05:42<00:00, 32.92it/s]\n",
      "100%|██████████| 2821/2821 [00:30<00:00, 92.83it/s]"
     ]
    },
    {
     "name": "stdout",
     "output_type": "stream",
     "text": [
      "Epoch 9. Train_loss 0.0010864512605637889. Validation_loss 0.0056244693334780126. Seconds 373.04094982147217\n"
     ]
    },
    {
     "name": "stderr",
     "output_type": "stream",
     "text": [
      "\n"
     ]
    }
   ],
   "source": [
    "train_losses = []\n",
    "val_losses = []\n",
    "train_scores = []\n",
    "val_scores = []\n",
    "\n",
    "# Get the compute device\n",
    "model.to(device)\n",
    "\n",
    "for epoch in range(N_EPOCHES):\n",
    "    start = time.time()\n",
    "    training_loss = 0\n",
    "    val_loss = 0\n",
    "    train_score = 0\n",
    "    val_score = 0\n",
    "    model.train()\n",
    "\n",
    "    for data, target in tqdm(train_loader):\n",
    "        data = data.to(device)\n",
    "        target = target.to(device)\n",
    "        output = model(data)\n",
    "        loss = cross_ent_loss(output.squeeze(1), target)\n",
    "        trainer.zero_grad()\n",
    "        loss.backward()\n",
    "        trainer.step()\n",
    "        training_loss += loss.item()\n",
    "        try:\n",
    "            train_score += roc_auc_score(target.cpu(), output.detach().cpu().numpy())\n",
    "        except ValueError:\n",
    "            pass      \n",
    "        \n",
    "    model.eval()\n",
    "    \n",
    "    for data, target in tqdm(val_loader):\n",
    "        data = data.to(device)\n",
    "        target = target.to(device)\n",
    "        val_predictions = torch.sigmoid(model(data)).squeeze(1)\n",
    "        loss = cross_ent_loss(val_predictions, target)\n",
    "        val_loss += loss.item()\n",
    "        try:\n",
    "            val_score += roc_auc_score(target.cpu(), val_predictions.detach().cpu().numpy())\n",
    "        except ValueError:\n",
    "            pass\n",
    "        \n",
    "        \n",
    "    # Let's take the average losses\n",
    "    training_loss = training_loss / len(train_label)\n",
    "    val_loss = val_loss / len(val_label)\n",
    "    train_score = train_score / len(train_label)\n",
    "    val_score = val_score / len(val_label)\n",
    "    \n",
    "    train_losses.append(training_loss)\n",
    "    val_losses.append(val_loss)\n",
    "    train_scores.append(train_score)\n",
    "    val_scores.append(val_score)\n",
    "\n",
    "    end = time.time()\n",
    "    print(\n",
    "        f\"Epoch {epoch}. Train_loss {training_loss}. Validation_loss {val_loss}. Seconds {end-start}\"\n",
    "    )"
   ]
  },
  {
   "cell_type": "code",
   "execution_count": 26,
   "id": "907060eb-95ca-498a-988a-b576a64ee058",
   "metadata": {},
   "outputs": [
    {
     "data": {
      "image/png": "[encoded data removed]",
      "text/plain": [
       "<Figure size 1600x400 with 2 Axes>"
      ]
     },
     "metadata": {},
     "output_type": "display_data"
    }
   ],
   "source": [
    "plt.rcParams['axes.grid'] = True\n",
    "\n",
    "fig, ax = plt.subplots(1, 2, figsize=(16, 4))\n",
    "fig.suptitle('Loses and scores')\n",
    "ax[0].plot(train_losses, label=\"Training Loss\")\n",
    "ax[0].plot(val_losses, label=\"Validation Loss\")\n",
    "ax[0].legend()\n",
    "ax[0].set_title('Loses')\n",
    "ax[0].set_xlabel(\"Epoch\")\n",
    "ax[0].set_ylabel(\"Loses\")\n",
    "ax[1].plot(train_scores, label=\"Training score\")\n",
    "ax[1].plot(val_scores, label=\"Validation score\")\n",
    "ax[1].legend()\n",
    "ax[1].set_title('Scores')\n",
    "ax[1].set_xlabel(\"Epoch\")\n",
    "ax[1].set_ylabel(\"Scores\")\n",
    "plt.show()"
   ]
  },
  {
   "cell_type": "code",
   "execution_count": 27,
   "id": "69935460-6a80-4be9-bad9-a36a1d8bbedb",
   "metadata": {},
   "outputs": [
    {
     "name": "stderr",
     "output_type": "stream",
     "text": [
      "100%|██████████| 1521/1521 [00:15<00:00, 101.08it/s]\n"
     ]
    }
   ],
   "source": [
    "def sigmoid(x):\n",
    "    return 1 / (1 + np.exp(-x))\n",
    "\n",
    "model.eval()\n",
    "test_predictions = []\n",
    "for data, target in tqdm(test_loader):\n",
    "    test_preds = model(data.to(device))\n",
    "    test_predictions.extend(\n",
    "        [sigmoid(test_pred[0]) for test_pred in test_preds.detach().cpu().numpy()]\n",
    "    )"
   ]
  },
  {
   "cell_type": "code",
   "execution_count": 30,
   "id": "a32e0dac-1c08-45a4-b113-5174e50efe5e",
   "metadata": {},
   "outputs": [],
   "source": [
    "np.savetxt(f\"../tmp/lstm_predictions_{TODAY}.csv\", test_predictions, delimiter=\",\")\n",
    "save_to_s3(BUCKET_NAME, f\"../tmp/lstm_predictions_{TODAY}.csv\", f\"{MODEL_PATH}/lstm_predictions_{TODAY}.csv\")"
   ]
  },
  {
   "cell_type": "code",
   "execution_count": 33,
   "id": "85cabc34-c500-41cf-8c09-6c6e014b977b",
   "metadata": {},
   "outputs": [],
   "source": [
    "torch.save(model.state_dict(), f'../tmp/lstm_model_{TODAY}.pth')\n",
    "save_to_s3(BUCKET_NAME, f\"../tmp/lstm_model_{TODAY}.pth\", f\"{MODEL_PATH}/lstm_model_{TODAY}.pth\")"
   ]
  },
  {
   "cell_type": "code",
   "execution_count": 34,
   "id": "e2dd09f5-653b-42e4-a3ea-51d1d9228308",
   "metadata": {},
   "outputs": [
    {
     "data": {
      "text/html": [
       "<div>\n",
       "<style scoped>\n",
       "    .dataframe tbody tr th:only-of-type {\n",
       "        vertical-align: middle;\n",
       "    }\n",
       "\n",
       "    .dataframe tbody tr th {\n",
       "        vertical-align: top;\n",
       "    }\n",
       "\n",
       "    .dataframe thead th {\n",
       "        text-align: right;\n",
       "    }\n",
       "</style>\n",
       "<table border=\"1\" class=\"dataframe\">\n",
       "  <thead>\n",
       "    <tr style=\"text-align: right;\">\n",
       "      <th></th>\n",
       "      <th>subgroup</th>\n",
       "      <th>subgroup_size</th>\n",
       "      <th>subgroup_auc</th>\n",
       "      <th>bpsn_auc</th>\n",
       "      <th>bnsp_auc</th>\n",
       "    </tr>\n",
       "  </thead>\n",
       "  <tbody>\n",
       "    <tr>\n",
       "      <th>2</th>\n",
       "      <td>homosexual_gay_or_lesbian</td>\n",
       "      <td>1065</td>\n",
       "      <td>0.790176</td>\n",
       "      <td>0.803905</td>\n",
       "      <td>0.957741</td>\n",
       "    </tr>\n",
       "    <tr>\n",
       "      <th>6</th>\n",
       "      <td>black</td>\n",
       "      <td>1519</td>\n",
       "      <td>0.802605</td>\n",
       "      <td>0.797802</td>\n",
       "      <td>0.965038</td>\n",
       "    </tr>\n",
       "    <tr>\n",
       "      <th>7</th>\n",
       "      <td>white</td>\n",
       "      <td>2452</td>\n",
       "      <td>0.805690</td>\n",
       "      <td>0.808938</td>\n",
       "      <td>0.962859</td>\n",
       "    </tr>\n",
       "    <tr>\n",
       "      <th>5</th>\n",
       "      <td>muslim</td>\n",
       "      <td>2040</td>\n",
       "      <td>0.825258</td>\n",
       "      <td>0.843348</td>\n",
       "      <td>0.953762</td>\n",
       "    </tr>\n",
       "    <tr>\n",
       "      <th>8</th>\n",
       "      <td>psychiatric_or_mental_illness</td>\n",
       "      <td>511</td>\n",
       "      <td>0.889390</td>\n",
       "      <td>0.850145</td>\n",
       "      <td>0.967781</td>\n",
       "    </tr>\n",
       "    <tr>\n",
       "      <th>4</th>\n",
       "      <td>jewish</td>\n",
       "      <td>835</td>\n",
       "      <td>0.892448</td>\n",
       "      <td>0.882144</td>\n",
       "      <td>0.960233</td>\n",
       "    </tr>\n",
       "    <tr>\n",
       "      <th>0</th>\n",
       "      <td>male</td>\n",
       "      <td>4386</td>\n",
       "      <td>0.892522</td>\n",
       "      <td>0.899410</td>\n",
       "      <td>0.953093</td>\n",
       "    </tr>\n",
       "    <tr>\n",
       "      <th>1</th>\n",
       "      <td>female</td>\n",
       "      <td>5155</td>\n",
       "      <td>0.895855</td>\n",
       "      <td>0.905399</td>\n",
       "      <td>0.950566</td>\n",
       "    </tr>\n",
       "    <tr>\n",
       "      <th>3</th>\n",
       "      <td>christian</td>\n",
       "      <td>4226</td>\n",
       "      <td>0.908584</td>\n",
       "      <td>0.930782</td>\n",
       "      <td>0.938668</td>\n",
       "    </tr>\n",
       "  </tbody>\n",
       "</table>\n",
       "</div>"
      ],
      "text/plain": [
       "                        subgroup  subgroup_size  subgroup_auc  bpsn_auc  \\\n",
       "2      homosexual_gay_or_lesbian           1065      0.790176  0.803905   \n",
       "6                          black           1519      0.802605  0.797802   \n",
       "7                          white           2452      0.805690  0.808938   \n",
       "5                         muslim           2040      0.825258  0.843348   \n",
       "8  psychiatric_or_mental_illness            511      0.889390  0.850145   \n",
       "4                         jewish            835      0.892448  0.882144   \n",
       "0                           male           4386      0.892522  0.899410   \n",
       "1                         female           5155      0.895855  0.905399   \n",
       "3                      christian           4226      0.908584  0.930782   \n",
       "\n",
       "   bnsp_auc  \n",
       "2  0.957741  \n",
       "6  0.965038  \n",
       "7  0.962859  \n",
       "5  0.953762  \n",
       "8  0.967781  \n",
       "4  0.960233  \n",
       "0  0.953093  \n",
       "1  0.950566  \n",
       "3  0.938668  "
      ]
     },
     "metadata": {},
     "output_type": "display_data"
    },
    {
     "name": "stdout",
     "output_type": "stream",
     "text": [
      "FINAL SCORE FOR LSTM IS 0.9018177258296987\n"
     ]
    }
   ],
   "source": [
    "oof_name = 'predicted_target'\n",
    "identity_columns = ['male', 'female', 'homosexual_gay_or_lesbian', 'christian', 'jewish', 'muslim', 'black', 'white', 'psychiatric_or_mental_illness']\n",
    "test[oof_name] = test_predictions\n",
    "#evaluation\n",
    "bias_metrics_df = compute_bias_metrics_for_model(test, identity_columns, oof_name, 'toxicity')\n",
    "display(bias_metrics_df)\n",
    "FINAL_SCORE = get_final_metric(bias_metrics_df, calculate_overall_auc(test, oof_name))\n",
    "print(f\"FINAL SCORE FOR LSTM IS {FINAL_SCORE}\")    "
   ]
  },
  {
   "cell_type": "markdown",
   "id": "8c10aec5-9889-47cb-82e3-5c862b38d6b6",
   "metadata": {},
   "source": [
    "### TESTING"
   ]
  },
  {
   "cell_type": "code",
   "execution_count": 49,
   "id": "53b1f2a3-eca1-43a5-9bde-f875f4525a84",
   "metadata": {},
   "outputs": [],
   "source": [
    "uploaded_vocab = torch.load(f'../tmp/vocab_obj_{TODAY}.pth')\n",
    "uploaded_model = torch.load(f\"../tmp/lstm_model_{TODAY}.pth\")"
   ]
  },
  {
   "cell_type": "code",
   "execution_count": 55,
   "id": "548e867a-685c-48ec-a6d3-b3b6096e7f88",
   "metadata": {},
   "outputs": [],
   "source": [
    "class SpatialDropout(nn.Dropout2d):\n",
    "    def forward(self, x):\n",
    "        x = x.unsqueeze(2)    # (N, T, 1, K)\n",
    "        x = x.permute(0, 3, 2, 1)  # (N, K, 1, T)\n",
    "        x = super(SpatialDropout, self).forward(x)  # (N, K, 1, T), some features are masked\n",
    "        x = x.permute(0, 3, 2, 1)  # (N, T, 1, K)\n",
    "        x = x.squeeze(2)  # (N, T, K)\n",
    "        return x\n",
    "    \n",
    "class Restored(nn.Module):\n",
    "    def __init__(self, embedding_matrix, lstm_hiden_size, dense_hiden_size):\n",
    "        super(Restored, self).__init__()\n",
    "        max_features = embedding_matrix.shape[0]\n",
    "        embed_size = embedding_matrix.shape[1]\n",
    "        \n",
    "        self.embedding = nn.Embedding(max_features, embed_size)\n",
    "        self.embedding.weight = nn.Parameter(embedding_matrix.clone().detach())\n",
    "        self.embedding.weight.requires_grad = False\n",
    "        self.embedding_dropout = SpatialDropout(0.666)\n",
    "        \n",
    "        self.lstm1 = nn.LSTM(embed_size, lstm_hiden_size, bidirectional=True, batch_first=True)\n",
    "        self.lstm2 = nn.LSTM(lstm_hiden_size * 2, lstm_hiden_size, bidirectional=True, batch_first=True)\n",
    "    \n",
    "        self.linear1 = nn.Linear(dense_hiden_size, dense_hiden_size)\n",
    "        self.linear2 = nn.Linear(dense_hiden_size, dense_hiden_size)\n",
    "        \n",
    "        self.linear_out = nn.Linear(dense_hiden_size, 1)\n",
    "        \n",
    "    def forward(self, x):\n",
    "        h_embedding = self.embedding(x)\n",
    "        h_embedding = self.embedding_dropout(h_embedding)\n",
    "        h_lstm1, _ = self.lstm1(h_embedding)\n",
    "        h_lstm2, _ = self.lstm2(h_lstm1)\n",
    "        \n",
    "        # global average pooling\n",
    "        avg_pool = torch.mean(h_lstm2, 1)\n",
    "        max_pool, _ = torch.max(h_lstm2, 1)\n",
    "        \n",
    "        h_conc = torch.cat((max_pool, avg_pool), 1)\n",
    "        h_conc_linear1  = relu(self.linear1(h_conc))\n",
    "        h_conc_linear2  = relu(self.linear2(h_conc))\n",
    "        \n",
    "        hidden = h_conc + h_conc_linear1 + h_conc_linear2       \n",
    "        result = self.linear_out(hidden)\n",
    "\n",
    "        return result\n",
    "###PARAMETERS\n",
    "glove = GloVe(name=\"6B\", dim=300)\n",
    "new_embedding_matrix = glove.get_vecs_by_tokens(uploaded_vocab.get_itos())\n",
    "lstm_hiden_size = 128\n",
    "dense_hiden_size = 4 * lstm_hiden_size\n",
    "restored_model = Restored(new_embedding_matrix, lstm_hiden_size, dense_hiden_size)\n",
    "restored_model.load_state_dict(uploaded_model)\n",
    "trainer = torch.optim.Adam(restored_model.parameters(), lr=learning_rate)\n",
    "cross_ent_loss = nn.BCEWithLogitsLoss(reduction='mean')"
   ]
  },
  {
   "cell_type": "code",
   "execution_count": 57,
   "id": "51757ddf-0e78-4cc3-9685-7c8b3cf9be6c",
   "metadata": {},
   "outputs": [],
   "source": [
    "text_transform_pipeline = lambda x: [uploaded_vocab[token] for token in tokenizer(x)]\n",
    "\n",
    "def transformText(text_list, max_len):\n",
    "    # Transform the text\n",
    "    transformed_data = [text_transform_pipeline(text)[:max_len] for text in text_list]\n",
    "\n",
    "    # Pad zeros if the text is shoter than max_len\n",
    "    for data in transformed_data:\n",
    "        data[len(data) : max_len] = np.ones(max_len - len(data))\n",
    "\n",
    "    return torch.tensor(transformed_data, dtype=torch.int64)\n",
    "\n",
    "def sigmoid(x):\n",
    "    return 1 / (1 + np.exp(-x))\n",
    "\n",
    "def determine_toxicity(text):\n",
    "    \n",
    "    transformed = transformText([text], 100)\n",
    "    test_loader = DataLoader(transformed, batch_size=batch_size)\n",
    "    restored_model.eval()\n",
    "    test_predictions = []\n",
    "    for data in test_loader:\n",
    "        test_preds = restored_model(data)\n",
    "        test_predictions.extend(\n",
    "            [sigmoid(test_pred[0]) for test_pred in test_preds.detach().cpu().numpy()]\n",
    "        )\n",
    "    return test_predictions[0]\n"
   ]
  },
  {
   "cell_type": "code",
   "execution_count": 56,
   "id": "a6380499-fa0b-4562-8c63-f99f1ab2754d",
   "metadata": {},
   "outputs": [],
   "source": [
    "test_strings = [\"Any news on the prizes ? Monika Kaczmarek\", \"give us some more time🙌 We'll contact with you when it will be ready 🚀\",\"Hello Viktoryia Charnianina, is it critical to send the invoice within the specified period (last day of month - 5th of the next month)? I've send my invoice a bit earlier.\",\n",
    "                \"Hello everyone. Please tell me who I can contact about my vacation? I have some questions about Unused day off. Thanks.\",\n",
    "               \"Hi everyone! Hope you had a great Tuesday! Is there anybody who sells iPhone 12/13? I broke mine yesterday \",\n",
    "               \"Do we have any kind of comparison between Komfort and Komfort plus plans?\",\n",
    "\"What if somebody wants to stay on a Komfort plan further? Do they need to fill up a questionnaire?\",\n",
    "\"Nope smile You do not need to do anything. It will be prolonged automatically. \",\n",
    "\"\"\"Hi!\n",
    "Have I understood correctly that 'Declaration' that is mentioned above is called as \"Formularz - medical insurance\" in Sharepoint?\"\"\"\n",
    "\"I have found the answer))))\",\n",
    "\"General those who has Standard last year, you will be automatically moved to Komfort ( still it will be free of charge for you). If you do not want to have any package, this is the last moment for you to let me know. \",\n",
    "\"General some of you started to receive your PZU declarations. Please do not worry if you haven't received yours yet or if you have received one of them ( medical/life insurance) but haven't received the rest. You'll receive the remaining files next week. It's just to many declarations to deal with. Hope for your understanding\",\n",
    "\"please mind couple of things when you send me scans of your documents: 1) I just need PZU Life Insurance scan; 2) You need to send 1st and 2nd page as one PDF file and send it to me  ( just picture of your signature has no value); 3) Even if you sent a scan, you still need to bring/mail us the oginal ( also original of medical insurance if you have one). In case you haven't received password to your files, it is: 2022 \"]"
   ]
  },
  {
   "cell_type": "code",
   "execution_count": 58,
   "id": "34686250-e361-4d64-a4f9-d846a9f27e68",
   "metadata": {},
   "outputs": [
    {
     "name": "stderr",
     "output_type": "stream",
     "text": [
      "/tmp/ipykernel_187/3220465202.py:11: DeprecationWarning: an integer is required (got type numpy.float64).  Implicit conversion to integers using __int__ is deprecated, and may be removed in a future version of Python.\n",
      "  return torch.tensor(transformed_data, dtype=torch.int64)\n"
     ]
    },
    {
     "name": "stdout",
     "output_type": "stream",
     "text": [
      "Any news on the prizes ? Monika Kaczmarek, toxicity = 0.000811178097557633\n",
      "give us some more time🙌 We'll contact with you when it will be ready 🚀, toxicity = 0.01414878853588882\n",
      "Hello Viktoryia Charnianina, is it critical to send the invoice within the specified period (last day of month - 5th of the next month)? I've send my invoice a bit earlier., toxicity = 0.0005829091492828055\n",
      "Hello everyone. Please tell me who I can contact about my vacation? I have some questions about Unused day off. Thanks., toxicity = 0.002589870514377939\n",
      "Hi everyone! Hope you had a great Tuesday! Is there anybody who sells iPhone 12/13? I broke mine yesterday , toxicity = 0.004070371667987206\n",
      "Do we have any kind of comparison between Komfort and Komfort plus plans?, toxicity = 0.00229742996056761\n",
      "What if somebody wants to stay on a Komfort plan further? Do they need to fill up a questionnaire?, toxicity = 0.0019598885552628404\n",
      "Nope smile You do not need to do anything. It will be prolonged automatically. , toxicity = 0.008261640986341806\n",
      "Hi!\n",
      "Have I understood correctly that 'Declaration' that is mentioned above is called as \"Formularz - medical insurance\" in Sharepoint?I have found the answer)))), toxicity = 0.00043419115413966176\n",
      "General those who has Standard last year, you will be automatically moved to Komfort ( still it will be free of charge for you). If you do not want to have any package, this is the last moment for you to let me know. , toxicity = 0.0011609525678174793\n",
      "General some of you started to receive your PZU declarations. Please do not worry if you haven't received yours yet or if you have received one of them ( medical/life insurance) but haven't received the rest. You'll receive the remaining files next week. It's just to many declarations to deal with. Hope for your understanding, toxicity = 0.0010994938597052814\n",
      "please mind couple of things when you send me scans of your documents: 1) I just need PZU Life Insurance scan; 2) You need to send 1st and 2nd page as one PDF file and send it to me  ( just picture of your signature has no value); 3) Even if you sent a scan, you still need to bring/mail us the oginal ( also original of medical insurance if you have one). In case you haven't received password to your files, it is: 2022 , toxicity = 0.004795772788555712\n"
     ]
    }
   ],
   "source": [
    "for text in test_strings:\n",
    "    print(f\"{text}, toxicity = {determine_toxicity(text)}\")"
   ]
  },
  {
   "cell_type": "code",
   "execution_count": null,
   "id": "81b29717-6ee2-4ee4-9df4-b0b9a3389d20",
   "metadata": {},
   "outputs": [],
   "source": []
  }
 ],
 "metadata": {
  "kernelspec": {
   "display_name": "godel:Python",
   "language": "python",
   "name": "conda-env-godel-py"
  },
  "language_info": {
   "codemirror_mode": {
    "name": "ipython",
    "version": 3
   },
   "file_extension": ".py",
   "mimetype": "text/x-python",
   "name": "python",
   "nbconvert_exporter": "python",
   "pygments_lexer": "ipython3",
   "version": "3.9.13"
  }
 },
 "nbformat": 4,
 "nbformat_minor": 5
}
