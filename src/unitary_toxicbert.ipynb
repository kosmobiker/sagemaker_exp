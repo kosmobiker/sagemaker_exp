{
 "cells": [
  {
   "cell_type": "code",
   "execution_count": 9,
   "id": "3009ea12-0e49-4e7f-8725-079d9ac58c1c",
   "metadata": {},
   "outputs": [],
   "source": [
    "from sagemaker.huggingface.model import HuggingFaceModel\n",
    "from datasets import Dataset\n",
    "import torch\n",
    "from transformers import BertTokenizer, BertForSequenceClassification\n",
    "from transformers import AutoTokenizer, AutoModelForSequenceClassification\n",
    "import numpy as np\n",
    "import pandas as pd\n",
    "import awswrangler as wr\n",
    "from quality_calculator import compute_bias_metrics_for_model, calculate_overall_auc, get_final_metric\n",
    "from tqdm import tqdm\n",
    "tqdm.pandas()\n",
    "\n",
    "SEED = 1234\n",
    "\n",
    "import os\n",
    "import random\n",
    "import gc\n",
    "import warnings\n",
    "pd.set_option('display.max_columns', None)\n",
    "pd.set_option('display.max_colwidth', 500)\n",
    "pd.options.mode.chained_assignment = None\n",
    "warnings.simplefilter(action='ignore', category=FutureWarning)"
   ]
  },
  {
   "cell_type": "code",
   "execution_count": 10,
   "id": "3b1adfb4-ff5e-4e1a-8cb6-0697568044f8",
   "metadata": {},
   "outputs": [
    {
     "name": "stdout",
     "output_type": "stream",
     "text": [
      "Today I'm going to use cuda\n"
     ]
    }
   ],
   "source": [
    "device = torch.device(\"cuda:0\" if torch.cuda.is_available() else \"cpu\")\n",
    "print(f\"Today I'm going to use {device.type}\")\n",
    "\n",
    "model_name = 'unitary/toxic-bert'\n",
    "\n",
    "model = AutoModelForSequenceClassification.from_pretrained(model_name, cache_dir = '../tmp/AutoModel')\n",
    "tokenizer = AutoTokenizer.from_pretrained(model_name, cache_dir = '../tmp/AutoTokenizer')    "
   ]
  },
  {
   "cell_type": "code",
   "execution_count": 24,
   "id": "19c3c282-326c-43cf-8490-2edbcafe34c1",
   "metadata": {},
   "outputs": [],
   "source": [
    "def seed_everything(seed=SEED):\n",
    "    random.seed(seed)\n",
    "    os.environ['PYTHONHASHSEED'] = str(seed)\n",
    "    np.random.seed(seed)\n",
    "    torch.manual_seed(seed)\n",
    "    torch.cuda.manual_seed(seed)\n",
    "    torch.backends.cudnn.deterministic = True\n",
    "seed_everything()\n",
    "gc.collect()\n",
    "torch.cuda.empty_cache()\n",
    "# del model\n",
    "# del Trainer\n",
    "# del tokenizer"
   ]
  },
  {
   "cell_type": "code",
   "execution_count": 25,
   "id": "b2275e02-8a73-4bf3-97ef-0e416b11a3b2",
   "metadata": {},
   "outputs": [],
   "source": [
    "with open(\"../data/godel.txt\") as f:\n",
    "    lines = f.readlines()\n",
    "godel_test_comments = pd.DataFrame(lines, columns = ['comment_text'])\n",
    "godel_test_comments['comment_text'] = godel_test_comments['comment_text'].apply(lambda x: x.strip())"
   ]
  },
  {
   "cell_type": "code",
   "execution_count": 26,
   "id": "501756c0-7a2e-4d26-85f6-05b2733e0d1e",
   "metadata": {},
   "outputs": [],
   "source": [
    "sigmoid = torch.nn.Sigmoid()"
   ]
  },
  {
   "cell_type": "code",
   "execution_count": 27,
   "id": "41ebb699-efd9-4175-8b44-cfa232c162b0",
   "metadata": {},
   "outputs": [],
   "source": [
    "def predict_toxicity(text):\n",
    "    inputs = tokenizer(text, padding=\"max_length\", truncation=True, return_tensors=\"pt\").to(device)\n",
    "    with torch.no_grad():\n",
    "        model.to(device)\n",
    "        outputs = model(**inputs).logits\n",
    "    probas = sigmoid(outputs).cpu().detach().numpy()[0]\n",
    "    return {\n",
    "        'toxicity': probas[0],\n",
    "        'severe_toxic': probas[1],\n",
    "        'obscene': probas[2],\n",
    "        'threat': probas[3],\n",
    "        'insult': probas[4],\n",
    "        'identity_hate': probas[5]\n",
    "    }"
   ]
  },
  {
   "cell_type": "code",
   "execution_count": 28,
   "id": "6fde5224-66f4-4a84-9354-7f268952aa58",
   "metadata": {},
   "outputs": [
    {
     "name": "stdout",
     "output_type": "stream",
     "text": [
      "CPU times: user 893 ms, sys: 292 ms, total: 1.19 s\n",
      "Wall time: 1.18 s\n"
     ]
    }
   ],
   "source": [
    "%%time\n",
    "godel_test_comments['results'] = godel_test_comments['comment_text'].apply(predict_toxicity)"
   ]
  },
  {
   "cell_type": "code",
   "execution_count": 29,
   "id": "d9ebd252-26f2-4507-9ad6-412a3deb052b",
   "metadata": {},
   "outputs": [
    {
     "data": {
      "text/html": [
       "<div>\n",
       "<style scoped>\n",
       "    .dataframe tbody tr th:only-of-type {\n",
       "        vertical-align: middle;\n",
       "    }\n",
       "\n",
       "    .dataframe tbody tr th {\n",
       "        vertical-align: top;\n",
       "    }\n",
       "\n",
       "    .dataframe thead th {\n",
       "        text-align: right;\n",
       "    }\n",
       "</style>\n",
       "<table border=\"1\" class=\"dataframe\">\n",
       "  <thead>\n",
       "    <tr style=\"text-align: right;\">\n",
       "      <th></th>\n",
       "      <th>comment_text</th>\n",
       "      <th>toxicity</th>\n",
       "      <th>severe_toxic</th>\n",
       "      <th>obscene</th>\n",
       "      <th>threat</th>\n",
       "      <th>insult</th>\n",
       "      <th>identity_hate</th>\n",
       "    </tr>\n",
       "  </thead>\n",
       "  <tbody>\n",
       "    <tr>\n",
       "      <th>0</th>\n",
       "      <td>Hi team, August 15th is a state holiday in Poland, so do I understand correctly that we will receive our salaries on Friday, 12th?</td>\n",
       "      <td>0.000573</td>\n",
       "      <td>0.000125</td>\n",
       "      <td>0.000177</td>\n",
       "      <td>0.000129</td>\n",
       "      <td>0.000176</td>\n",
       "      <td>0.000144</td>\n",
       "    </tr>\n",
       "    <tr>\n",
       "      <th>1</th>\n",
       "      <td>Or on Tuesday, 16th</td>\n",
       "      <td>0.000824</td>\n",
       "      <td>0.000107</td>\n",
       "      <td>0.000189</td>\n",
       "      <td>0.000113</td>\n",
       "      <td>0.000182</td>\n",
       "      <td>0.000133</td>\n",
       "    </tr>\n",
       "    <tr>\n",
       "      <th>2</th>\n",
       "      <td>according to contract invoices have to be payed within 15 day, no exceptions for public holidays were described. paying on Tuesday, 16th seems to be a breach of contract. Viktoryia Charnianina please correct me if I'm wrong</td>\n",
       "      <td>0.000693</td>\n",
       "      <td>0.000112</td>\n",
       "      <td>0.000171</td>\n",
       "      <td>0.000119</td>\n",
       "      <td>0.000176</td>\n",
       "      <td>0.000137</td>\n",
       "    </tr>\n",
       "  </tbody>\n",
       "</table>\n",
       "</div>"
      ],
      "text/plain": [
       "                                                                                                                                                                                                                      comment_text  \\\n",
       "0                                                                                               Hi team, August 15th is a state holiday in Poland, so do I understand correctly that we will receive our salaries on Friday, 12th?   \n",
       "1                                                                                                                                                                                                              Or on Tuesday, 16th   \n",
       "2  according to contract invoices have to be payed within 15 day, no exceptions for public holidays were described. paying on Tuesday, 16th seems to be a breach of contract. Viktoryia Charnianina please correct me if I'm wrong   \n",
       "\n",
       "   toxicity  severe_toxic   obscene    threat    insult  identity_hate  \n",
       "0  0.000573      0.000125  0.000177  0.000129  0.000176       0.000144  \n",
       "1  0.000824      0.000107  0.000189  0.000113  0.000182       0.000133  \n",
       "2  0.000693      0.000112  0.000171  0.000119  0.000176       0.000137  "
      ]
     },
     "execution_count": 29,
     "metadata": {},
     "output_type": "execute_result"
    }
   ],
   "source": [
    "godel_test_comments = godel_test_comments.join(pd.json_normalize(godel_test_comments['results'])).drop(['results'], axis=1)\n",
    "godel_test_comments.head(3)"
   ]
  },
  {
   "cell_type": "code",
   "execution_count": 17,
   "id": "84429390-7026-4900-9e0b-e8cdbf061bea",
   "metadata": {},
   "outputs": [],
   "source": [
    "BUCKET_NAME = 'sagemaker-godeltech'\n",
    "TEST_PATH = f\"s3://{BUCKET_NAME}/data/test/test.csv\"\n",
    "test = wr.s3.read_csv([TEST_PATH])"
   ]
  },
  {
   "cell_type": "code",
   "execution_count": 18,
   "id": "2b8347f7-b45e-4ace-b5a2-ea3d35ac9b08",
   "metadata": {},
   "outputs": [
    {
     "name": "stderr",
     "output_type": "stream",
     "text": [
      "100%|██████████| 194641/194641 [2:02:56<00:00, 26.39it/s]  "
     ]
    },
    {
     "name": "stdout",
     "output_type": "stream",
     "text": [
      "CPU times: user 1h 28min 4s, sys: 35min 18s, total: 2h 3min 23s\n",
      "Wall time: 2h 2min 56s\n"
     ]
    },
    {
     "name": "stderr",
     "output_type": "stream",
     "text": [
      "\n"
     ]
    }
   ],
   "source": [
    "%%time\n",
    "results = test['comment_text'].progress_apply(predict_toxicity)\n",
    "# results = np.vectorize(predict_toxicity)(test['comment_text'])"
   ]
  },
  {
   "cell_type": "code",
   "execution_count": 19,
   "id": "de9293cc-321b-46df-b9ad-ce9355473542",
   "metadata": {},
   "outputs": [],
   "source": [
    "predictions = np.where(pd.json_normalize(results)['toxicity'] >= 0.5, 1, 0)"
   ]
  },
  {
   "cell_type": "code",
   "execution_count": 20,
   "id": "da4392ec-6f1f-49b3-8cc6-57c8fc16990b",
   "metadata": {},
   "outputs": [
    {
     "data": {
      "text/html": [
       "<div>\n",
       "<style scoped>\n",
       "    .dataframe tbody tr th:only-of-type {\n",
       "        vertical-align: middle;\n",
       "    }\n",
       "\n",
       "    .dataframe tbody tr th {\n",
       "        vertical-align: top;\n",
       "    }\n",
       "\n",
       "    .dataframe thead th {\n",
       "        text-align: right;\n",
       "    }\n",
       "</style>\n",
       "<table border=\"1\" class=\"dataframe\">\n",
       "  <thead>\n",
       "    <tr style=\"text-align: right;\">\n",
       "      <th></th>\n",
       "      <th>subgroup</th>\n",
       "      <th>subgroup_size</th>\n",
       "      <th>subgroup_auc</th>\n",
       "      <th>bpsn_auc</th>\n",
       "      <th>bnsp_auc</th>\n",
       "    </tr>\n",
       "  </thead>\n",
       "  <tbody>\n",
       "    <tr>\n",
       "      <th>5</th>\n",
       "      <td>muslim</td>\n",
       "      <td>2040</td>\n",
       "      <td>0.612840</td>\n",
       "      <td>0.706424</td>\n",
       "      <td>0.612986</td>\n",
       "    </tr>\n",
       "    <tr>\n",
       "      <th>7</th>\n",
       "      <td>white</td>\n",
       "      <td>2452</td>\n",
       "      <td>0.620279</td>\n",
       "      <td>0.696593</td>\n",
       "      <td>0.631096</td>\n",
       "    </tr>\n",
       "    <tr>\n",
       "      <th>6</th>\n",
       "      <td>black</td>\n",
       "      <td>1519</td>\n",
       "      <td>0.626930</td>\n",
       "      <td>0.695862</td>\n",
       "      <td>0.637012</td>\n",
       "    </tr>\n",
       "    <tr>\n",
       "      <th>3</th>\n",
       "      <td>christian</td>\n",
       "      <td>4226</td>\n",
       "      <td>0.627449</td>\n",
       "      <td>0.709378</td>\n",
       "      <td>0.623848</td>\n",
       "    </tr>\n",
       "    <tr>\n",
       "      <th>2</th>\n",
       "      <td>homosexual_gay_or_lesbian</td>\n",
       "      <td>1065</td>\n",
       "      <td>0.639722</td>\n",
       "      <td>0.682649</td>\n",
       "      <td>0.661615</td>\n",
       "    </tr>\n",
       "    <tr>\n",
       "      <th>4</th>\n",
       "      <td>jewish</td>\n",
       "      <td>835</td>\n",
       "      <td>0.642204</td>\n",
       "      <td>0.696075</td>\n",
       "      <td>0.650283</td>\n",
       "    </tr>\n",
       "    <tr>\n",
       "      <th>0</th>\n",
       "      <td>male</td>\n",
       "      <td>4386</td>\n",
       "      <td>0.677810</td>\n",
       "      <td>0.698222</td>\n",
       "      <td>0.684248</td>\n",
       "    </tr>\n",
       "    <tr>\n",
       "      <th>1</th>\n",
       "      <td>female</td>\n",
       "      <td>5155</td>\n",
       "      <td>0.679279</td>\n",
       "      <td>0.696321</td>\n",
       "      <td>0.687569</td>\n",
       "    </tr>\n",
       "    <tr>\n",
       "      <th>8</th>\n",
       "      <td>psychiatric_or_mental_illness</td>\n",
       "      <td>511</td>\n",
       "      <td>0.708910</td>\n",
       "      <td>0.690462</td>\n",
       "      <td>0.721993</td>\n",
       "    </tr>\n",
       "  </tbody>\n",
       "</table>\n",
       "</div>"
      ],
      "text/plain": [
       "                        subgroup  subgroup_size  subgroup_auc  bpsn_auc  \\\n",
       "5                         muslim           2040      0.612840  0.706424   \n",
       "7                          white           2452      0.620279  0.696593   \n",
       "6                          black           1519      0.626930  0.695862   \n",
       "3                      christian           4226      0.627449  0.709378   \n",
       "2      homosexual_gay_or_lesbian           1065      0.639722  0.682649   \n",
       "4                         jewish            835      0.642204  0.696075   \n",
       "0                           male           4386      0.677810  0.698222   \n",
       "1                         female           5155      0.679279  0.696321   \n",
       "8  psychiatric_or_mental_illness            511      0.708910  0.690462   \n",
       "\n",
       "   bnsp_auc  \n",
       "5  0.612986  \n",
       "7  0.631096  \n",
       "6  0.637012  \n",
       "3  0.623848  \n",
       "2  0.661615  \n",
       "4  0.650283  \n",
       "0  0.684248  \n",
       "1  0.687569  \n",
       "8  0.721993  "
      ]
     },
     "metadata": {},
     "output_type": "display_data"
    },
    {
     "name": "stdout",
     "output_type": "stream",
     "text": [
      "FINAL SCORE FOR TOXIC-BERT IS 0.6741386142708594\n"
     ]
    }
   ],
   "source": [
    "oof_name = 'predicted_target'\n",
    "identity_columns = ['male', 'female', 'homosexual_gay_or_lesbian', 'christian', 'jewish', 'muslim', 'black', 'white', 'psychiatric_or_mental_illness']\n",
    "test[oof_name] = predictions\n",
    "#evaluation\n",
    "bias_metrics_df = compute_bias_metrics_for_model(test, identity_columns, oof_name, 'toxicity')\n",
    "display(bias_metrics_df)\n",
    "FINAL_SCORE = get_final_metric(bias_metrics_df, calculate_overall_auc(test, oof_name))\n",
    "print(f\"FINAL SCORE FOR TOXIC-BERT IS {FINAL_SCORE}\")  "
   ]
  },
  {
   "cell_type": "code",
   "execution_count": 33,
   "id": "e92aab8c-20c3-4490-a515-8bc17bb950eb",
   "metadata": {},
   "outputs": [],
   "source": [
    "from utils import save_to_s3, get_from_s3\n",
    "from datetime import datetime\n",
    "\n",
    "TODAY = datetime.today().strftime(\"%Y%m%d\")\n",
    "BUCKET_NAME = 'sagemaker-godeltech'\n",
    "MODEL_PATH = \"transformers/results\"\n",
    "\n",
    "\n",
    "np.savetxt(f\"../tmp/pretrained_predictions_{TODAY}.csv\", predictions, delimiter=\",\")\n",
    "save_to_s3(BUCKET_NAME, f\"../tmp/pretrained_predictions_{TODAY}.csv\", f\"{MODEL_PATH}/pretrained_predictions_{TODAY}.csv\")"
   ]
  },
  {
   "cell_type": "code",
   "execution_count": null,
   "id": "15d26da2-cbe6-4ad2-8a88-52cfad7e3b18",
   "metadata": {},
   "outputs": [],
   "source": []
  }
 ],
 "metadata": {
  "kernelspec": {
   "display_name": "godel:Python",
   "language": "python",
   "name": "conda-env-godel-py"
  },
  "language_info": {
   "codemirror_mode": {
    "name": "ipython",
    "version": 3
   },
   "file_extension": ".py",
   "mimetype": "text/x-python",
   "name": "python",
   "nbconvert_exporter": "python",
   "pygments_lexer": "ipython3",
   "version": "3.9.13"
  }
 },
 "nbformat": 4,
 "nbformat_minor": 5
}
