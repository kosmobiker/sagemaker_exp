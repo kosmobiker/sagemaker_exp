{
 "cells": [
  {
   "cell_type": "code",
   "execution_count": 2,
   "id": "fd23e2fa-2523-4a5d-aff5-4fe89c11a352",
   "metadata": {},
   "outputs": [],
   "source": [
    "import pandas as pd\n",
    "import boto3\n",
    "import numpy as np\n",
    "from collections import Counter\n",
    "import os\n",
    "import random\n",
    "from datetime import datetime\n",
    "import re, string\n",
    "from typing import Dict\n",
    "\n",
    "import torch, torchtext\n",
    "import torchvision.models as models\n",
    "from torchtext.data.utils import get_tokenizer\n",
    "from torch.utils.data import TensorDataset, DataLoader\n",
    "from torchtext.vocab import GloVe\n",
    "from torch import nn, optim\n",
    "from torch.nn import Module, Embedding, LSTM, RNN, GRU, Linear, Sequential, Dropout\n",
    "from torch.nn.functional import sigmoid, relu, elu, tanh\n",
    "from torch.nn import CrossEntropyLoss\n",
    "from torch.optim import Adam\n",
    "from torch.nn.utils.rnn import PackedSequence\n",
    "\n",
    "\n",
    "from tqdm import tqdm\n",
    "\n",
    "SEED = 1234\n",
    "N_SAMPLES = 100_000\n",
    "\n",
    "%matplotlib inline\n",
    "import matplotlib.pyplot as plt\n",
    "import seaborn as sns\n",
    "\n",
    "from sklearn.model_selection import train_test_split\n",
    "from sklearn.metrics import confusion_matrix, classification_report, accuracy_score, f1_score, roc_auc_score\n",
    "\n",
    "import time\n",
    "\n",
    "import warnings\n",
    "pd.set_option('display.max_columns', None)\n",
    "pd.set_option('display.max_colwidth', 500)\n",
    "pd.options.mode.chained_assignment = None\n",
    "warnings.simplefilter(action='ignore', category=FutureWarning)"
   ]
  },
  {
   "cell_type": "code",
   "execution_count": 2,
   "id": "f30d61b1-f4d3-4aa0-8c02-35cdf5187bac",
   "metadata": {},
   "outputs": [],
   "source": [
    "def seed_everything(seed=SEED):\n",
    "    random.seed(seed)\n",
    "    os.environ['PYTHONHASHSEED'] = str(seed)\n",
    "    np.random.seed(seed)\n",
    "    torch.manual_seed(seed)\n",
    "    torch.cuda.manual_seed(seed)\n",
    "    torch.backends.cudnn.deterministic = True\n",
    "seed_everything()"
   ]
  },
  {
   "cell_type": "code",
   "execution_count": 3,
   "id": "23364c0f-85aa-44e4-b6e2-9b6eba0c560a",
   "metadata": {},
   "outputs": [
    {
     "name": "stdout",
     "output_type": "stream",
     "text": [
      "Today I'm going to use cuda\n"
     ]
    }
   ],
   "source": [
    "device = torch.device(\"cuda:0\" if torch.cuda.is_available() else \"cpu\")\n",
    "print(f\"Today I'm going to use {device.type}\")"
   ]
  },
  {
   "cell_type": "code",
   "execution_count": 4,
   "id": "9e9f2a61-7c17-4cd1-9a21-6245d853f430",
   "metadata": {},
   "outputs": [
    {
     "data": {
      "text/html": [
       "<div>\n",
       "<style scoped>\n",
       "    .dataframe tbody tr th:only-of-type {\n",
       "        vertical-align: middle;\n",
       "    }\n",
       "\n",
       "    .dataframe tbody tr th {\n",
       "        vertical-align: top;\n",
       "    }\n",
       "\n",
       "    .dataframe thead th {\n",
       "        text-align: right;\n",
       "    }\n",
       "</style>\n",
       "<table border=\"1\" class=\"dataframe\">\n",
       "  <thead>\n",
       "    <tr style=\"text-align: right;\">\n",
       "      <th></th>\n",
       "      <th>id</th>\n",
       "      <th>comment_text</th>\n",
       "      <th>split</th>\n",
       "      <th>created_date</th>\n",
       "      <th>publication_id</th>\n",
       "      <th>parent_id</th>\n",
       "      <th>article_id</th>\n",
       "      <th>rating</th>\n",
       "      <th>funny</th>\n",
       "      <th>wow</th>\n",
       "      <th>sad</th>\n",
       "      <th>likes</th>\n",
       "      <th>disagree</th>\n",
       "      <th>toxicity</th>\n",
       "      <th>severe_toxicity</th>\n",
       "      <th>obscene</th>\n",
       "      <th>sexual_explicit</th>\n",
       "      <th>identity_attack</th>\n",
       "      <th>insult</th>\n",
       "      <th>threat</th>\n",
       "      <th>male</th>\n",
       "      <th>female</th>\n",
       "      <th>transgender</th>\n",
       "      <th>other_gender</th>\n",
       "      <th>heterosexual</th>\n",
       "      <th>homosexual_gay_or_lesbian</th>\n",
       "      <th>bisexual</th>\n",
       "      <th>other_sexual_orientation</th>\n",
       "      <th>christian</th>\n",
       "      <th>jewish</th>\n",
       "      <th>muslim</th>\n",
       "      <th>hindu</th>\n",
       "      <th>buddhist</th>\n",
       "      <th>atheist</th>\n",
       "      <th>other_religion</th>\n",
       "      <th>black</th>\n",
       "      <th>white</th>\n",
       "      <th>asian</th>\n",
       "      <th>latino</th>\n",
       "      <th>other_race_or_ethnicity</th>\n",
       "      <th>physical_disability</th>\n",
       "      <th>intellectual_or_learning_disability</th>\n",
       "      <th>psychiatric_or_mental_illness</th>\n",
       "      <th>other_disability</th>\n",
       "      <th>identity_annotator_count</th>\n",
       "      <th>toxicity_annotator_count</th>\n",
       "    </tr>\n",
       "  </thead>\n",
       "  <tbody>\n",
       "    <tr>\n",
       "      <th>0</th>\n",
       "      <td>1083994</td>\n",
       "      <td>He got his money... now he lies in wait till after the election in 2 yrs.... dirty politicians need to be afraid of Tar and feathers again... but they aren't and so the people get screwed.</td>\n",
       "      <td>train</td>\n",
       "      <td>2017-03-06 15:21:53.675241+00</td>\n",
       "      <td>21</td>\n",
       "      <td>NaN</td>\n",
       "      <td>317120</td>\n",
       "      <td>approved</td>\n",
       "      <td>0</td>\n",
       "      <td>0</td>\n",
       "      <td>0</td>\n",
       "      <td>2</td>\n",
       "      <td>0</td>\n",
       "      <td>0.373134</td>\n",
       "      <td>0.044776</td>\n",
       "      <td>0.089552</td>\n",
       "      <td>0.014925</td>\n",
       "      <td>0.000000</td>\n",
       "      <td>0.343284</td>\n",
       "      <td>0.014925</td>\n",
       "      <td>NaN</td>\n",
       "      <td>NaN</td>\n",
       "      <td>NaN</td>\n",
       "      <td>NaN</td>\n",
       "      <td>NaN</td>\n",
       "      <td>NaN</td>\n",
       "      <td>NaN</td>\n",
       "      <td>NaN</td>\n",
       "      <td>NaN</td>\n",
       "      <td>NaN</td>\n",
       "      <td>NaN</td>\n",
       "      <td>NaN</td>\n",
       "      <td>NaN</td>\n",
       "      <td>NaN</td>\n",
       "      <td>NaN</td>\n",
       "      <td>NaN</td>\n",
       "      <td>NaN</td>\n",
       "      <td>NaN</td>\n",
       "      <td>NaN</td>\n",
       "      <td>NaN</td>\n",
       "      <td>NaN</td>\n",
       "      <td>NaN</td>\n",
       "      <td>NaN</td>\n",
       "      <td>NaN</td>\n",
       "      <td>0</td>\n",
       "      <td>67</td>\n",
       "    </tr>\n",
       "    <tr>\n",
       "      <th>1</th>\n",
       "      <td>650904</td>\n",
       "      <td>Mad dog will surely put the liberals in mental hospitals. Boorah</td>\n",
       "      <td>train</td>\n",
       "      <td>2016-12-02 16:44:21.329535+00</td>\n",
       "      <td>21</td>\n",
       "      <td>NaN</td>\n",
       "      <td>154086</td>\n",
       "      <td>approved</td>\n",
       "      <td>0</td>\n",
       "      <td>0</td>\n",
       "      <td>1</td>\n",
       "      <td>2</td>\n",
       "      <td>0</td>\n",
       "      <td>0.605263</td>\n",
       "      <td>0.013158</td>\n",
       "      <td>0.065789</td>\n",
       "      <td>0.013158</td>\n",
       "      <td>0.092105</td>\n",
       "      <td>0.565789</td>\n",
       "      <td>0.065789</td>\n",
       "      <td>NaN</td>\n",
       "      <td>NaN</td>\n",
       "      <td>NaN</td>\n",
       "      <td>NaN</td>\n",
       "      <td>NaN</td>\n",
       "      <td>NaN</td>\n",
       "      <td>NaN</td>\n",
       "      <td>NaN</td>\n",
       "      <td>NaN</td>\n",
       "      <td>NaN</td>\n",
       "      <td>NaN</td>\n",
       "      <td>NaN</td>\n",
       "      <td>NaN</td>\n",
       "      <td>NaN</td>\n",
       "      <td>NaN</td>\n",
       "      <td>NaN</td>\n",
       "      <td>NaN</td>\n",
       "      <td>NaN</td>\n",
       "      <td>NaN</td>\n",
       "      <td>NaN</td>\n",
       "      <td>NaN</td>\n",
       "      <td>NaN</td>\n",
       "      <td>NaN</td>\n",
       "      <td>NaN</td>\n",
       "      <td>0</td>\n",
       "      <td>76</td>\n",
       "    </tr>\n",
       "    <tr>\n",
       "      <th>2</th>\n",
       "      <td>5902188</td>\n",
       "      <td>And Trump continues his lifelong cowardice by not making this announcement himself.\\n\\nWhat an awful human being .....</td>\n",
       "      <td>train</td>\n",
       "      <td>2017-09-05 19:05:32.341360+00</td>\n",
       "      <td>55</td>\n",
       "      <td>NaN</td>\n",
       "      <td>374342</td>\n",
       "      <td>approved</td>\n",
       "      <td>1</td>\n",
       "      <td>0</td>\n",
       "      <td>2</td>\n",
       "      <td>3</td>\n",
       "      <td>7</td>\n",
       "      <td>0.666667</td>\n",
       "      <td>0.015873</td>\n",
       "      <td>0.031746</td>\n",
       "      <td>0.000000</td>\n",
       "      <td>0.047619</td>\n",
       "      <td>0.666667</td>\n",
       "      <td>0.000000</td>\n",
       "      <td>NaN</td>\n",
       "      <td>NaN</td>\n",
       "      <td>NaN</td>\n",
       "      <td>NaN</td>\n",
       "      <td>NaN</td>\n",
       "      <td>NaN</td>\n",
       "      <td>NaN</td>\n",
       "      <td>NaN</td>\n",
       "      <td>NaN</td>\n",
       "      <td>NaN</td>\n",
       "      <td>NaN</td>\n",
       "      <td>NaN</td>\n",
       "      <td>NaN</td>\n",
       "      <td>NaN</td>\n",
       "      <td>NaN</td>\n",
       "      <td>NaN</td>\n",
       "      <td>NaN</td>\n",
       "      <td>NaN</td>\n",
       "      <td>NaN</td>\n",
       "      <td>NaN</td>\n",
       "      <td>NaN</td>\n",
       "      <td>NaN</td>\n",
       "      <td>NaN</td>\n",
       "      <td>NaN</td>\n",
       "      <td>0</td>\n",
       "      <td>63</td>\n",
       "    </tr>\n",
       "    <tr>\n",
       "      <th>3</th>\n",
       "      <td>7084460</td>\n",
       "      <td>\"while arresting a man for resisting arrest\".\\n\\nIf you cop-suckers can't see a problem with this, then go suck the barrel of a Glock.</td>\n",
       "      <td>test</td>\n",
       "      <td>2016-11-01 16:53:33.561631+00</td>\n",
       "      <td>13</td>\n",
       "      <td>NaN</td>\n",
       "      <td>149218</td>\n",
       "      <td>approved</td>\n",
       "      <td>0</td>\n",
       "      <td>0</td>\n",
       "      <td>0</td>\n",
       "      <td>0</td>\n",
       "      <td>0</td>\n",
       "      <td>0.815789</td>\n",
       "      <td>0.065789</td>\n",
       "      <td>0.552632</td>\n",
       "      <td>0.592105</td>\n",
       "      <td>0.000000</td>\n",
       "      <td>0.684211</td>\n",
       "      <td>0.105263</td>\n",
       "      <td>NaN</td>\n",
       "      <td>NaN</td>\n",
       "      <td>NaN</td>\n",
       "      <td>NaN</td>\n",
       "      <td>NaN</td>\n",
       "      <td>NaN</td>\n",
       "      <td>NaN</td>\n",
       "      <td>NaN</td>\n",
       "      <td>NaN</td>\n",
       "      <td>NaN</td>\n",
       "      <td>NaN</td>\n",
       "      <td>NaN</td>\n",
       "      <td>NaN</td>\n",
       "      <td>NaN</td>\n",
       "      <td>NaN</td>\n",
       "      <td>NaN</td>\n",
       "      <td>NaN</td>\n",
       "      <td>NaN</td>\n",
       "      <td>NaN</td>\n",
       "      <td>NaN</td>\n",
       "      <td>NaN</td>\n",
       "      <td>NaN</td>\n",
       "      <td>NaN</td>\n",
       "      <td>NaN</td>\n",
       "      <td>0</td>\n",
       "      <td>76</td>\n",
       "    </tr>\n",
       "    <tr>\n",
       "      <th>4</th>\n",
       "      <td>5410943</td>\n",
       "      <td>Tucker and Paul are both total bad ass mofo's.</td>\n",
       "      <td>train</td>\n",
       "      <td>2017-06-14 05:08:21.997315+00</td>\n",
       "      <td>21</td>\n",
       "      <td>NaN</td>\n",
       "      <td>344096</td>\n",
       "      <td>approved</td>\n",
       "      <td>0</td>\n",
       "      <td>0</td>\n",
       "      <td>0</td>\n",
       "      <td>1</td>\n",
       "      <td>0</td>\n",
       "      <td>0.550000</td>\n",
       "      <td>0.037500</td>\n",
       "      <td>0.337500</td>\n",
       "      <td>0.275000</td>\n",
       "      <td>0.037500</td>\n",
       "      <td>0.487500</td>\n",
       "      <td>0.000000</td>\n",
       "      <td>NaN</td>\n",
       "      <td>NaN</td>\n",
       "      <td>NaN</td>\n",
       "      <td>NaN</td>\n",
       "      <td>NaN</td>\n",
       "      <td>NaN</td>\n",
       "      <td>NaN</td>\n",
       "      <td>NaN</td>\n",
       "      <td>NaN</td>\n",
       "      <td>NaN</td>\n",
       "      <td>NaN</td>\n",
       "      <td>NaN</td>\n",
       "      <td>NaN</td>\n",
       "      <td>NaN</td>\n",
       "      <td>NaN</td>\n",
       "      <td>NaN</td>\n",
       "      <td>NaN</td>\n",
       "      <td>NaN</td>\n",
       "      <td>NaN</td>\n",
       "      <td>NaN</td>\n",
       "      <td>NaN</td>\n",
       "      <td>NaN</td>\n",
       "      <td>NaN</td>\n",
       "      <td>NaN</td>\n",
       "      <td>0</td>\n",
       "      <td>80</td>\n",
       "    </tr>\n",
       "  </tbody>\n",
       "</table>\n",
       "</div>"
      ],
      "text/plain": [
       "        id  \\\n",
       "0  1083994   \n",
       "1   650904   \n",
       "2  5902188   \n",
       "3  7084460   \n",
       "4  5410943   \n",
       "\n",
       "                                                                                                                                                                                   comment_text  \\\n",
       "0  He got his money... now he lies in wait till after the election in 2 yrs.... dirty politicians need to be afraid of Tar and feathers again... but they aren't and so the people get screwed.   \n",
       "1                                                                                                                              Mad dog will surely put the liberals in mental hospitals. Boorah   \n",
       "2                                                                        And Trump continues his lifelong cowardice by not making this announcement himself.\\n\\nWhat an awful human being .....   \n",
       "3                                                        \"while arresting a man for resisting arrest\".\\n\\nIf you cop-suckers can't see a problem with this, then go suck the barrel of a Glock.   \n",
       "4                                                                                                                                                Tucker and Paul are both total bad ass mofo's.   \n",
       "\n",
       "   split                   created_date  publication_id  parent_id  \\\n",
       "0  train  2017-03-06 15:21:53.675241+00              21        NaN   \n",
       "1  train  2016-12-02 16:44:21.329535+00              21        NaN   \n",
       "2  train  2017-09-05 19:05:32.341360+00              55        NaN   \n",
       "3   test  2016-11-01 16:53:33.561631+00              13        NaN   \n",
       "4  train  2017-06-14 05:08:21.997315+00              21        NaN   \n",
       "\n",
       "   article_id    rating  funny  wow  sad  likes  disagree  toxicity  \\\n",
       "0      317120  approved      0    0    0      2         0  0.373134   \n",
       "1      154086  approved      0    0    1      2         0  0.605263   \n",
       "2      374342  approved      1    0    2      3         7  0.666667   \n",
       "3      149218  approved      0    0    0      0         0  0.815789   \n",
       "4      344096  approved      0    0    0      1         0  0.550000   \n",
       "\n",
       "   severe_toxicity   obscene  sexual_explicit  identity_attack    insult  \\\n",
       "0         0.044776  0.089552         0.014925         0.000000  0.343284   \n",
       "1         0.013158  0.065789         0.013158         0.092105  0.565789   \n",
       "2         0.015873  0.031746         0.000000         0.047619  0.666667   \n",
       "3         0.065789  0.552632         0.592105         0.000000  0.684211   \n",
       "4         0.037500  0.337500         0.275000         0.037500  0.487500   \n",
       "\n",
       "     threat  male  female  transgender  other_gender  heterosexual  \\\n",
       "0  0.014925   NaN     NaN          NaN           NaN           NaN   \n",
       "1  0.065789   NaN     NaN          NaN           NaN           NaN   \n",
       "2  0.000000   NaN     NaN          NaN           NaN           NaN   \n",
       "3  0.105263   NaN     NaN          NaN           NaN           NaN   \n",
       "4  0.000000   NaN     NaN          NaN           NaN           NaN   \n",
       "\n",
       "   homosexual_gay_or_lesbian  bisexual  other_sexual_orientation  christian  \\\n",
       "0                        NaN       NaN                       NaN        NaN   \n",
       "1                        NaN       NaN                       NaN        NaN   \n",
       "2                        NaN       NaN                       NaN        NaN   \n",
       "3                        NaN       NaN                       NaN        NaN   \n",
       "4                        NaN       NaN                       NaN        NaN   \n",
       "\n",
       "   jewish  muslim  hindu  buddhist  atheist  other_religion  black  white  \\\n",
       "0     NaN     NaN    NaN       NaN      NaN             NaN    NaN    NaN   \n",
       "1     NaN     NaN    NaN       NaN      NaN             NaN    NaN    NaN   \n",
       "2     NaN     NaN    NaN       NaN      NaN             NaN    NaN    NaN   \n",
       "3     NaN     NaN    NaN       NaN      NaN             NaN    NaN    NaN   \n",
       "4     NaN     NaN    NaN       NaN      NaN             NaN    NaN    NaN   \n",
       "\n",
       "   asian  latino  other_race_or_ethnicity  physical_disability  \\\n",
       "0    NaN     NaN                      NaN                  NaN   \n",
       "1    NaN     NaN                      NaN                  NaN   \n",
       "2    NaN     NaN                      NaN                  NaN   \n",
       "3    NaN     NaN                      NaN                  NaN   \n",
       "4    NaN     NaN                      NaN                  NaN   \n",
       "\n",
       "   intellectual_or_learning_disability  psychiatric_or_mental_illness  \\\n",
       "0                                  NaN                            NaN   \n",
       "1                                  NaN                            NaN   \n",
       "2                                  NaN                            NaN   \n",
       "3                                  NaN                            NaN   \n",
       "4                                  NaN                            NaN   \n",
       "\n",
       "   other_disability  identity_annotator_count  toxicity_annotator_count  \n",
       "0               NaN                         0                        67  \n",
       "1               NaN                         0                        76  \n",
       "2               NaN                         0                        63  \n",
       "3               NaN                         0                        76  \n",
       "4               NaN                         0                        80  "
      ]
     },
     "execution_count": 4,
     "metadata": {},
     "output_type": "execute_result"
    }
   ],
   "source": [
    "chunks = pd.read_csv('../data/toxic_data.csv', chunksize=100000)\n",
    "df = pd.concat(chunks)\n",
    "df.head()"
   ]
  },
  {
   "cell_type": "code",
   "execution_count": 5,
   "id": "17df83e7-bc39-4c5b-81f0-68bf155d097a",
   "metadata": {},
   "outputs": [],
   "source": [
    "df['comment_text'] = df['comment_text'].fillna(\"\")\n",
    "identity_columns = ['male', 'female', 'homosexual_gay_or_lesbian', 'christian', 'jewish', 'muslim', 'black', 'white', 'psychiatric_or_mental_illness']\n",
    "for col in identity_columns + ['toxicity']:\n",
    "    df.loc[:, col] = np.where(df[col] >= 0.5, True, False)"
   ]
  },
  {
   "cell_type": "code",
   "execution_count": 6,
   "id": "66e3ed1e-38cc-4da9-bca6-494ae5ff21c4",
   "metadata": {},
   "outputs": [],
   "source": [
    "train_df = df[df['split'] == 'train']\n",
    "test_df = df[df['split'] != 'train']"
   ]
  },
  {
   "cell_type": "code",
   "execution_count": 7,
   "id": "9c45d26f-d1c1-4b93-94d3-dc764661885a",
   "metadata": {},
   "outputs": [],
   "source": [
    "sample = df\n",
    "# sample = train_df.sample(N_SAMPLES, random_state=SEED, ignore_index=True)\n",
    "train_text, val_text, train_label, val_label = train_test_split(sample['comment_text'], sample['toxicity'], test_size=0.2, random_state=SEED)\n",
    "# train_text, train_label = sample['comment_text'], sample['toxicity']\n",
    "test_text, test_label = test_df['comment_text'], test_df['toxicity']\n",
    "\n",
    "train_label = torch.tensor(train_label.values, dtype=torch.float32).to(device)\n",
    "val_label = torch.tensor(val_label.values, dtype=torch.float32).to(device) \n",
    "test_label = torch.tensor(test_label.values, dtype=torch.float32).to(device) "
   ]
  },
  {
   "cell_type": "code",
   "execution_count": 8,
   "id": "ccd05565-defd-4178-b086-667ef9cf4a18",
   "metadata": {},
   "outputs": [
    {
     "data": {
      "text/plain": [
       "((1599612,), (399904,), (194641,))"
      ]
     },
     "execution_count": 8,
     "metadata": {},
     "output_type": "execute_result"
    }
   ],
   "source": [
    "train_text.shape, val_text.shape, test_text.shape"
   ]
  },
  {
   "cell_type": "code",
   "execution_count": 9,
   "id": "78d9d9cb-af88-486e-a00b-dfde7b5c6816",
   "metadata": {},
   "outputs": [],
   "source": [
    "misspell_dict = {\"aren't\": \"are not\", \"can't\": \"cannot\", \"couldn't\": \"could not\",\n",
    "                 \"didn't\": \"did not\", \"doesn't\": \"does not\", \"don't\": \"do not\",\n",
    "                 \"hadn't\": \"had not\", \"hasn't\": \"has not\", \"haven't\": \"have not\",\n",
    "                 \"he'd\": \"he would\", \"he'll\": \"he will\", \"he's\": \"he is\",\n",
    "                 \"i'd\": \"I had\", \"i'll\": \"I will\", \"i'm\": \"I am\", \"isn't\": \"is not\",\n",
    "                 \"it's\": \"it is\", \"it'll\": \"it will\", \"i've\": \"I have\", \"let's\": \"let us\",\n",
    "                 \"mightn't\": \"might not\", \"mustn't\": \"must not\", \"shan't\": \"shall not\",\n",
    "                 \"she'd\": \"she would\", \"she'll\": \"she will\", \"she's\": \"she is\",\n",
    "                 \"shouldn't\": \"should not\", \"that's\": \"that is\", \"there's\": \"there is\",\n",
    "                 \"they'd\": \"they would\", \"they'll\": \"they will\", \"they're\": \"they are\",\n",
    "                 \"they've\": \"they have\", \"we'd\": \"we would\", \"we're\": \"we are\",\n",
    "                 \"weren't\": \"were not\", \"we've\": \"we have\", \"what'll\": \"what will\",\n",
    "                 \"what're\": \"what are\", \"what's\": \"what is\", \"what've\": \"what have\",\n",
    "                 \"where's\": \"where is\", \"who'd\": \"who would\", \"who'll\": \"who will\",\n",
    "                 \"who're\": \"who are\", \"who's\": \"who is\", \"who've\": \"who have\",\n",
    "                 \"won't\": \"will not\", \"wouldn't\": \"would not\", \"you'd\": \"you would\",\n",
    "                 \"you'll\": \"you will\", \"you're\": \"you are\", \"you've\": \"you have\",\n",
    "                 \"'re\": \" are\", \"wasn't\": \"was not\", \"we'll\": \" will\", \"tryin'\": \"trying\"}\n",
    "\n",
    "\n",
    "def _get_misspell(misspell_dict):\n",
    "    misspell_re = re.compile('(%s)' % '|'.join(misspell_dict.keys()))\n",
    "    return misspell_dict, misspell_re\n",
    "\n",
    "\n",
    "def replace_typical_misspell(text):\n",
    "    misspellings, misspellings_re = _get_misspell(misspell_dict)\n",
    "\n",
    "    def replace(match):\n",
    "        return misspellings[match.group(0)]\n",
    "\n",
    "    return misspellings_re.sub(replace, text)\n",
    "    \n",
    "\n",
    "puncts = [',', '.', '\"', ':', ')', '(', '-', '!', '?', '|', ';', \"'\", '$', '&', '/', '[', ']',\n",
    "          '>', '%', '=', '#', '*', '+', '\\\\', '•', '~', '@', '£', '·', '_', '{', '}', '©', '^',\n",
    "          '®', '`', '<', '→', '°', '€', '™', '›', '♥', '←', '×', '§', '″', '′', 'Â', '█',\n",
    "          '½', 'à', '…', '“', '★', '”', '–', '●', 'â', '►', '−', '¢', '²', '¬', '░', '¶',\n",
    "          '↑', '±', '¿', '▾', '═', '¦', '║', '―', '¥', '▓', '—', '‹', '─', '▒', '：', '¼',\n",
    "          '⊕', '▼', '▪', '†', '■', '’', '▀', '¨', '▄', '♫', '☆', 'é', '¯', '♦', '¤', '▲',\n",
    "          'è', '¸', '¾', 'Ã', '⋅', '‘', '∞', '∙', '）', '↓', '、', '│', '（', '»', '，', '♪',\n",
    "          '╩', '╚', '³', '・', '╦', '╣', '╔', '╗', '▬', '❤', 'ï', 'Ø', '¹', '≤', '‡', '√']\n",
    "\n",
    "\n",
    "def clean_text(x):\n",
    "    x = str(x)\n",
    "    for punct in puncts + list(string.punctuation):\n",
    "        if punct in x:\n",
    "            x = x.replace(punct, f' {punct} ')\n",
    "    return x\n",
    "\n",
    "\n",
    "def clean_numbers(x):\n",
    "    return re.sub('\\d+', ' ', x)"
   ]
  },
  {
   "cell_type": "code",
   "execution_count": null,
   "id": "1d3529e1-a9b2-4a5f-801f-b7b2861970b8",
   "metadata": {},
   "outputs": [],
   "source": []
  },
  {
   "cell_type": "code",
   "execution_count": 10,
   "id": "f215f5f2-a071-4e3c-b736-1e242f553141",
   "metadata": {},
   "outputs": [],
   "source": [
    "# clean misspellings\n",
    "train_text = train_text.apply(replace_typical_misspell)\n",
    "val_text = val_text.apply(replace_typical_misspell)\n",
    "test_text = test_text.apply(replace_typical_misspell)\n",
    "\n",
    "# clean the text\n",
    "train_text = train_text.apply(clean_text)\n",
    "val_text = val_text.apply(clean_text)\n",
    "test_text = test_text.apply(clean_text)\n",
    "\n",
    "# clean numbers\n",
    "train_text = train_text.apply(clean_numbers)\n",
    "val_text = val_text.apply(clean_numbers)\n",
    "test_text = test_text.apply(clean_numbers)"
   ]
  },
  {
   "cell_type": "code",
   "execution_count": 11,
   "id": "a16e6fed-323a-4563-a2ce-3ba57e1c7d72",
   "metadata": {},
   "outputs": [],
   "source": [
    "tokenizer = get_tokenizer(\"basic_english\")\n",
    "counter = Counter()\n",
    "for line in train_text:\n",
    "    counter.update(tokenizer(line))\n",
    "    \n",
    "# Create a vocabulary with words seen at least 3 (min_freq) times\n",
    "vocab = torchtext.vocab.vocab(counter, min_freq=3)"
   ]
  },
  {
   "cell_type": "code",
   "execution_count": 12,
   "id": "e7306873-fe3a-4899-bf58-8cdbfa9ccea2",
   "metadata": {},
   "outputs": [],
   "source": [
    "# Add the unknown token and use it by default for unknown words\n",
    "unk_token = '<unk>'\n",
    "# vocab.insert_token(unk_token, 0)\n",
    "vocab.set_default_index(0)\n",
    "\n",
    "# Add the pad token Explanation https://huggingface.co/docs/transformers/pad_truncation\n",
    "pad_token = '<pad>'\n",
    "vocab.insert_token(pad_token, 1)"
   ]
  },
  {
   "cell_type": "code",
   "execution_count": 13,
   "id": "c9e1103d-bc7b-4cc5-9b20-86e71e2f0081",
   "metadata": {},
   "outputs": [],
   "source": [
    "text_transform_pipeline = lambda x: [vocab[token] for token in tokenizer(x)]"
   ]
  },
  {
   "cell_type": "code",
   "execution_count": 14,
   "id": "08110550-34c9-470e-96f9-acfb79cdc7da",
   "metadata": {},
   "outputs": [],
   "source": [
    "#save vocab\n",
    "torch.save(vocab, 'vocab_obj_pytorch.pth')"
   ]
  },
  {
   "cell_type": "code",
   "execution_count": 15,
   "id": "8593d17c-6ebe-4e54-a0f9-ab97ce4cde64",
   "metadata": {},
   "outputs": [
    {
     "name": "stdout",
     "output_type": "stream",
     "text": [
      "Before transform:\n",
      "There  '  s no excuse for what NK did to this young man  .   It cannot and should not go unanswered  .  \n",
      "After transform:\n",
      "[443, 29, 30, 293, 2243, 43, 296, 9113, 241, 3, 70, 839, 907, 11, 24, 633, 17, 81, 116, 341, 5455, 11]\n"
     ]
    }
   ],
   "source": [
    "print(f\"Before transform:\\n{train_text.iloc[1666]}\")\n",
    "print(f\"After transform:\\n{text_transform_pipeline(train_text.iloc[1666])}\")"
   ]
  },
  {
   "cell_type": "code",
   "execution_count": 16,
   "id": "b6b31850-a51f-4b7a-99c2-2d9a3ee9710a",
   "metadata": {},
   "outputs": [],
   "source": [
    "def transformText(text_list, max_len):\n",
    "    # Transform the text\n",
    "    transformed_data = [text_transform_pipeline(text)[:max_len] for text in text_list]\n",
    "\n",
    "    # Pad zeros if the text is shoter than max_len\n",
    "    for data in transformed_data:\n",
    "        data[len(data) : max_len] = np.ones(max_len - len(data))\n",
    "\n",
    "    return torch.tensor(transformed_data, dtype=torch.int64)"
   ]
  },
  {
   "cell_type": "code",
   "execution_count": 17,
   "id": "7a784f62-21fe-4e2a-9b72-0ae2e517cb15",
   "metadata": {},
   "outputs": [],
   "source": [
    "#PARAMETERS\n",
    "N_EPOCHES = 10\n",
    "max_len = 100\n",
    "batch_size = 128\n",
    "\n",
    "# Size of the state vectors\n",
    "lstm_hiden_size = 128\n",
    "dense_hiden_size = 4 * lstm_hiden_size\n",
    "\n",
    "# General NN training parameters\n",
    "learning_rate = 0.0001"
   ]
  },
  {
   "cell_type": "code",
   "execution_count": 18,
   "id": "6688220c-5cf2-4a7f-b5f0-4270c4e15951",
   "metadata": {},
   "outputs": [
    {
     "name": "stderr",
     "output_type": "stream",
     "text": [
      "/tmp/ipykernel_100/3562846554.py:9: DeprecationWarning: an integer is required (got type numpy.float64).  Implicit conversion to integers using __int__ is deprecated, and may be removed in a future version of Python.\n",
      "  return torch.tensor(transformed_data, dtype=torch.int64)\n"
     ]
    }
   ],
   "source": [
    "# Create data loaders\n",
    "train_dataset = TensorDataset(\n",
    "    transformText(train_text, max_len), train_label\n",
    ")\n",
    "train_loader = DataLoader(train_dataset, batch_size=batch_size)\n",
    "\n",
    "val_dataset = TensorDataset(transformText(val_text, max_len), val_label)\n",
    "val_loader = DataLoader(val_dataset, batch_size=batch_size)\n",
    "\n",
    "test_dataset = TensorDataset(transformText(test_text, max_len), test_label)\n",
    "test_loader = DataLoader(test_dataset, batch_size=batch_size)"
   ]
  },
  {
   "cell_type": "code",
   "execution_count": 19,
   "id": "b282d16b-6544-49d1-ac3c-bb4c63116f62",
   "metadata": {},
   "outputs": [],
   "source": [
    "#Pretrained Word Embeddings ====> GloVe, FastText, CharNGram\n",
    "#Let us try GloVe\n",
    "\n",
    "glove = GloVe(name=\"6B\", dim=300)\n",
    "embedding_matrix = glove.get_vecs_by_tokens(vocab.get_itos())"
   ]
  },
  {
   "cell_type": "code",
   "execution_count": 20,
   "id": "4a52cb61-d1f1-40d5-9c00-ebf234219d98",
   "metadata": {},
   "outputs": [
    {
     "data": {
      "text/plain": [
       "torch.Size([107482, 300])"
      ]
     },
     "execution_count": 20,
     "metadata": {},
     "output_type": "execute_result"
    }
   ],
   "source": [
    "embedding_matrix.shape"
   ]
  },
  {
   "cell_type": "code",
   "execution_count": 21,
   "id": "f40b77b5-53f6-4a7b-9cef-1f39eb92c4bc",
   "metadata": {},
   "outputs": [
    {
     "data": {
      "text/plain": [
       "107482"
      ]
     },
     "execution_count": 21,
     "metadata": {},
     "output_type": "execute_result"
    }
   ],
   "source": [
    "# Embedding vector and vocabulary sizes\n",
    "embed_size = 300  # glove.6B.300d.txt\n",
    "vocab_size = len(vocab.get_itos())\n",
    "vocab_size"
   ]
  },
  {
   "cell_type": "code",
   "execution_count": 22,
   "id": "5abaf7bc-7ab0-4c62-bed6-179a3797f838",
   "metadata": {},
   "outputs": [],
   "source": [
    "class SpatialDropout(nn.Dropout2d):\n",
    "    def forward(self, x):\n",
    "        x = x.unsqueeze(2)    # (N, T, 1, K)\n",
    "        x = x.permute(0, 3, 2, 1)  # (N, K, 1, T)\n",
    "        x = super(SpatialDropout, self).forward(x)  # (N, K, 1, T), some features are masked\n",
    "        x = x.permute(0, 3, 2, 1)  # (N, T, 1, K)\n",
    "        x = x.squeeze(2)  # (N, T, K)\n",
    "        return x\n",
    "    \n",
    "class NeuralNet(nn.Module):\n",
    "    def __init__(self, embedding_matrix, lstm_hiden_size, dense_hiden_size):\n",
    "        super(NeuralNet, self).__init__()\n",
    "        max_features = embedding_matrix.shape[0]\n",
    "        embed_size = embedding_matrix.shape[1]\n",
    "        \n",
    "        self.embedding = nn.Embedding(max_features, embed_size)\n",
    "        self.embedding.weight = nn.Parameter(embedding_matrix.clone().detach())\n",
    "        self.embedding.weight.requires_grad = False\n",
    "        self.embedding_dropout = SpatialDropout(0.6)\n",
    "\n",
    "        self.lstm1 = nn.LSTM(embed_size, lstm_hiden_size, bidirectional=True, batch_first=True)\n",
    "        self.lstm2 = nn.LSTM(lstm_hiden_size * 2, lstm_hiden_size, bidirectional=True, batch_first=True)\n",
    "    \n",
    "        self.linear1 = nn.Linear(dense_hiden_size, dense_hiden_size)\n",
    "        self.linear2 = nn.Linear(dense_hiden_size, dense_hiden_size)\n",
    "        \n",
    "        self.linear_out = nn.Linear(dense_hiden_size, 1)\n",
    "        \n",
    "    def forward(self, x):\n",
    "        h_embedding = self.embedding(x)\n",
    "        h_embedding = self.embedding_dropout(h_embedding)\n",
    "        h_lstm1, _ = self.lstm1(h_embedding)\n",
    "        h_lstm2, _ = self.lstm2(h_lstm1)\n",
    "        \n",
    "        # global average pooling\n",
    "        avg_pool = torch.mean(h_lstm2, 1)\n",
    "        max_pool, _ = torch.max(h_lstm2, 1)\n",
    "        \n",
    "        h_conc = torch.cat((max_pool, avg_pool), 1)\n",
    "        h_conc_linear1  = relu(self.linear1(h_conc))\n",
    "        h_conc_linear2  = relu(self.linear2(h_conc))\n",
    "        \n",
    "        hidden = h_conc + h_conc_linear1 + h_conc_linear2       \n",
    "        result = self.linear_out(hidden)\n",
    "\n",
    "        return result"
   ]
  },
  {
   "cell_type": "code",
   "execution_count": 23,
   "id": "6fd4e95e-c03d-469c-a2ff-57bbd3cdae0e",
   "metadata": {},
   "outputs": [],
   "source": [
    "model = NeuralNet(embedding_matrix, lstm_hiden_size, dense_hiden_size)\n",
    "# Setting our trainer\n",
    "trainer = torch.optim.Adam(model.parameters(), lr=learning_rate)\n",
    "\n",
    "# We will use Binary Cross-entropy loss\n",
    "cross_ent_loss = nn.BCEWithLogitsLoss(reduction='mean')"
   ]
  },
  {
   "cell_type": "code",
   "execution_count": 25,
   "id": "51f08a1f-1eec-43ab-b784-3b21d68b5c2c",
   "metadata": {},
   "outputs": [
    {
     "name": "stderr",
     "output_type": "stream",
     "text": [
      "100%|██████████| 12497/12497 [05:58<00:00, 34.87it/s]\n",
      "100%|██████████| 3125/3125 [00:31<00:00, 98.79it/s]\n"
     ]
    },
    {
     "name": "stdout",
     "output_type": "stream",
     "text": [
      "Epoch 0. Train_loss 0.0013111475270611984. Validation_loss 0.005538812699209998. Seconds 389.97866320610046\n"
     ]
    },
    {
     "name": "stderr",
     "output_type": "stream",
     "text": [
      "100%|██████████| 12497/12497 [05:45<00:00, 36.12it/s]\n",
      "100%|██████████| 3125/3125 [00:33<00:00, 93.86it/s]\n"
     ]
    },
    {
     "name": "stdout",
     "output_type": "stream",
     "text": [
      "Epoch 1. Train_loss 0.001192368977337002. Validation_loss 0.005551861742620345. Seconds 379.2952404022217\n"
     ]
    },
    {
     "name": "stderr",
     "output_type": "stream",
     "text": [
      "100%|██████████| 12497/12497 [06:10<00:00, 33.71it/s]\n",
      "100%|██████████| 3125/3125 [00:32<00:00, 96.09it/s]\n"
     ]
    },
    {
     "name": "stdout",
     "output_type": "stream",
     "text": [
      "Epoch 2. Train_loss 0.0011471499037754673. Validation_loss 0.005564987445422304. Seconds 403.1948449611664\n"
     ]
    },
    {
     "name": "stderr",
     "output_type": "stream",
     "text": [
      "100%|██████████| 12497/12497 [06:00<00:00, 34.63it/s]\n",
      "100%|██████████| 3125/3125 [00:34<00:00, 90.29it/s]\n"
     ]
    },
    {
     "name": "stdout",
     "output_type": "stream",
     "text": [
      "Epoch 3. Train_loss 0.0011188527436172932. Validation_loss 0.0055570727455823. Seconds 395.5253460407257\n"
     ]
    },
    {
     "name": "stderr",
     "output_type": "stream",
     "text": [
      "100%|██████████| 12497/12497 [06:10<00:00, 33.74it/s]\n",
      "100%|██████████| 3125/3125 [00:32<00:00, 95.94it/s]\n"
     ]
    },
    {
     "name": "stdout",
     "output_type": "stream",
     "text": [
      "Epoch 4. Train_loss 0.0010972754646097396. Validation_loss 0.005574134210728403. Seconds 403.01636123657227\n"
     ]
    },
    {
     "name": "stderr",
     "output_type": "stream",
     "text": [
      "100%|██████████| 12497/12497 [06:07<00:00, 34.00it/s]\n",
      "100%|██████████| 3125/3125 [00:34<00:00, 90.41it/s]\n"
     ]
    },
    {
     "name": "stdout",
     "output_type": "stream",
     "text": [
      "Epoch 5. Train_loss 0.0010842716046533028. Validation_loss 0.005579326285119818. Seconds 402.0917909145355\n"
     ]
    },
    {
     "name": "stderr",
     "output_type": "stream",
     "text": [
      "100%|██████████| 12497/12497 [06:12<00:00, 33.54it/s]\n",
      "100%|██████████| 3125/3125 [00:33<00:00, 93.74it/s]\n"
     ]
    },
    {
     "name": "stdout",
     "output_type": "stream",
     "text": [
      "Epoch 6. Train_loss 0.0010705223719880454. Validation_loss 0.005585691320088431. Seconds 405.9913296699524\n"
     ]
    },
    {
     "name": "stderr",
     "output_type": "stream",
     "text": [
      "100%|██████████| 12497/12497 [06:13<00:00, 33.50it/s]\n",
      "100%|██████████| 3125/3125 [00:33<00:00, 92.84it/s]\n"
     ]
    },
    {
     "name": "stdout",
     "output_type": "stream",
     "text": [
      "Epoch 7. Train_loss 0.0010581153088626192. Validation_loss 0.00557066311656885. Seconds 406.6757414340973\n"
     ]
    },
    {
     "name": "stderr",
     "output_type": "stream",
     "text": [
      "100%|██████████| 12497/12497 [05:50<00:00, 35.70it/s]\n",
      "100%|██████████| 3125/3125 [00:32<00:00, 95.55it/s]\n"
     ]
    },
    {
     "name": "stdout",
     "output_type": "stream",
     "text": [
      "Epoch 8. Train_loss 0.0010492928783268696. Validation_loss 0.00555825320190145. Seconds 382.7616925239563\n"
     ]
    },
    {
     "name": "stderr",
     "output_type": "stream",
     "text": [
      "100%|██████████| 12497/12497 [06:11<00:00, 33.65it/s]\n",
      "100%|██████████| 3125/3125 [00:34<00:00, 91.59it/s]"
     ]
    },
    {
     "name": "stdout",
     "output_type": "stream",
     "text": [
      "Epoch 9. Train_loss 0.0010404555278918288. Validation_loss 0.005542338415211254. Seconds 405.51312160491943\n"
     ]
    },
    {
     "name": "stderr",
     "output_type": "stream",
     "text": [
      "\n"
     ]
    }
   ],
   "source": [
    "train_losses = []\n",
    "val_losses = []\n",
    "train_scores = []\n",
    "val_scores = []\n",
    "\n",
    "# Get the compute device\n",
    "device = torch.device(\"cuda\" if torch.cuda.is_available() else \"cpu\")\n",
    "model.to(device)\n",
    "\n",
    "for epoch in range(N_EPOCHES):\n",
    "    start = time.time()\n",
    "    training_loss = 0\n",
    "    val_loss = 0\n",
    "    train_score = 0\n",
    "    val_score = 0\n",
    "    model.train()\n",
    "\n",
    "    for data, target in tqdm(train_loader):\n",
    "        data = data.to(device)\n",
    "        target = target.to(device)\n",
    "        output = model(data)\n",
    "        loss = cross_ent_loss(output.squeeze(1), target)\n",
    "        trainer.zero_grad()\n",
    "        loss.backward()\n",
    "        trainer.step()\n",
    "        training_loss += loss.item()\n",
    "        try:\n",
    "            train_score += roc_auc_score(target.cpu(), output.detach().cpu().numpy())\n",
    "        except ValueError:\n",
    "            pass\n",
    "\n",
    "        \n",
    "        \n",
    "        \n",
    "    model.eval()\n",
    "    \n",
    "    for data, target in tqdm(val_loader):\n",
    "        data = data.to(device)\n",
    "        target = target.to(device)\n",
    "        val_predictions = torch.sigmoid(model(data)).squeeze(1)\n",
    "        loss = cross_ent_loss(val_predictions, target)\n",
    "        val_loss += loss.item()\n",
    "        try:\n",
    "            val_score += roc_auc_score(target.cpu(), val_predictions.detach().cpu().numpy())\n",
    "        except ValueError:\n",
    "            pass\n",
    "        \n",
    "        \n",
    "    # Let's take the average losses\n",
    "    training_loss = training_loss / len(train_label)\n",
    "    val_loss = val_loss / len(val_label)\n",
    "    train_score = train_score / len(train_label)\n",
    "    val_score = val_score / len(val_label)\n",
    "    \n",
    "    train_losses.append(training_loss)\n",
    "    val_losses.append(val_loss)\n",
    "    train_scores.append(train_score)\n",
    "    val_scores.append(val_score)\n",
    "\n",
    "    end = time.time()\n",
    "    print(\n",
    "        f\"Epoch {epoch}. Train_loss {training_loss}. Validation_loss {val_loss}. Seconds {end-start}\"\n",
    "    )"
   ]
  },
  {
   "cell_type": "code",
   "execution_count": 26,
   "id": "907060eb-95ca-498a-988a-b576a64ee058",
   "metadata": {},
   "outputs": [
    {
     "data": {
      "image/png": "[encoded data removed]",
      "text/plain": [
       "<Figure size 1600x400 with 2 Axes>"
      ]
     },
     "metadata": {},
     "output_type": "display_data"
    }
   ],
   "source": [
    "plt.rcParams['axes.grid'] = True\n",
    "\n",
    "fig, ax = plt.subplots(1, 2, figsize=(16, 4))\n",
    "fig.suptitle('Loses and scores')\n",
    "ax[0].plot(train_losses, label=\"Training Loss\")\n",
    "ax[0].plot(val_losses, label=\"Validation Loss\")\n",
    "ax[0].legend()\n",
    "ax[0].set_title('Loses')\n",
    "ax[0].set_xlabel(\"Epoch\")\n",
    "ax[0].set_ylabel(\"Loses\")\n",
    "ax[1].plot(train_scores, label=\"Training score\")\n",
    "ax[1].plot(val_scores, label=\"Validation score\")\n",
    "ax[1].legend()\n",
    "ax[1].set_title('Scores')\n",
    "ax[1].set_xlabel(\"Epoch\")\n",
    "ax[1].set_ylabel(\"Scores\")\n",
    "plt.show()"
   ]
  },
  {
   "cell_type": "code",
   "execution_count": 27,
   "id": "69935460-6a80-4be9-bad9-a36a1d8bbedb",
   "metadata": {},
   "outputs": [
    {
     "name": "stderr",
     "output_type": "stream",
     "text": [
      "100%|██████████| 1521/1521 [00:15<00:00, 98.54it/s] \n"
     ]
    }
   ],
   "source": [
    "def sigmoid(x):\n",
    "    return 1 / (1 + np.exp(-x))\n",
    "\n",
    "model.eval()\n",
    "test_predictions = []\n",
    "for data, target in tqdm(test_loader):\n",
    "    test_preds = model(data.to(device))\n",
    "    test_predictions.extend(\n",
    "        [sigmoid(test_pred[0]) for test_pred in test_preds.detach().cpu().numpy()]\n",
    "    )"
   ]
  },
  {
   "cell_type": "code",
   "execution_count": 28,
   "id": "a32e0dac-1c08-45a4-b113-5174e50efe5e",
   "metadata": {},
   "outputs": [],
   "source": [
    "sum(test_predictions), len(test_predictions)\n",
    "oof_name = 'predicted_target'\n",
    "test_df[oof_name] = test_predictions"
   ]
  },
  {
   "cell_type": "code",
   "execution_count": 29,
   "id": "2fc61c64-0eb8-428e-a2fa-73da9096e688",
   "metadata": {},
   "outputs": [
    {
     "data": {
      "text/html": [
       "<div>\n",
       "<style scoped>\n",
       "    .dataframe tbody tr th:only-of-type {\n",
       "        vertical-align: middle;\n",
       "    }\n",
       "\n",
       "    .dataframe tbody tr th {\n",
       "        vertical-align: top;\n",
       "    }\n",
       "\n",
       "    .dataframe thead th {\n",
       "        text-align: right;\n",
       "    }\n",
       "</style>\n",
       "<table border=\"1\" class=\"dataframe\">\n",
       "  <thead>\n",
       "    <tr style=\"text-align: right;\">\n",
       "      <th></th>\n",
       "      <th>subgroup</th>\n",
       "      <th>subgroup_size</th>\n",
       "      <th>subgroup_auc</th>\n",
       "      <th>bpsn_auc</th>\n",
       "      <th>bnsp_auc</th>\n",
       "    </tr>\n",
       "  </thead>\n",
       "  <tbody>\n",
       "    <tr>\n",
       "      <th>2</th>\n",
       "      <td>homosexual_gay_or_lesbian</td>\n",
       "      <td>1065</td>\n",
       "      <td>0.811942</td>\n",
       "      <td>0.825777</td>\n",
       "      <td>0.962205</td>\n",
       "    </tr>\n",
       "    <tr>\n",
       "      <th>6</th>\n",
       "      <td>black</td>\n",
       "      <td>1519</td>\n",
       "      <td>0.819045</td>\n",
       "      <td>0.821372</td>\n",
       "      <td>0.966588</td>\n",
       "    </tr>\n",
       "    <tr>\n",
       "      <th>7</th>\n",
       "      <td>white</td>\n",
       "      <td>2452</td>\n",
       "      <td>0.821433</td>\n",
       "      <td>0.829005</td>\n",
       "      <td>0.965468</td>\n",
       "    </tr>\n",
       "    <tr>\n",
       "      <th>5</th>\n",
       "      <td>muslim</td>\n",
       "      <td>2040</td>\n",
       "      <td>0.834900</td>\n",
       "      <td>0.860784</td>\n",
       "      <td>0.956672</td>\n",
       "    </tr>\n",
       "    <tr>\n",
       "      <th>4</th>\n",
       "      <td>jewish</td>\n",
       "      <td>835</td>\n",
       "      <td>0.901628</td>\n",
       "      <td>0.897469</td>\n",
       "      <td>0.962988</td>\n",
       "    </tr>\n",
       "    <tr>\n",
       "      <th>0</th>\n",
       "      <td>male</td>\n",
       "      <td>4386</td>\n",
       "      <td>0.904144</td>\n",
       "      <td>0.910577</td>\n",
       "      <td>0.958212</td>\n",
       "    </tr>\n",
       "    <tr>\n",
       "      <th>1</th>\n",
       "      <td>female</td>\n",
       "      <td>5155</td>\n",
       "      <td>0.904995</td>\n",
       "      <td>0.917657</td>\n",
       "      <td>0.953992</td>\n",
       "    </tr>\n",
       "    <tr>\n",
       "      <th>8</th>\n",
       "      <td>psychiatric_or_mental_illness</td>\n",
       "      <td>511</td>\n",
       "      <td>0.907582</td>\n",
       "      <td>0.872115</td>\n",
       "      <td>0.972044</td>\n",
       "    </tr>\n",
       "    <tr>\n",
       "      <th>3</th>\n",
       "      <td>christian</td>\n",
       "      <td>4226</td>\n",
       "      <td>0.921117</td>\n",
       "      <td>0.939509</td>\n",
       "      <td>0.946177</td>\n",
       "    </tr>\n",
       "  </tbody>\n",
       "</table>\n",
       "</div>"
      ],
      "text/plain": [
       "                        subgroup  subgroup_size  subgroup_auc  bpsn_auc  \\\n",
       "2      homosexual_gay_or_lesbian           1065      0.811942  0.825777   \n",
       "6                          black           1519      0.819045  0.821372   \n",
       "7                          white           2452      0.821433  0.829005   \n",
       "5                         muslim           2040      0.834900  0.860784   \n",
       "4                         jewish            835      0.901628  0.897469   \n",
       "0                           male           4386      0.904144  0.910577   \n",
       "1                         female           5155      0.904995  0.917657   \n",
       "8  psychiatric_or_mental_illness            511      0.907582  0.872115   \n",
       "3                      christian           4226      0.921117  0.939509   \n",
       "\n",
       "   bnsp_auc  \n",
       "2  0.962205  \n",
       "6  0.966588  \n",
       "7  0.965468  \n",
       "5  0.956672  \n",
       "4  0.962988  \n",
       "0  0.958212  \n",
       "1  0.953992  \n",
       "8  0.972044  \n",
       "3  0.946177  "
      ]
     },
     "execution_count": 29,
     "metadata": {},
     "output_type": "execute_result"
    }
   ],
   "source": [
    "SUBGROUP_AUC = 'subgroup_auc'\n",
    "BPSN_AUC = 'bpsn_auc'  # stands for background positive, subgroup negative\n",
    "BNSP_AUC = 'bnsp_auc'  # stands for background negative, subgroup positive\n",
    "\n",
    "def compute_auc(y_true, y_pred):\n",
    "    try:\n",
    "        return roc_auc_score(y_true, y_pred)\n",
    "    except ValueError:\n",
    "        return np.nan\n",
    "\n",
    "def compute_subgroup_auc(df, subgroup, label, oof_name):\n",
    "    subgroup_examples = df[df[subgroup]]\n",
    "    return compute_auc(subgroup_examples[label], subgroup_examples[oof_name])\n",
    "\n",
    "def compute_bpsn_auc(df, subgroup, label, oof_name):\n",
    "    \"\"\"Computes the AUC of the within-subgroup negative examples and the background positive examples.\"\"\"\n",
    "    subgroup_negative_examples = df[df[subgroup] & ~df[label]]\n",
    "    non_subgroup_positive_examples = df[~df[subgroup] & df[label]]\n",
    "    examples = subgroup_negative_examples.append(non_subgroup_positive_examples)\n",
    "    return compute_auc(examples[label], examples[oof_name])\n",
    "\n",
    "def compute_bnsp_auc(df, subgroup, label, oof_name):\n",
    "    \"\"\"Computes the AUC of the within-subgroup positive examples and the background negative examples.\"\"\"\n",
    "    subgroup_positive_examples = df[df[subgroup] & df[label]]\n",
    "    non_subgroup_negative_examples = df[~df[subgroup] & ~df[label]]\n",
    "    examples = subgroup_positive_examples.append(non_subgroup_negative_examples)\n",
    "    return compute_auc(examples[label], examples[oof_name])\n",
    "\n",
    "def compute_bias_metrics_for_model(dataset,\n",
    "                                   subgroups,\n",
    "                                   model,\n",
    "                                   label_col,\n",
    "                                   include_asegs=False):\n",
    "    \"\"\"Computes per-subgroup metrics for all subgroups and one model.\"\"\"\n",
    "    records = []\n",
    "    for subgroup in subgroups:\n",
    "        record = {\n",
    "            'subgroup': subgroup,\n",
    "            'subgroup_size': len(dataset[dataset[subgroup]])\n",
    "        }\n",
    "        record[SUBGROUP_AUC] = compute_subgroup_auc(dataset, subgroup, label_col, model)\n",
    "        record[BPSN_AUC] = compute_bpsn_auc(dataset, subgroup, label_col, model)\n",
    "        record[BNSP_AUC] = compute_bnsp_auc(dataset, subgroup, label_col, model)\n",
    "        records.append(record)\n",
    "    return pd.DataFrame(records).sort_values('subgroup_auc', ascending=True)\n",
    "bias_metrics_df = compute_bias_metrics_for_model(test_df, identity_columns, oof_name, 'toxicity')\n",
    "bias_metrics_df"
   ]
  },
  {
   "cell_type": "code",
   "execution_count": 30,
   "id": "f32180a1-c18b-459e-ada0-61dc1f4df5f0",
   "metadata": {},
   "outputs": [
    {
     "name": "stdout",
     "output_type": "stream",
     "text": [
      "FINAL SCORE IS 0.9125696308622693\n"
     ]
    }
   ],
   "source": [
    "def calculate_overall_auc(df, oof_name):\n",
    "    true_labels = df['toxicity']\n",
    "    predicted_labels = df[oof_name]\n",
    "    return roc_auc_score(true_labels, predicted_labels)\n",
    "\n",
    "def power_mean(series, p):\n",
    "    total = sum(np.power(series, p))\n",
    "    return np.power(total / len(series), 1 / p)\n",
    "\n",
    "def get_final_metric(bias_df, overall_auc, POWER=-5, OVERALL_MODEL_WEIGHT=0.25):\n",
    "    bias_score = np.average([\n",
    "        power_mean(bias_df[SUBGROUP_AUC], POWER),\n",
    "        power_mean(bias_df[BPSN_AUC], POWER),\n",
    "        power_mean(bias_df[BNSP_AUC], POWER)\n",
    "    ])\n",
    "    return (OVERALL_MODEL_WEIGHT * overall_auc) + ((1 - OVERALL_MODEL_WEIGHT) * bias_score)\n",
    "FINAL_SCORE = get_final_metric(bias_metrics_df, calculate_overall_auc(test_df, oof_name))\n",
    "print(f\"FINAL SCORE IS {FINAL_SCORE}\")"
   ]
  },
  {
   "cell_type": "code",
   "execution_count": 31,
   "id": "28ff0e59-b7d4-431d-a9f2-a228084be137",
   "metadata": {},
   "outputs": [
    {
     "name": "stdout",
     "output_type": "stream",
     "text": [
      "/home/studio-lab-user/sagemaker_exp/sandbox\n"
     ]
    }
   ],
   "source": [
    "!pwd"
   ]
  },
  {
   "cell_type": "code",
   "execution_count": 46,
   "id": "4fb20990-d16b-4c06-b406-b4c2cadd3edb",
   "metadata": {},
   "outputs": [],
   "source": [
    "PATH = '/home/studio-lab-user/sagemaker_exp/torch_models'\n",
    "TODAY = datetime.today().strftime(\"%Y-%m-%d\")\n",
    "torch.save(model.state_dict(), f\"{PATH}/torch_model_{TODAY}.pth\")\n"
   ]
  },
  {
   "cell_type": "markdown",
   "id": "8c10aec5-9889-47cb-82e3-5c862b38d6b6",
   "metadata": {},
   "source": [
    "### TESTING"
   ]
  },
  {
   "cell_type": "code",
   "execution_count": 57,
   "id": "53b1f2a3-eca1-43a5-9bde-f875f4525a84",
   "metadata": {},
   "outputs": [],
   "source": [
    "upload_vocab = torch.load('../torch_models/vocab_obj_pytorch.pth')"
   ]
  },
  {
   "cell_type": "code",
   "execution_count": 58,
   "id": "bd71b10f-f23e-41dd-bbb0-799bcd6f5d17",
   "metadata": {},
   "outputs": [
    {
     "name": "stdout",
     "output_type": "stream",
     "text": [
      "Model's state_dict:\n",
      "embedding.weight \t torch.Size([107482, 300])\n",
      "lstm1.weight_ih_l0 \t torch.Size([512, 300])\n",
      "lstm1.weight_hh_l0 \t torch.Size([512, 128])\n",
      "lstm1.bias_ih_l0 \t torch.Size([512])\n",
      "lstm1.bias_hh_l0 \t torch.Size([512])\n",
      "lstm1.weight_ih_l0_reverse \t torch.Size([512, 300])\n",
      "lstm1.weight_hh_l0_reverse \t torch.Size([512, 128])\n",
      "lstm1.bias_ih_l0_reverse \t torch.Size([512])\n",
      "lstm1.bias_hh_l0_reverse \t torch.Size([512])\n",
      "lstm2.weight_ih_l0 \t torch.Size([512, 256])\n",
      "lstm2.weight_hh_l0 \t torch.Size([512, 128])\n",
      "lstm2.bias_ih_l0 \t torch.Size([512])\n",
      "lstm2.bias_hh_l0 \t torch.Size([512])\n",
      "lstm2.weight_ih_l0_reverse \t torch.Size([512, 256])\n",
      "lstm2.weight_hh_l0_reverse \t torch.Size([512, 128])\n",
      "lstm2.bias_ih_l0_reverse \t torch.Size([512])\n",
      "lstm2.bias_hh_l0_reverse \t torch.Size([512])\n",
      "linear1.weight \t torch.Size([512, 512])\n",
      "linear1.bias \t torch.Size([512])\n",
      "linear2.weight \t torch.Size([512, 512])\n",
      "linear2.bias \t torch.Size([512])\n",
      "linear_out.weight \t torch.Size([1, 512])\n",
      "linear_out.bias \t torch.Size([1])\n",
      "Optimizer's state_dict:\n",
      "state \t {}\n",
      "param_groups \t [{'lr': 0.0001, 'betas': (0.9, 0.999), 'eps': 1e-08, 'weight_decay': 0, 'amsgrad': False, 'maximize': False, 'foreach': None, 'capturable': False, 'params': [0, 1, 2, 3, 4, 5, 6, 7, 8, 9, 10, 11, 12, 13, 14, 15, 16, 17, 18, 19, 20, 21, 22]}]\n"
     ]
    }
   ],
   "source": [
    "# Define model\n",
    "class TheModelClass(nn.Module):\n",
    "    def __init__(self, embedding_matrix, lstm_hiden_size, dense_hiden_size):\n",
    "        super(TheModelClass, self).__init__()\n",
    "        max_features = embedding_matrix.shape[0]\n",
    "        embed_size = embedding_matrix.shape[1]\n",
    "        \n",
    "        self.embedding = nn.Embedding(max_features, embed_size)\n",
    "        self.embedding.weight = nn.Parameter(embedding_matrix.clone().detach())\n",
    "        self.embedding.weight.requires_grad = False\n",
    "        self.embedding_dropout = SpatialDropout(0.6)\n",
    "\n",
    "        self.lstm1 = nn.LSTM(embed_size, lstm_hiden_size, bidirectional=True, batch_first=True)\n",
    "        self.lstm2 = nn.LSTM(lstm_hiden_size * 2, lstm_hiden_size, bidirectional=True, batch_first=True)\n",
    "    \n",
    "        self.linear1 = nn.Linear(dense_hiden_size, dense_hiden_size)\n",
    "        self.linear2 = nn.Linear(dense_hiden_size, dense_hiden_size)\n",
    "        \n",
    "        self.linear_out = nn.Linear(dense_hiden_size, 1)\n",
    "        \n",
    "    def forward(self, x):\n",
    "        h_embedding = self.embedding(x)\n",
    "        h_embedding = self.embedding_dropout(h_embedding)\n",
    "        h_lstm1, _ = self.lstm1(h_embedding)\n",
    "        h_lstm2, _ = self.lstm2(h_lstm1)\n",
    "        \n",
    "        # global average pooling\n",
    "        avg_pool = torch.mean(h_lstm2, 1)\n",
    "        max_pool, _ = torch.max(h_lstm2, 1)\n",
    "        \n",
    "        h_conc = torch.cat((max_pool, avg_pool), 1)\n",
    "        h_conc_linear1  = relu(self.linear1(h_conc))\n",
    "        h_conc_linear2  = relu(self.linear2(h_conc))\n",
    "        \n",
    "        hidden = h_conc + h_conc_linear1 + h_conc_linear2       \n",
    "        result = self.linear_out(hidden)\n",
    "\n",
    "        return result\n",
    "\n",
    "model = TheModelClass(embedding_matrix, lstm_hiden_size, dense_hiden_size)\n",
    "# Setting our trainer\n",
    "optimizer = torch.optim.Adam(model.parameters(), lr=learning_rate)\n",
    "\n",
    "\n",
    "# Print model's state_dict\n",
    "print(\"Model's state_dict:\")\n",
    "for param_tensor in model.state_dict():\n",
    "    print(param_tensor, \"\\t\", model.state_dict()[param_tensor].size())\n",
    "\n",
    "# Print optimizer's state_dict\n",
    "print(\"Optimizer's state_dict:\")\n",
    "for var_name in optimizer.state_dict():\n",
    "    print(var_name, \"\\t\", optimizer.state_dict()[var_name])"
   ]
  },
  {
   "cell_type": "code",
   "execution_count": 59,
   "id": "f96b89be-d422-4707-9ee1-90d2d7c21062",
   "metadata": {},
   "outputs": [
    {
     "data": {
      "text/plain": [
       "TheModelClass(\n",
       "  (embedding): Embedding(107482, 300)\n",
       "  (embedding_dropout): SpatialDropout(p=0.6, inplace=False)\n",
       "  (lstm1): LSTM(300, 128, batch_first=True, bidirectional=True)\n",
       "  (lstm2): LSTM(256, 128, batch_first=True, bidirectional=True)\n",
       "  (linear1): Linear(in_features=512, out_features=512, bias=True)\n",
       "  (linear2): Linear(in_features=512, out_features=512, bias=True)\n",
       "  (linear_out): Linear(in_features=512, out_features=1, bias=True)\n",
       ")"
      ]
     },
     "execution_count": 59,
     "metadata": {},
     "output_type": "execute_result"
    }
   ],
   "source": [
    "upload_model = TheModelClass(embedding_matrix, lstm_hiden_size, dense_hiden_size)\n",
    "upload_model.load_state_dict(torch.load(f\"{PATH}/torch_model_{TODAY}.pth\"))\n",
    "upload_model.eval()"
   ]
  },
  {
   "cell_type": "code",
   "execution_count": 123,
   "id": "a6380499-fa0b-4562-8c63-f99f1ab2754d",
   "metadata": {},
   "outputs": [],
   "source": [
    "test_strings = [\"Any news on the prizes ? Monika Kaczmarek\", \"give us some more time🙌 We'll contact with you when it will be ready 🚀\",\"Hello Viktoryia Charnianina, is it critical to send the invoice within the specified period (last day of month - 5th of the next month)? I've send my invoice a bit earlier.\",\n",
    "                \"Hello everyone. Please tell me who I can contact about my vacation? I have some questions about Unused day off. Thanks.\",\n",
    "               \"Hi everyone! Hope you had a great Tuesday! Is there anybody who sells iPhone 12/13? I broke mine yesterday \",\n",
    "               \"Do we have any kind of comparison between Komfort and Komfort plus plans?\",\n",
    "\"What if somebody wants to stay on a Komfort plan further? Do they need to fill up a questionnaire?\",\n",
    "\"Nope smile You do not need to do anything. It will be prolonged automatically. \",\n",
    "\"\"\"Hi!\n",
    "Have I understood correctly that 'Declaration' that is mentioned above is called as \"Formularz - medical insurance\" in Sharepoint?\"\"\"\n",
    "\"I have found the answer))))\",\n",
    "\"General those who has Standard last year, you will be automatically moved to Komfort ( still it will be free of charge for you). If you do not want to have any package, this is the last moment for you to let me know. \",\n",
    "\"General some of you started to receive your PZU declarations. Please do not worry if you haven't received yours yet or if you have received one of them ( medical/life insurance) but haven't received the rest. You'll receive the remaining files next week. It's just to many declarations to deal with. Hope for your understanding\",\n",
    "\"please mind couple of things when you send me scans of your documents: 1) I just need PZU Life Insurance scan; 2) You need to send 1st and 2nd page as one PDF file and send it to me  ( just picture of your signature has no value); 3) Even if you sent a scan, you still need to bring/mail us the oginal ( also original of medical insurance if you have one). In case you haven't received password to your files, it is: 2022 \"]"
   ]
  },
  {
   "cell_type": "code",
   "execution_count": 124,
   "id": "51757ddf-0e78-4cc3-9685-7c8b3cf9be6c",
   "metadata": {},
   "outputs": [],
   "source": [
    "def determine_toxicity(text):\n",
    "    [replace_typical_misspell, clean_text, clean_numbers]\n",
    "    text = replace_typical_misspell(text)\n",
    "    text = clean_text(text)\n",
    "    text = clean_numbers(text)\n",
    "    \n",
    "    transformed = transformText([text], 100)\n",
    "    test_loader = DataLoader(transformed, batch_size=batch_size)\n",
    "    upload_model = TheModelClass(embedding_matrix, lstm_hiden_size, dense_hiden_size)\n",
    "    upload_model.load_state_dict(torch.load(f\"{PATH}/torch_model_{TODAY}.pth\"))\n",
    "    upload_model.eval()\n",
    "    test_predictions = []\n",
    "    for data in test_loader:\n",
    "        test_preds = upload_model(data)\n",
    "        test_predictions.extend(\n",
    "            [sigmoid(test_pred[0]) for test_pred in test_preds.detach().cpu().numpy()]\n",
    "        )\n",
    "    return test_predictions[0]\n"
   ]
  },
  {
   "cell_type": "code",
   "execution_count": 125,
   "id": "789e0fc3-a04d-4070-b378-06b35056000c",
   "metadata": {},
   "outputs": [],
   "source": [
    "def sigmoid(x):\n",
    "    return 1 / (1 + np.exp(-x))"
   ]
  },
  {
   "cell_type": "code",
   "execution_count": 126,
   "id": "34686250-e361-4d64-a4f9-d846a9f27e68",
   "metadata": {},
   "outputs": [
    {
     "name": "stderr",
     "output_type": "stream",
     "text": [
      "/tmp/ipykernel_100/3562846554.py:9: DeprecationWarning: an integer is required (got type numpy.float64).  Implicit conversion to integers using __int__ is deprecated, and may be removed in a future version of Python.\n",
      "  return torch.tensor(transformed_data, dtype=torch.int64)\n"
     ]
    },
    {
     "name": "stdout",
     "output_type": "stream",
     "text": [
      "Any news on the prizes ? Monika Kaczmarek, toxicity = 0.0026159089221749533\n",
      "give us some more time🙌 We'll contact with you when it will be ready 🚀, toxicity = 0.011255433559864048\n",
      "Hello Viktoryia Charnianina, is it critical to send the invoice within the specified period (last day of month - 5th of the next month)? I've send my invoice a bit earlier., toxicity = 0.0003022625042109019\n",
      "Hello everyone. Please tell me who I can contact about my vacation? I have some questions about Unused day off. Thanks., toxicity = 0.0004920312795431989\n",
      "Hi everyone! Hope you had a great Tuesday! Is there anybody who sells iPhone 12/13? I broke mine yesterday , toxicity = 0.0011299277615885526\n",
      "Do we have any kind of comparison between Komfort and Komfort plus plans?, toxicity = 0.0019972811668783636\n",
      "What if somebody wants to stay on a Komfort plan further? Do they need to fill up a questionnaire?, toxicity = 0.0012617091600208232\n",
      "Nope smile You do not need to do anything. It will be prolonged automatically. , toxicity = 0.003360231524546108\n",
      "Hi!\n",
      "Have I understood correctly that 'Declaration' that is mentioned above is called as \"Formularz - medical insurance\" in Sharepoint?I have found the answer)))), toxicity = 0.0005603974279454573\n",
      "General those who has Standard last year, you will be automatically moved to Komfort ( still it will be free of charge for you). If you do not want to have any package, this is the last moment for you to let me know. , toxicity = 0.00024520062870973705\n",
      "General some of you started to receive your PZU declarations. Please do not worry if you haven't received yours yet or if you have received one of them ( medical/life insurance) but haven't received the rest. You'll receive the remaining files next week. It's just to many declarations to deal with. Hope for your understanding, toxicity = 0.0003251691220798884\n",
      "please mind couple of things when you send me scans of your documents: 1) I just need PZU Life Insurance scan; 2) You need to send 1st and 2nd page as one PDF file and send it to me  ( just picture of your signature has no value); 3) Even if you sent a scan, you still need to bring/mail us the oginal ( also original of medical insurance if you have one). In case you haven't received password to your files, it is: 2022 , toxicity = 0.0009250543379086183\n"
     ]
    }
   ],
   "source": [
    "for text in test_strings:\n",
    "    print(f\"{text}, toxicity = {determine_toxicity(text)}\")"
   ]
  },
  {
   "cell_type": "code",
   "execution_count": 2,
   "id": "5cd53df6-3198-4761-a328-4b1351d16bc8",
   "metadata": {},
   "outputs": [],
   "source": [
    "import logging\n",
    "import boto3\n",
    "from botocore.exceptions import ClientError\n",
    "import os\n",
    "\n",
    "\n",
    "def upload_file(file_name, bucket, object_name=None):\n",
    "    \"\"\"Upload a file to an S3 bucket\n",
    "\n",
    "    :param file_name: File to upload\n",
    "    :param bucket: Bucket to upload to\n",
    "    :param object_name: S3 object name. If not specified then file_name is used\n",
    "    :return: True if file was uploaded, else False\n",
    "    \"\"\"\n",
    "\n",
    "    # If S3 object_name was not specified, use file_name\n",
    "    if object_name is None:\n",
    "        object_name = os.path.basename(file_name)\n",
    "\n",
    "    # Upload the file\n",
    "    s3_client = boto3.client('s3')\n",
    "    try:\n",
    "        response = s3_client.upload_file(file_name, bucket, object_name)\n",
    "    except ClientError as e:\n",
    "        logging.error(e)\n",
    "        return False\n",
    "    return True"
   ]
  },
  {
   "cell_type": "code",
   "execution_count": null,
   "id": "bfca8b2d-7381-4ba1-b291-fe03adafc964",
   "metadata": {},
   "outputs": [],
   "source": [
    "bucket = 'godelsagemaker'"
   ]
  },
  {
   "cell_type": "code",
   "execution_count": null,
   "id": "5c95b449-ff48-48ce-969a-783d513a242a",
   "metadata": {},
   "outputs": [],
   "source": []
  },
  {
   "cell_type": "code",
   "execution_count": null,
   "id": "a8d9cc1d-e21a-4492-9aa6-ec0e92f008a6",
   "metadata": {},
   "outputs": [],
   "source": []
  },
  {
   "cell_type": "code",
   "execution_count": null,
   "id": "d7b892f3-e35b-437e-aaeb-b8eb61cbba02",
   "metadata": {},
   "outputs": [],
   "source": []
  },
  {
   "cell_type": "code",
   "execution_count": 8,
   "id": "8aed8b4e-0b41-4978-a7b2-9e6c4c357c4b",
   "metadata": {},
   "outputs": [
    {
     "data": {
      "text/plain": [
       "0    1.0\n",
       "1    1.0\n",
       "2    0.0\n",
       "3    1.0\n",
       "Name: the_values, dtype: float32"
      ]
     },
     "execution_count": 8,
     "metadata": {},
     "output_type": "execute_result"
    }
   ],
   "source": [
    "a = pd.DataFrame([True, True, False, True], columns=['the_values'])\n",
    "a.the_values.astype('float32')"
   ]
  },
  {
   "cell_type": "code",
   "execution_count": null,
   "id": "81b29717-6ee2-4ee4-9df4-b0b9a3389d20",
   "metadata": {},
   "outputs": [],
   "source": []
  }
 ],
 "metadata": {
  "kernelspec": {
   "display_name": "godel:Python",
   "language": "python",
   "name": "conda-env-godel-py"
  },
  "language_info": {
   "codemirror_mode": {
    "name": "ipython",
    "version": 3
   },
   "file_extension": ".py",
   "mimetype": "text/x-python",
   "name": "python",
   "nbconvert_exporter": "python",
   "pygments_lexer": "ipython3",
   "version": "3.9.13"
  }
 },
 "nbformat": 4,
 "nbformat_minor": 5
}
